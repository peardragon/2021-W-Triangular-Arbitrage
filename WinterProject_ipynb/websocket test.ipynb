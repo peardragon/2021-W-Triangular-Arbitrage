{
 "cells": [
  {
   "cell_type": "code",
   "execution_count": 8,
   "id": "grateful-chapter",
   "metadata": {},
   "outputs": [],
   "source": [
    "import websockets\n",
    "import asyncio\n",
    "import json\n",
    "import uuid\n",
    "import multiprocessing as mp\n",
    "\n",
    "\n",
    "async def __connect_socket(self):\n",
    "    uri = \"wss://api.upbit.com/websocket/v1\"\n",
    "    async with websockets.connect(uri, ping_interval=None) as websocket:\n",
    "        data = [{\"ticket\": str(uuid.uuid4())[:6]}, {\"type\": \"orderbook\", \"codes\": \"KRW-BTC\"}]\n",
    "        await websocket.send(json.dumps(data))\n",
    "\n",
    "        \n",
    "        recv_data = await websocket.recv()\n",
    "        recv_data = recv_data.decode('utf8')\n",
    "        recv_data = json.loads(recv_data)\n",
    "        print(recv_data)"
   ]
  },
  {
   "cell_type": "code",
   "execution_count": 3,
   "id": "familiar-scanning",
   "metadata": {},
   "outputs": [
    {
     "name": "stdout",
     "output_type": "stream",
     "text": [
      "{'type': 'ticker', 'code': 'KRW-CPT', 'opening_price': 2.34, 'high_price': 2.41, 'low_price': 2.26, 'trade_price': 2.33, 'prev_closing_price': 2.33, 'acc_trade_price': 111695336.2245503, 'change': 'EVEN', 'change_price': 0.0, 'signed_change_price': 0.0, 'change_rate': 0, 'signed_change_rate': 0, 'ask_bid': 'ASK', 'trade_volume': 7066.7413, 'acc_trade_volume': 48098585.06998926, 'trade_date': '20200228', 'trade_time': '020122', 'trade_timestamp': 1582855282000, 'acc_ask_volume': 38686887.00826358, 'acc_bid_volume': 9411698.06172568, 'highest_52_week_price': 14.3, 'highest_52_week_date': '2019-06-07', 'lowest_52_week_price': 1.66, 'lowest_52_week_date': '2020-01-12', 'trade_status': None, 'market_state': 'DELISTED', 'market_state_for_ios': None, 'is_trading_suspended': False, 'delisting_date': {'year': 2020, 'month': 2, 'day': 28}, 'market_warning': 'CAUTION', 'timestamp': 1614146429706, 'acc_trade_price_24h': 865713.26474799, 'acc_trade_volume_24h': 371550.75740257, 'stream_type': 'SNAPSHOT'}\n",
      "{'type': 'ticker', 'code': 'KRW-ADA', 'opening_price': 1415.0, 'high_price': 1430.0, 'low_price': 1395.0, 'trade_price': 1405.0, 'prev_closing_price': 1415.0, 'acc_trade_price': 92904288376.71915, 'change': 'FALL', 'change_price': 10.0, 'signed_change_price': -10.0, 'change_rate': 0.0070671378, 'signed_change_rate': -0.0070671378, 'ask_bid': 'ASK', 'trade_volume': 129.0607785, 'acc_trade_volume': 65767355.70441407, 'trade_date': '20210303', 'trade_time': '163154', 'trade_timestamp': 1614789114000, 'acc_ask_volume': 38987226.29557093, 'acc_bid_volume': 26780129.40884314, 'highest_52_week_price': 1740.0, 'highest_52_week_date': '2021-02-27', 'lowest_52_week_price': 26.2, 'lowest_52_week_date': '2020-03-13', 'trade_status': None, 'market_state': 'ACTIVE', 'market_state_for_ios': None, 'is_trading_suspended': False, 'delisting_date': None, 'market_warning': 'NONE', 'timestamp': 1614789114808, 'acc_trade_price_24h': 109491047193.5686, 'acc_trade_volume_24h': 77574004.95733966, 'stream_type': 'SNAPSHOT'}\n",
      "{'type': 'ticker', 'code': 'KRW-ADA', 'opening_price': 1415.0, 'high_price': 1430.0, 'low_price': 1395.0, 'trade_price': 1410.0, 'prev_closing_price': 1415.0, 'acc_trade_price': 92904300726.71915, 'change': 'FALL', 'change_price': 5.0, 'signed_change_price': -5.0, 'change_rate': 0.0035335689, 'signed_change_rate': -0.0035335689, 'ask_bid': 'BID', 'trade_volume': 8.75886524, 'acc_trade_volume': 65767364.46327931, 'trade_date': '20210303', 'trade_time': '163157', 'trade_timestamp': 1614789117000, 'acc_ask_volume': 38987226.29557093, 'acc_bid_volume': 26780138.16770838, 'highest_52_week_price': 1740.0, 'highest_52_week_date': '2021-02-27', 'lowest_52_week_price': 26.2, 'lowest_52_week_date': '2020-03-13', 'trade_status': None, 'market_state': 'ACTIVE', 'market_state_for_ios': None, 'is_trading_suspended': False, 'delisting_date': None, 'market_warning': 'NONE', 'timestamp': 1614789117678, 'acc_trade_price_24h': 109491047193.5686, 'acc_trade_volume_24h': 77574004.95733966, 'stream_type': 'REALTIME'}\n",
      "{'type': 'ticker', 'code': 'KRW-ADA', 'opening_price': 1415.0, 'high_price': 1430.0, 'low_price': 1395.0, 'trade_price': 1405.0, 'prev_closing_price': 1415.0, 'acc_trade_price': 92904852015.86156, 'change': 'FALL', 'change_price': 10.0, 'signed_change_price': -10.0, 'change_rate': 0.0070671378, 'signed_change_rate': -0.0070671378, 'ask_bid': 'ASK', 'trade_volume': 392.37661382, 'acc_trade_volume': 65767756.83989313, 'trade_date': '20210303', 'trade_time': '163157', 'trade_timestamp': 1614789117000, 'acc_ask_volume': 38987618.67218475, 'acc_bid_volume': 26780138.16770838, 'highest_52_week_price': 1740.0, 'highest_52_week_date': '2021-02-27', 'lowest_52_week_price': 26.2, 'lowest_52_week_date': '2020-03-13', 'trade_status': None, 'market_state': 'ACTIVE', 'market_state_for_ios': None, 'is_trading_suspended': False, 'delisting_date': None, 'market_warning': 'NONE', 'timestamp': 1614789118207, 'acc_trade_price_24h': 109491047193.5686, 'acc_trade_volume_24h': 77574004.95733966, 'stream_type': 'REALTIME'}\n",
      "{'type': 'ticker', 'code': 'KRW-ADA', 'opening_price': 1415.0, 'high_price': 1430.0, 'low_price': 1395.0, 'trade_price': 1410.0, 'prev_closing_price': 1415.0, 'acc_trade_price': 92904852015.86156, 'change': 'FALL', 'change_price': 5.0, 'signed_change_price': -5.0, 'change_rate': 0.0035335689, 'signed_change_rate': -0.0035335689, 'ask_bid': 'ASK', 'trade_volume': 392.37661382, 'acc_trade_volume': 65767756.83989313, 'trade_date': '20210303', 'trade_time': '163157', 'trade_timestamp': 1614789117000, 'acc_ask_volume': 38987618.67218475, 'acc_bid_volume': 26780138.16770838, 'highest_52_week_price': 1740.0, 'highest_52_week_date': '2021-02-27', 'lowest_52_week_price': 26.2, 'lowest_52_week_date': '2020-03-13', 'trade_status': None, 'market_state': 'ACTIVE', 'market_state_for_ios': None, 'is_trading_suspended': False, 'delisting_date': None, 'market_warning': 'NONE', 'timestamp': 1614789118226, 'acc_trade_price_24h': 109491047193.5686, 'acc_trade_volume_24h': 77574004.95733966, 'stream_type': 'REALTIME'}\n",
      "{'type': 'ticker', 'code': 'KRW-ADA', 'opening_price': 1415.0, 'high_price': 1430.0, 'low_price': 1395.0, 'trade_price': 1405.0, 'prev_closing_price': 1415.0, 'acc_trade_price': 92904873375.86156, 'change': 'FALL', 'change_price': 10.0, 'signed_change_price': -10.0, 'change_rate': 0.0070671378, 'signed_change_rate': -0.0070671378, 'ask_bid': 'ASK', 'trade_volume': 15.20284697, 'acc_trade_volume': 65767772.0427401, 'trade_date': '20210303', 'trade_time': '163157', 'trade_timestamp': 1614789117000, 'acc_ask_volume': 38987633.87503172, 'acc_bid_volume': 26780138.16770838, 'highest_52_week_price': 1740.0, 'highest_52_week_date': '2021-02-27', 'lowest_52_week_price': 26.2, 'lowest_52_week_date': '2020-03-13', 'trade_status': None, 'market_state': 'ACTIVE', 'market_state_for_ios': None, 'is_trading_suspended': False, 'delisting_date': None, 'market_warning': 'NONE', 'timestamp': 1614789118227, 'acc_trade_price_24h': 109491047193.5686, 'acc_trade_volume_24h': 77574004.95733966, 'stream_type': 'REALTIME'}\n",
      "{'type': 'ticker', 'code': 'KRW-ADA', 'opening_price': 1415.0, 'high_price': 1430.0, 'low_price': 1395.0, 'trade_price': 1405.0, 'prev_closing_price': 1415.0, 'acc_trade_price': 92904934190.46155, 'change': 'FALL', 'change_price': 10.0, 'signed_change_price': -10.0, 'change_rate': 0.0070671378, 'signed_change_rate': -0.0070671378, 'ask_bid': 'ASK', 'trade_volume': 43.28441281, 'acc_trade_volume': 65767815.32715291, 'trade_date': '20210303', 'trade_time': '163157', 'trade_timestamp': 1614789117000, 'acc_ask_volume': 38987677.15944453, 'acc_bid_volume': 26780138.16770838, 'highest_52_week_price': 1740.0, 'highest_52_week_date': '2021-02-27', 'lowest_52_week_price': 26.2, 'lowest_52_week_date': '2020-03-13', 'trade_status': None, 'market_state': 'ACTIVE', 'market_state_for_ios': None, 'is_trading_suspended': False, 'delisting_date': None, 'market_warning': 'NONE', 'timestamp': 1614789118244, 'acc_trade_price_24h': 109491047193.5686, 'acc_trade_volume_24h': 77574004.95733966, 'stream_type': 'REALTIME'}\n",
      "{'type': 'ticker', 'code': 'KRW-ADA', 'opening_price': 1415.0, 'high_price': 1430.0, 'low_price': 1395.0, 'trade_price': 1405.0, 'prev_closing_price': 1415.0, 'acc_trade_price': 92904944190.46155, 'change': 'FALL', 'change_price': 10.0, 'signed_change_price': -10.0, 'change_rate': 0.0070671378, 'signed_change_rate': -0.0070671378, 'ask_bid': 'ASK', 'trade_volume': 7.11743772, 'acc_trade_volume': 65767822.44459063, 'trade_date': '20210303', 'trade_time': '163157', 'trade_timestamp': 1614789117000, 'acc_ask_volume': 38987684.27688225, 'acc_bid_volume': 26780138.16770838, 'highest_52_week_price': 1740.0, 'highest_52_week_date': '2021-02-27', 'lowest_52_week_price': 26.2, 'lowest_52_week_date': '2020-03-13', 'trade_status': None, 'market_state': 'ACTIVE', 'market_state_for_ios': None, 'is_trading_suspended': False, 'delisting_date': None, 'market_warning': 'NONE', 'timestamp': 1614789118271, 'acc_trade_price_24h': 109491047193.5686, 'acc_trade_volume_24h': 77574004.95733966, 'stream_type': 'REALTIME'}\n",
      "{'type': 'ticker', 'code': 'KRW-ADA', 'opening_price': 1415.0, 'high_price': 1430.0, 'low_price': 1395.0, 'trade_price': 1405.0, 'prev_closing_price': 1415.0, 'acc_trade_price': 92905644190.46153, 'change': 'FALL', 'change_price': 10.0, 'signed_change_price': -10.0, 'change_rate': 0.0070671378, 'signed_change_rate': -0.0070671378, 'ask_bid': 'ASK', 'trade_volume': 498.22064056, 'acc_trade_volume': 65768320.66523119, 'trade_date': '20210303', 'trade_time': '163157', 'trade_timestamp': 1614789117000, 'acc_ask_volume': 38988182.49752281, 'acc_bid_volume': 26780138.16770838, 'highest_52_week_price': 1740.0, 'highest_52_week_date': '2021-02-27', 'lowest_52_week_price': 26.2, 'lowest_52_week_date': '2020-03-13', 'trade_status': None, 'market_state': 'ACTIVE', 'market_state_for_ios': None, 'is_trading_suspended': False, 'delisting_date': None, 'market_warning': 'NONE', 'timestamp': 1614789118271, 'acc_trade_price_24h': 109491047193.5686, 'acc_trade_volume_24h': 77574004.95733966, 'stream_type': 'REALTIME'}\n"
     ]
    },
    {
     "name": "stdout",
     "output_type": "stream",
     "text": [
      "{'type': 'ticker', 'code': 'KRW-ADA', 'opening_price': 1415.0, 'high_price': 1430.0, 'low_price': 1395.0, 'trade_price': 1405.0, 'prev_closing_price': 1415.0, 'acc_trade_price': 92905744190.46153, 'change': 'FALL', 'change_price': 10.0, 'signed_change_price': -10.0, 'change_rate': 0.0070671378, 'signed_change_rate': -0.0070671378, 'ask_bid': 'ASK', 'trade_volume': 71.17437722, 'acc_trade_volume': 65768391.83960841, 'trade_date': '20210303', 'trade_time': '163157', 'trade_timestamp': 1614789117000, 'acc_ask_volume': 38988253.67190003, 'acc_bid_volume': 26780138.16770838, 'highest_52_week_price': 1740.0, 'highest_52_week_date': '2021-02-27', 'lowest_52_week_price': 26.2, 'lowest_52_week_date': '2020-03-13', 'trade_status': None, 'market_state': 'ACTIVE', 'market_state_for_ios': None, 'is_trading_suspended': False, 'delisting_date': None, 'market_warning': 'NONE', 'timestamp': 1614789118309, 'acc_trade_price_24h': 109491047193.5686, 'acc_trade_volume_24h': 77574004.95733966, 'stream_type': 'REALTIME'}\n",
      "{'type': 'ticker', 'code': 'KRW-ADA', 'opening_price': 1415.0, 'high_price': 1430.0, 'low_price': 1395.0, 'trade_price': 1410.0, 'prev_closing_price': 1415.0, 'acc_trade_price': 92915316449.31432, 'change': 'FALL', 'change_price': 5.0, 'signed_change_price': -5.0, 'change_rate': 0.0035335689, 'signed_change_rate': -0.0035335689, 'ask_bid': 'ASK', 'trade_volume': 355.87188612, 'acc_trade_volume': 65775204.83523317, 'trade_date': '20210303', 'trade_time': '163157', 'trade_timestamp': 1614789117000, 'acc_ask_volume': 38995066.66752479, 'acc_bid_volume': 26780138.16770838, 'highest_52_week_price': 1740.0, 'highest_52_week_date': '2021-02-27', 'lowest_52_week_price': 26.2, 'lowest_52_week_date': '2020-03-13', 'trade_status': None, 'market_state': 'ACTIVE', 'market_state_for_ios': None, 'is_trading_suspended': False, 'delisting_date': None, 'market_warning': 'NONE', 'timestamp': 1614789118435, 'acc_trade_price_24h': 109491047193.5686, 'acc_trade_volume_24h': 77574004.95733966, 'stream_type': 'REALTIME'}\n",
      "{'type': 'ticker', 'code': 'KRW-ADA', 'opening_price': 1415.0, 'high_price': 1430.0, 'low_price': 1395.0, 'trade_price': 1405.0, 'prev_closing_price': 1415.0, 'acc_trade_price': 92908744190.46152, 'change': 'FALL', 'change_price': 10.0, 'signed_change_price': -10.0, 'change_rate': 0.0070671378, 'signed_change_rate': -0.0070671378, 'ask_bid': 'ASK', 'trade_volume': 2135.23131672, 'acc_trade_volume': 65770527.07092513, 'trade_date': '20210303', 'trade_time': '163157', 'trade_timestamp': 1614789117000, 'acc_ask_volume': 38990388.90321675, 'acc_bid_volume': 26780138.16770838, 'highest_52_week_price': 1740.0, 'highest_52_week_date': '2021-02-27', 'lowest_52_week_price': 26.2, 'lowest_52_week_date': '2020-03-13', 'trade_status': None, 'market_state': 'ACTIVE', 'market_state_for_ios': None, 'is_trading_suspended': False, 'delisting_date': None, 'market_warning': 'NONE', 'timestamp': 1614789118341, 'acc_trade_price_24h': 109491047193.5686, 'acc_trade_volume_24h': 77574004.95733966, 'stream_type': 'REALTIME'}\n",
      "{'type': 'ticker', 'code': 'KRW-ADA', 'opening_price': 1415.0, 'high_price': 1430.0, 'low_price': 1395.0, 'trade_price': 1405.0, 'prev_closing_price': 1415.0, 'acc_trade_price': 92914049354.96152, 'change': 'FALL', 'change_price': 10.0, 'signed_change_price': -10.0, 'change_rate': 0.0070671378, 'signed_change_rate': -0.0070671378, 'ask_bid': 'ASK', 'trade_volume': 3775.91779359, 'acc_trade_volume': 65774302.98871872, 'trade_date': '20210303', 'trade_time': '163157', 'trade_timestamp': 1614789117000, 'acc_ask_volume': 38994164.82101034, 'acc_bid_volume': 26780138.16770838, 'highest_52_week_price': 1740.0, 'highest_52_week_date': '2021-02-27', 'lowest_52_week_price': 26.2, 'lowest_52_week_date': '2020-03-13', 'trade_status': None, 'market_state': 'ACTIVE', 'market_state_for_ios': None, 'is_trading_suspended': False, 'delisting_date': None, 'market_warning': 'NONE', 'timestamp': 1614789118342, 'acc_trade_price_24h': 109491047193.5686, 'acc_trade_volume_24h': 77574004.95733966, 'stream_type': 'REALTIME'}\n",
      "{'type': 'ticker', 'code': 'KRW-ADA', 'opening_price': 1415.0, 'high_price': 1430.0, 'low_price': 1395.0, 'trade_price': 1405.0, 'prev_closing_price': 1415.0, 'acc_trade_price': 92914241849.71413, 'change': 'FALL', 'change_price': 10.0, 'signed_change_price': -10.0, 'change_rate': 0.0070671378, 'signed_change_rate': -0.0070671378, 'ask_bid': 'ASK', 'trade_volume': 137.00694136, 'acc_trade_volume': 65774439.99566008, 'trade_date': '20210303', 'trade_time': '163157', 'trade_timestamp': 1614789117000, 'acc_ask_volume': 38994301.8279517, 'acc_bid_volume': 26780138.16770838, 'highest_52_week_price': 1740.0, 'highest_52_week_date': '2021-02-27', 'lowest_52_week_price': 26.2, 'lowest_52_week_date': '2020-03-13', 'trade_status': None, 'market_state': 'ACTIVE', 'market_state_for_ios': None, 'is_trading_suspended': False, 'delisting_date': None, 'market_warning': 'NONE', 'timestamp': 1614789118342, 'acc_trade_price_24h': 109491047193.5686, 'acc_trade_volume_24h': 77574004.95733966, 'stream_type': 'REALTIME'}\n",
      "{'type': 'ticker', 'code': 'KRW-ADA', 'opening_price': 1415.0, 'high_price': 1430.0, 'low_price': 1395.0, 'trade_price': 1405.0, 'prev_closing_price': 1415.0, 'acc_trade_price': 92914310649.31432, 'change': 'FALL', 'change_price': 10.0, 'signed_change_price': -10.0, 'change_rate': 0.0070671378, 'signed_change_rate': -0.0070671378, 'ask_bid': 'ASK', 'trade_volume': 48.96768697, 'acc_trade_volume': 65774488.96334705, 'trade_date': '20210303', 'trade_time': '163157', 'trade_timestamp': 1614789117000, 'acc_ask_volume': 38994350.79563867, 'acc_bid_volume': 26780138.16770838, 'highest_52_week_price': 1740.0, 'highest_52_week_date': '2021-02-27', 'lowest_52_week_price': 26.2, 'lowest_52_week_date': '2020-03-13', 'trade_status': None, 'market_state': 'ACTIVE', 'market_state_for_ios': None, 'is_trading_suspended': False, 'delisting_date': None, 'market_warning': 'NONE', 'timestamp': 1614789118342, 'acc_trade_price_24h': 109491047193.5686, 'acc_trade_volume_24h': 77574004.95733966, 'stream_type': 'REALTIME'}\n",
      "{'type': 'ticker', 'code': 'KRW-ADA', 'opening_price': 1415.0, 'high_price': 1430.0, 'low_price': 1395.0, 'trade_price': 1405.0, 'prev_closing_price': 1415.0, 'acc_trade_price': 92914816449.31432, 'change': 'FALL', 'change_price': 10.0, 'signed_change_price': -10.0, 'change_rate': 0.0070671378, 'signed_change_rate': -0.0070671378, 'ask_bid': 'ASK', 'trade_volume': 360.0, 'acc_trade_volume': 65774848.96334705, 'trade_date': '20210303', 'trade_time': '163157', 'trade_timestamp': 1614789117000, 'acc_ask_volume': 38994710.79563867, 'acc_bid_volume': 26780138.16770838, 'highest_52_week_price': 1740.0, 'highest_52_week_date': '2021-02-27', 'lowest_52_week_price': 26.2, 'lowest_52_week_date': '2020-03-13', 'trade_status': None, 'market_state': 'ACTIVE', 'market_state_for_ios': None, 'is_trading_suspended': False, 'delisting_date': None, 'market_warning': 'NONE', 'timestamp': 1614789118342, 'acc_trade_price_24h': 109491047193.5686, 'acc_trade_volume_24h': 77574004.95733966, 'stream_type': 'REALTIME'}\n",
      "{'type': 'ticker', 'code': 'KRW-ADA', 'opening_price': 1415.0, 'high_price': 1430.0, 'low_price': 1395.0, 'trade_price': 1405.0, 'prev_closing_price': 1415.0, 'acc_trade_price': 92915316449.31432, 'change': 'FALL', 'change_price': 10.0, 'signed_change_price': -10.0, 'change_rate': 0.0070671378, 'signed_change_rate': -0.0070671378, 'ask_bid': 'ASK', 'trade_volume': 355.87188612, 'acc_trade_volume': 65775204.83523317, 'trade_date': '20210303', 'trade_time': '163157', 'trade_timestamp': 1614789117000, 'acc_ask_volume': 38995066.66752479, 'acc_bid_volume': 26780138.16770838, 'highest_52_week_price': 1740.0, 'highest_52_week_date': '2021-02-27', 'lowest_52_week_price': 26.2, 'lowest_52_week_date': '2020-03-13', 'trade_status': None, 'market_state': 'ACTIVE', 'market_state_for_ios': None, 'is_trading_suspended': False, 'delisting_date': None, 'market_warning': 'NONE', 'timestamp': 1614789118342, 'acc_trade_price_24h': 109491047193.5686, 'acc_trade_volume_24h': 77574004.95733966, 'stream_type': 'REALTIME'}\n",
      "{'type': 'ticker', 'code': 'KRW-ADA', 'opening_price': 1415.0, 'high_price': 1430.0, 'low_price': 1395.0, 'trade_price': 1405.0, 'prev_closing_price': 1415.0, 'acc_trade_price': 92915336378.39232, 'change': 'FALL', 'change_price': 10.0, 'signed_change_price': -10.0, 'change_rate': 0.0070671378, 'signed_change_rate': -0.0070671378, 'ask_bid': 'ASK', 'trade_volume': 14.18439716, 'acc_trade_volume': 65775219.01963033, 'trade_date': '20210303', 'trade_time': '163157', 'trade_timestamp': 1614789117000, 'acc_ask_volume': 38995080.85192195, 'acc_bid_volume': 26780138.16770838, 'highest_52_week_price': 1740.0, 'highest_52_week_date': '2021-02-27', 'lowest_52_week_price': 26.2, 'lowest_52_week_date': '2020-03-13', 'trade_status': None, 'market_state': 'ACTIVE', 'market_state_for_ios': None, 'is_trading_suspended': False, 'delisting_date': None, 'market_warning': 'NONE', 'timestamp': 1614789118378, 'acc_trade_price_24h': 109491047193.5686, 'acc_trade_volume_24h': 77574004.95733966, 'stream_type': 'REALTIME'}\n",
      "{'type': 'ticker', 'code': 'KRW-ADA', 'opening_price': 1415.0, 'high_price': 1430.0, 'low_price': 1395.0, 'trade_price': 1405.0, 'prev_closing_price': 1415.0, 'acc_trade_price': 92916336378.39232, 'change': 'FALL', 'change_price': 10.0, 'signed_change_price': -10.0, 'change_rate': 0.0070671378, 'signed_change_rate': -0.0070671378, 'ask_bid': 'ASK', 'trade_volume': 711.74377224, 'acc_trade_volume': 65775930.76340257, 'trade_date': '20210303', 'trade_time': '163157', 'trade_timestamp': 1614789117000, 'acc_ask_volume': 38995792.59569419, 'acc_bid_volume': 26780138.16770838, 'highest_52_week_price': 1740.0, 'highest_52_week_date': '2021-02-27', 'lowest_52_week_price': 26.2, 'lowest_52_week_date': '2020-03-13', 'trade_status': None, 'market_state': 'ACTIVE', 'market_state_for_ios': None, 'is_trading_suspended': False, 'delisting_date': None, 'market_warning': 'NONE', 'timestamp': 1614789118378, 'acc_trade_price_24h': 109491047193.5686, 'acc_trade_volume_24h': 77574004.95733966, 'stream_type': 'REALTIME'}\n",
      "{'type': 'ticker', 'code': 'KRW-ADA', 'opening_price': 1415.0, 'high_price': 1430.0, 'low_price': 1395.0, 'trade_price': 1405.0, 'prev_closing_price': 1415.0, 'acc_trade_price': 92920189238.4633, 'change': 'FALL', 'change_price': 10.0, 'signed_change_price': -10.0, 'change_rate': 0.0070671378, 'signed_change_rate': -0.0070671378, 'ask_bid': 'ASK', 'trade_volume': 2742.24916084, 'acc_trade_volume': 65778673.01256341, 'trade_date': '20210303', 'trade_time': '163157', 'trade_timestamp': 1614789117000, 'acc_ask_volume': 38998534.84485503, 'acc_bid_volume': 26780138.16770838, 'highest_52_week_price': 1740.0, 'highest_52_week_date': '2021-02-27', 'lowest_52_week_price': 26.2, 'lowest_52_week_date': '2020-03-13', 'trade_status': None, 'market_state': 'ACTIVE', 'market_state_for_ios': None, 'is_trading_suspended': False, 'delisting_date': None, 'market_warning': 'NONE', 'timestamp': 1614789118379, 'acc_trade_price_24h': 109491047193.5686, 'acc_trade_volume_24h': 77574004.95733966, 'stream_type': 'REALTIME'}\n",
      "{'type': 'ticker', 'code': 'KRW-ADA', 'opening_price': 1415.0, 'high_price': 1430.0, 'low_price': 1395.0, 'trade_price': 1405.0, 'prev_closing_price': 1415.0, 'acc_trade_price': 92920289685.2399, 'change': 'FALL', 'change_price': 10.0, 'signed_change_price': -10.0, 'change_rate': 0.0070671378, 'signed_change_rate': -0.0070671378, 'ask_bid': 'ASK', 'trade_volume': 71.49236769, 'acc_trade_volume': 65778744.5049311, 'trade_date': '20210303', 'trade_time': '163157', 'trade_timestamp': 1614789117000, 'acc_ask_volume': 38998606.33722272, 'acc_bid_volume': 26780138.16770838, 'highest_52_week_price': 1740.0, 'highest_52_week_date': '2021-02-27', 'lowest_52_week_price': 26.2, 'lowest_52_week_date': '2020-03-13', 'trade_status': None, 'market_state': 'ACTIVE', 'market_state_for_ios': None, 'is_trading_suspended': False, 'delisting_date': None, 'market_warning': 'NONE', 'timestamp': 1614789118402, 'acc_trade_price_24h': 109491047193.5686, 'acc_trade_volume_24h': 77574004.95733966, 'stream_type': 'REALTIME'}\n",
      "{'type': 'ticker', 'code': 'KRW-ADA', 'opening_price': 1415.0, 'high_price': 1430.0, 'low_price': 1395.0, 'trade_price': 1405.0, 'prev_closing_price': 1415.0, 'acc_trade_price': 92921289185.48978, 'change': 'FALL', 'change_price': 10.0, 'signed_change_price': -10.0, 'change_rate': 0.0070671378, 'signed_change_rate': -0.0070671378, 'ask_bid': 'ASK', 'trade_volume': 711.3880782, 'acc_trade_volume': 65779455.8930093, 'trade_date': '20210303', 'trade_time': '163157', 'trade_timestamp': 1614789117000, 'acc_ask_volume': 38999317.72530092, 'acc_bid_volume': 26780138.16770838, 'highest_52_week_price': 1740.0, 'highest_52_week_date': '2021-02-27', 'lowest_52_week_price': 26.2, 'lowest_52_week_date': '2020-03-13', 'trade_status': None, 'market_state': 'ACTIVE', 'market_state_for_ios': None, 'is_trading_suspended': False, 'delisting_date': None, 'market_warning': 'NONE', 'timestamp': 1614789118440, 'acc_trade_price_24h': 109491047193.5686, 'acc_trade_volume_24h': 77574004.95733966, 'stream_type': 'REALTIME'}\n",
      "{'type': 'ticker', 'code': 'KRW-ADA', 'opening_price': 1415.0, 'high_price': 1430.0, 'low_price': 1395.0, 'trade_price': 1405.0, 'prev_closing_price': 1415.0, 'acc_trade_price': 92921309185.48978, 'change': 'FALL', 'change_price': 10.0, 'signed_change_price': -10.0, 'change_rate': 0.0070671378, 'signed_change_rate': -0.0070671378, 'ask_bid': 'ASK', 'trade_volume': 14.23487544, 'acc_trade_volume': 65779470.12788474, 'trade_date': '20210303', 'trade_time': '163157', 'trade_timestamp': 1614789117000, 'acc_ask_volume': 38999331.96017636, 'acc_bid_volume': 26780138.16770838, 'highest_52_week_price': 1740.0, 'highest_52_week_date': '2021-02-27', 'lowest_52_week_price': 26.2, 'lowest_52_week_date': '2020-03-13', 'trade_status': None, 'market_state': 'ACTIVE', 'market_state_for_ios': None, 'is_trading_suspended': False, 'delisting_date': None, 'market_warning': 'NONE', 'timestamp': 1614789118440, 'acc_trade_price_24h': 109491047193.5686, 'acc_trade_volume_24h': 77574004.95733966, 'stream_type': 'REALTIME'}\n",
      "{'type': 'ticker', 'code': 'KRW-ADA', 'opening_price': 1415.0, 'high_price': 1430.0, 'low_price': 1395.0, 'trade_price': 1405.0, 'prev_closing_price': 1415.0, 'acc_trade_price': 92922300726.71915, 'change': 'FALL', 'change_price': 10.0, 'signed_change_price': -10.0, 'change_rate': 0.0070671378, 'signed_change_rate': -0.0070671378, 'ask_bid': 'ASK', 'trade_volume': 705.72329493, 'acc_trade_volume': 65780175.85117967, 'trade_date': '20210303', 'trade_time': '163157', 'trade_timestamp': 1614789117000, 'acc_ask_volume': 39000037.68347129, 'acc_bid_volume': 26780138.16770838, 'highest_52_week_price': 1740.0, 'highest_52_week_date': '2021-02-27', 'lowest_52_week_price': 26.2, 'lowest_52_week_date': '2020-03-13', 'trade_status': None, 'market_state': 'ACTIVE', 'market_state_for_ios': None, 'is_trading_suspended': False, 'delisting_date': None, 'market_warning': 'NONE', 'timestamp': 1614789118462, 'acc_trade_price_24h': 109491047193.5686, 'acc_trade_volume_24h': 77574004.95733966, 'stream_type': 'REALTIME'}\n"
     ]
    },
    {
     "name": "stdout",
     "output_type": "stream",
     "text": [
      "close\n"
     ]
    }
   ],
   "source": [
    "import websocket\n",
    "import json\n",
    "try:\n",
    "    import thread\n",
    "except ImportError:\n",
    "    import _thread as thread\n",
    "import time\n",
    "\n",
    "def on_message(ws, message):\n",
    "    get_message = json.loads(message.decode('utf-8'))\n",
    "    print(get_message)\n",
    "\n",
    "def on_error(ws, error):\n",
    "    print(error)\n",
    "\n",
    "def on_close(ws):\n",
    "    print(\"close\")\n",
    "\n",
    "def on_open(ws):\n",
    "    def run(*args):\n",
    "        sendData = '[{\"ticket\":\"test\"},{\"type\":\"ticker\",\"codes\":[\"KRW-CPT\",\"KRW-ADA\"]}]'\n",
    "        ws.send(sendData)\n",
    "        ws.close()\n",
    "    thread.start_new_thread(run, ())\n",
    "\n",
    "\n",
    "if __name__ == \"__main__\":\n",
    "\n",
    "    ws = websocket.WebSocketApp(\"wss://api.upbit.com/websocket/v1\",\n",
    "                              on_message = on_message,\n",
    "                              on_error = on_error,\n",
    "                              on_close = on_close)\n",
    "    ws.on_open = on_open\n",
    "    ws.run_forever()"
   ]
  },
  {
   "cell_type": "code",
   "execution_count": 10,
   "id": "directed-korea",
   "metadata": {},
   "outputs": [
    {
     "ename": "RuntimeError",
     "evalue": "asyncio.run() cannot be called from a running event loop",
     "output_type": "error",
     "traceback": [
      "\u001b[1;31m---------------------------------------------------------------------------\u001b[0m",
      "\u001b[1;31mRuntimeError\u001b[0m                              Traceback (most recent call last)",
      "\u001b[1;32m<ipython-input-10-1868d284142a>\u001b[0m in \u001b[0;36m<module>\u001b[1;34m\u001b[0m\n\u001b[0;32m     27\u001b[0m     \u001b[1;32mawait\u001b[0m \u001b[0mupbit_ws_client\u001b[0m\u001b[1;33m(\u001b[0m\u001b[1;33m)\u001b[0m\u001b[1;33m\u001b[0m\u001b[1;33m\u001b[0m\u001b[0m\n\u001b[0;32m     28\u001b[0m \u001b[1;33m\u001b[0m\u001b[0m\n\u001b[1;32m---> 29\u001b[1;33m \u001b[0masyncio\u001b[0m\u001b[1;33m.\u001b[0m\u001b[0mrun\u001b[0m\u001b[1;33m(\u001b[0m\u001b[0mmain\u001b[0m\u001b[1;33m(\u001b[0m\u001b[1;33m)\u001b[0m\u001b[1;33m)\u001b[0m\u001b[1;33m\u001b[0m\u001b[1;33m\u001b[0m\u001b[0m\n\u001b[0m",
      "\u001b[1;32m~\\anaconda3\\envs\\winter_project_env\\lib\\asyncio\\runners.py\u001b[0m in \u001b[0;36mrun\u001b[1;34m(main, debug)\u001b[0m\n\u001b[0;32m     31\u001b[0m     \"\"\"\n\u001b[0;32m     32\u001b[0m     \u001b[1;32mif\u001b[0m \u001b[0mevents\u001b[0m\u001b[1;33m.\u001b[0m\u001b[0m_get_running_loop\u001b[0m\u001b[1;33m(\u001b[0m\u001b[1;33m)\u001b[0m \u001b[1;32mis\u001b[0m \u001b[1;32mnot\u001b[0m \u001b[1;32mNone\u001b[0m\u001b[1;33m:\u001b[0m\u001b[1;33m\u001b[0m\u001b[1;33m\u001b[0m\u001b[0m\n\u001b[1;32m---> 33\u001b[1;33m         raise RuntimeError(\n\u001b[0m\u001b[0;32m     34\u001b[0m             \"asyncio.run() cannot be called from a running event loop\")\n\u001b[0;32m     35\u001b[0m \u001b[1;33m\u001b[0m\u001b[0m\n",
      "\u001b[1;31mRuntimeError\u001b[0m: asyncio.run() cannot be called from a running event loop"
     ]
    }
   ],
   "source": [
    "import websockets\n",
    "import asyncio \n",
    "import json\n",
    "\n",
    "async def upbit_ws_client():\n",
    "    uri = \"wss://api.upbit.com/websocket/v1\"\n",
    "\n",
    "    async with websockets.connect(uri) as websocket:\n",
    "        subscribe_fmt = [ \n",
    "            {\"ticket\":\"test\"},\n",
    "            {\n",
    "                \"type\": \"ticker\",\n",
    "                \"codes\":[\"KRW-BTC\"],\n",
    "                \"isOnlyRealtime\": True\n",
    "            },\n",
    "            {\"format\":\"SIMPLE\"}\n",
    "        ]\n",
    "        subscribe_data = json.dumps(subscribe_fmt)\n",
    "        await websocket.send(subscribe_data)\n",
    "\n",
    "        while True:\n",
    "            data = await websocket.recv()\n",
    "            data = json.loads(data)\n",
    "            print(data)\n",
    "\n",
    "async def main():     \n",
    "    await upbit_ws_client()\n",
    "    \n",
    "asyncio.run(main())"
   ]
  },
  {
   "cell_type": "code",
   "execution_count": 11,
   "id": "interesting-field",
   "metadata": {},
   "outputs": [
    {
     "ename": "RuntimeError",
     "evalue": "asyncio.run() cannot be called from a running event loop",
     "output_type": "error",
     "traceback": [
      "\u001b[1;31m---------------------------------------------------------------------------\u001b[0m",
      "\u001b[1;31mRuntimeError\u001b[0m                              Traceback (most recent call last)",
      "\u001b[1;32m<ipython-input-11-126abdde699e>\u001b[0m in \u001b[0;36m<module>\u001b[1;34m\u001b[0m\n\u001b[0;32m     28\u001b[0m     \u001b[1;32mawait\u001b[0m \u001b[0mupbit_ws_client\u001b[0m\u001b[1;33m(\u001b[0m\u001b[1;33m)\u001b[0m\u001b[1;33m\u001b[0m\u001b[1;33m\u001b[0m\u001b[0m\n\u001b[0;32m     29\u001b[0m \u001b[1;33m\u001b[0m\u001b[0m\n\u001b[1;32m---> 30\u001b[1;33m \u001b[0masyncio\u001b[0m\u001b[1;33m.\u001b[0m\u001b[0mrun\u001b[0m\u001b[1;33m(\u001b[0m\u001b[0mmain\u001b[0m\u001b[1;33m(\u001b[0m\u001b[1;33m)\u001b[0m\u001b[1;33m)\u001b[0m\u001b[1;33m\u001b[0m\u001b[1;33m\u001b[0m\u001b[0m\n\u001b[0m",
      "\u001b[1;32m~\\anaconda3\\envs\\winter_project_env\\lib\\asyncio\\runners.py\u001b[0m in \u001b[0;36mrun\u001b[1;34m(main, debug)\u001b[0m\n\u001b[0;32m     31\u001b[0m     \"\"\"\n\u001b[0;32m     32\u001b[0m     \u001b[1;32mif\u001b[0m \u001b[0mevents\u001b[0m\u001b[1;33m.\u001b[0m\u001b[0m_get_running_loop\u001b[0m\u001b[1;33m(\u001b[0m\u001b[1;33m)\u001b[0m \u001b[1;32mis\u001b[0m \u001b[1;32mnot\u001b[0m \u001b[1;32mNone\u001b[0m\u001b[1;33m:\u001b[0m\u001b[1;33m\u001b[0m\u001b[1;33m\u001b[0m\u001b[0m\n\u001b[1;32m---> 33\u001b[1;33m         raise RuntimeError(\n\u001b[0m\u001b[0;32m     34\u001b[0m             \"asyncio.run() cannot be called from a running event loop\")\n\u001b[0;32m     35\u001b[0m \u001b[1;33m\u001b[0m\u001b[0m\n",
      "\u001b[1;31mRuntimeError\u001b[0m: asyncio.run() cannot be called from a running event loop"
     ]
    }
   ],
   "source": [
    "import websockets\n",
    "import asyncio \n",
    "import json\n",
    "\n",
    "async def upbit_ws_client():\n",
    "    uri = \"wss://api.upbit.com/websocket/v1\"\n",
    "\n",
    "    async with websockets.connect(uri) as websocket:\n",
    "        subscribe_fmt = [ \n",
    "            {\"ticket\":\"test\"},\n",
    "            {\n",
    "                \"type\": \"ticker\",\n",
    "                \"codes\":[\"KRW-BTC\"],\n",
    "                \"isOnlyRealtime\": True\n",
    "            },\n",
    "            {\"format\":\"SIMPLE\"}\n",
    "        ]\n",
    "        subscribe_data = json.dumps(subscribe_fmt)\n",
    "        await websocket.send(subscribe_data)\n",
    "\n",
    "        while True:\n",
    "            data = await websocket.recv()\n",
    "            data = json.loads(data)\n",
    "            print(data)\n",
    "\n",
    "\n",
    "async def main():\n",
    "    await upbit_ws_client()\n",
    "\n",
    "asyncio.run(main())"
   ]
  }
 ],
 "metadata": {
  "kernelspec": {
   "display_name": "[winter_proj]",
   "language": "python",
   "name": "winter_project_env"
  }
 },
 "nbformat": 4,
 "nbformat_minor": 5
}
