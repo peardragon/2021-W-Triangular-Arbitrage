{
 "cells": [
  {
   "cell_type": "code",
   "execution_count": 3,
   "metadata": {},
   "outputs": [],
   "source": [
    "import pyupbit\n",
    "import numpy as np"
   ]
  },
  {
   "cell_type": "code",
   "execution_count": 5,
   "metadata": {},
   "outputs": [],
   "source": [
    "ticker_list = pyupbit.get_tickers()"
   ]
  },
  {
   "cell_type": "code",
   "execution_count": 10,
   "metadata": {
    "scrolled": true
   },
   "outputs": [
    {
     "name": "stdout",
     "output_type": "stream",
     "text": [
      "['KRW-BTC', 'KRW-ETH', 'BTC-ETH', 'BTC-LTC', 'BTC-XRP', 'BTC-ETC', 'BTC-OMG', 'BTC-CVC', 'BTC-DGB', 'BTC-PAY', 'BTC-SC', 'BTC-SNT', 'BTC-WAVES', 'BTC-NMR', 'BTC-XEM', 'BTC-LBC', 'BTC-QTUM', 'BTC-NXT', 'BTC-BAT', 'BTC-LSK', 'BTC-RDD', 'BTC-STEEM', 'BTC-DOGE', 'BTC-BNT', 'BTC-XLM', 'BTC-ARDR', 'BTC-KMD', 'BTC-ARK', 'BTC-ADX', 'BTC-SYS', 'BTC-ANT', 'BTC-STORJ', 'BTC-GRS', 'BTC-REP', 'BTC-RLC', 'BTC-EMC2', 'USDT-BTC', 'USDT-ETH', 'USDT-LTC', 'USDT-XRP', 'USDT-ETC', 'KRW-NEO', 'KRW-MTL', 'KRW-LTC', 'KRW-XRP', 'KRW-ETC', 'KRW-OMG', 'KRW-SNT', 'KRW-WAVES', 'KRW-XEM', 'KRW-QTUM', 'KRW-LSK', 'KRW-STEEM', 'KRW-XLM', 'KRW-ARDR', 'KRW-KMD', 'KRW-ARK', 'KRW-STORJ', 'KRW-GRS', 'KRW-REP', 'KRW-EMC2', 'KRW-ADA', 'BTC-ADA', 'BTC-MANA', 'USDT-OMG', 'KRW-SBD', 'BTC-SBD', 'BTC-RCN', 'BTC-VIB', 'KRW-POWR', 'BTC-POWR', 'KRW-BTG', 'USDT-ADA', 'BTC-DNT', 'BTC-IGNIS', 'BTC-SRN', 'BTC-ZRX', 'BTC-TRX', 'BTC-TUSD', 'BTC-LRC', 'KRW-ICX', 'KRW-EOS', 'BTC-DMT', 'USDT-TUSD', 'KRW-TRX', 'BTC-POLY', 'BTC-PRO', 'USDT-SC', 'USDT-TRX', 'KRW-SC', 'KRW-IGNIS', 'KRW-ONT', 'KRW-ZIL', 'KRW-POLY', 'KRW-ZRX', 'KRW-SRN', 'KRW-LOOM', 'BTC-BCH', 'USDT-BCH', 'KRW-BCH', 'BTC-MFT', 'BTC-LOOM', 'KRW-ADX', 'KRW-BAT', 'KRW-IOST', 'BTC-RFR', 'KRW-DMT', 'KRW-RFR', 'USDT-DGB', 'KRW-CVC', 'KRW-IQ', 'KRW-IOTA', 'BTC-RVN', 'BTC-BFT', 'BTC-GO', 'BTC-UPP', 'BTC-ENJ', 'KRW-MFT', 'BTC-DTA', 'BTC-EDR', 'KRW-ONG', 'KRW-GAS', 'BTC-MTL', 'KRW-UPP', 'KRW-ELF', 'BTC-PMA', 'USDT-DOGE', 'USDT-ZRX', 'USDT-RVN', 'USDT-BAT', 'KRW-KNC', 'BTC-PAX', 'BTC-MOC', 'BTC-NPXS', 'BTC-ZIL', 'KRW-BSV', 'BTC-BSV', 'BTC-IOST', 'KRW-THETA', 'BTC-NCASH', 'KRW-EDR', 'BTC-DENT', 'KRW-QKC', 'BTC-BTM', 'BTC-ELF', 'KRW-BTT', 'BTC-BTT', 'BTC-VITE', 'BTC-IOTX', 'BTC-SOLVE', 'BTC-NKN', 'BTC-QNT', 'BTC-CTXC', 'BTC-SPND', 'BTC-META', 'KRW-MOC', 'BTC-ANKR', 'BTC-CRO', 'KRW-ENJ', 'KRW-TFUEL', 'BTC-FSN', 'KRW-MANA', 'KRW-ANKR', 'BTC-ORBS', 'KRW-NPXS', 'BTC-AERGO', 'BTC-PI', 'KRW-AERGO', 'KRW-ATOM', 'KRW-TT', 'KRW-CRE', 'KRW-SOLVE', 'BTC-ATOM', 'BTC-STPT', 'KRW-MBL', 'BTC-LAMB', 'BTC-EOS', 'BTC-LUNA', 'BTC-DAI', 'BTC-MKR', 'BTC-BORA', 'KRW-TSHP', 'BTC-TSHP', 'KRW-WAXP', 'BTC-WAXP', 'KRW-HBAR', 'KRW-MED', 'BTC-MED', 'BTC-MLK', 'KRW-MLK', 'BTC-PXL', 'KRW-STPT', 'BTC-VET', 'KRW-ORBS', 'BTC-CHZ', 'KRW-VET', 'BTC-FX', 'BTC-OGN', 'KRW-CHZ', 'KRW-PXL', 'BTC-ITAM', 'BTC-XTZ', 'BTC-HIVE', 'BTC-HBD', 'BTC-OBSR', 'BTC-DKA', 'KRW-STMX', 'BTC-STMX', 'BTC-AHT', 'BTC-PCI', 'BTC-RINGX', 'BTC-GOM2', 'KRW-DKA', 'BTC-LINK', 'KRW-HIVE', 'KRW-KAVA', 'BTC-KAVA', 'KRW-AHT', 'KRW-SPND', 'KRW-LINK', 'KRW-XTZ', 'KRW-BORA', 'BTC-JST', 'BTC-CHR', 'BTC-DAD', 'BTC-TON', 'KRW-JST', 'BTC-CTSI', 'BTC-DOT', 'KRW-CRO', 'BTC-COMP', 'BTC-SXP', 'BTC-HUNT', 'KRW-TON', 'BTC-ONIT', 'BTC-CRV', 'BTC-ALGO', 'BTC-RSR', 'KRW-SXP', 'BTC-OXT', 'BTC-PLA', 'KRW-LAMB', 'KRW-HUNT', 'BTC-MARO', 'KRW-MARO', 'BTC-SAND', 'BTC-SUN', 'KRW-PLA', 'KRW-DOT', 'BTC-SRM', 'BTC-QTCON', 'BTC-MVL', 'KRW-SRM', 'KRW-MVL', 'BTC-GXC', 'KRW-PCI', 'BTC-AQT', 'BTC-AXS', 'BTC-STRAX', 'KRW-STRAX', 'KRW-AQT', 'BTC-BCHA', 'KRW-BCHA', 'BTC-GLM', 'KRW-GLM', 'KRW-QTCON', 'BTC-FCT2', 'BTC-SSX', 'KRW-SSX', 'KRW-META', 'KRW-OBSR', 'KRW-FCT2', 'BTC-FIL', 'KRW-LBC', 'BTC-UNI', 'BTC-BASIC', 'BTC-INJ', 'BTC-PROM', 'BTC-VAL', 'BTC-PSG', 'BTC-JUV', 'BTC-CBK', 'BTC-FOR', 'KRW-CBK', 'BTC-BFC', 'BTC-LINA', 'BTC-HUM', 'BTC-PICA', 'BTC-CELO', 'KRW-SAND', 'KRW-HUM', 'BTC-IQ', 'BTC-STX', 'KRW-DOGE']\n"
     ]
    }
   ],
   "source": [
    "print(ticker_list)"
   ]
  },
  {
   "cell_type": "code",
   "execution_count": 37,
   "metadata": {},
   "outputs": [
    {
     "name": "stdout",
     "output_type": "stream",
     "text": [
      "98\n",
      "[['KRW-BTC', 'BTC-ETH', 'KRW-ETH'], ['KRW-BTC', 'BTC-LTC', 'KRW-LTC'], ['KRW-BTC', 'BTC-XRP', 'KRW-XRP'], ['KRW-BTC', 'BTC-ETC', 'KRW-ETC'], ['KRW-BTC', 'BTC-OMG', 'KRW-OMG'], ['KRW-BTC', 'BTC-CVC', 'KRW-CVC'], ['KRW-BTC', 'BTC-SC', 'KRW-SC'], ['KRW-BTC', 'BTC-SNT', 'KRW-SNT'], ['KRW-BTC', 'BTC-WAVES', 'KRW-WAVES'], ['KRW-BTC', 'BTC-XEM', 'KRW-XEM'], ['KRW-BTC', 'BTC-LBC', 'KRW-LBC'], ['KRW-BTC', 'BTC-QTUM', 'KRW-QTUM'], ['KRW-BTC', 'BTC-BAT', 'KRW-BAT'], ['KRW-BTC', 'BTC-LSK', 'KRW-LSK'], ['KRW-BTC', 'BTC-STEEM', 'KRW-STEEM'], ['KRW-BTC', 'BTC-DOGE', 'KRW-DOGE'], ['KRW-BTC', 'BTC-XLM', 'KRW-XLM'], ['KRW-BTC', 'BTC-ARDR', 'KRW-ARDR'], ['KRW-BTC', 'BTC-KMD', 'KRW-KMD'], ['KRW-BTC', 'BTC-ARK', 'KRW-ARK'], ['KRW-BTC', 'BTC-ADX', 'KRW-ADX'], ['KRW-BTC', 'BTC-STORJ', 'KRW-STORJ'], ['KRW-BTC', 'BTC-GRS', 'KRW-GRS'], ['KRW-BTC', 'BTC-REP', 'KRW-REP'], ['KRW-BTC', 'BTC-EMC2', 'KRW-EMC2'], ['KRW-BTC', 'BTC-ADA', 'KRW-ADA'], ['KRW-BTC', 'BTC-MANA', 'KRW-MANA'], ['KRW-BTC', 'BTC-SBD', 'KRW-SBD'], ['KRW-BTC', 'BTC-POWR', 'KRW-POWR'], ['KRW-BTC', 'BTC-IGNIS', 'KRW-IGNIS'], ['KRW-BTC', 'BTC-SRN', 'KRW-SRN'], ['KRW-BTC', 'BTC-ZRX', 'KRW-ZRX'], ['KRW-BTC', 'BTC-TRX', 'KRW-TRX'], ['KRW-BTC', 'BTC-DMT', 'KRW-DMT'], ['KRW-BTC', 'BTC-POLY', 'KRW-POLY'], ['KRW-BTC', 'BTC-BCH', 'KRW-BCH'], ['KRW-BTC', 'BTC-MFT', 'KRW-MFT'], ['KRW-BTC', 'BTC-LOOM', 'KRW-LOOM'], ['KRW-BTC', 'BTC-RFR', 'KRW-RFR'], ['KRW-BTC', 'BTC-UPP', 'KRW-UPP'], ['KRW-BTC', 'BTC-ENJ', 'KRW-ENJ'], ['KRW-BTC', 'BTC-EDR', 'KRW-EDR'], ['KRW-BTC', 'BTC-MTL', 'KRW-MTL'], ['KRW-BTC', 'BTC-MOC', 'KRW-MOC'], ['KRW-BTC', 'BTC-NPXS', 'KRW-NPXS'], ['KRW-BTC', 'BTC-ZIL', 'KRW-ZIL'], ['KRW-BTC', 'BTC-BSV', 'KRW-BSV'], ['KRW-BTC', 'BTC-IOST', 'KRW-IOST'], ['KRW-BTC', 'BTC-ELF', 'KRW-ELF'], ['KRW-BTC', 'BTC-BTT', 'KRW-BTT'], ['KRW-BTC', 'BTC-SOLVE', 'KRW-SOLVE'], ['KRW-BTC', 'BTC-SPND', 'KRW-SPND'], ['KRW-BTC', 'BTC-META', 'KRW-META'], ['KRW-BTC', 'BTC-ANKR', 'KRW-ANKR'], ['KRW-BTC', 'BTC-CRO', 'KRW-CRO'], ['KRW-BTC', 'BTC-ORBS', 'KRW-ORBS'], ['KRW-BTC', 'BTC-AERGO', 'KRW-AERGO'], ['KRW-BTC', 'BTC-ATOM', 'KRW-ATOM'], ['KRW-BTC', 'BTC-STPT', 'KRW-STPT'], ['KRW-BTC', 'BTC-LAMB', 'KRW-LAMB'], ['KRW-BTC', 'BTC-EOS', 'KRW-EOS'], ['KRW-BTC', 'BTC-BORA', 'KRW-BORA'], ['KRW-BTC', 'BTC-TSHP', 'KRW-TSHP'], ['KRW-BTC', 'BTC-WAXP', 'KRW-WAXP'], ['KRW-BTC', 'BTC-MED', 'KRW-MED'], ['KRW-BTC', 'BTC-MLK', 'KRW-MLK'], ['KRW-BTC', 'BTC-PXL', 'KRW-PXL'], ['KRW-BTC', 'BTC-VET', 'KRW-VET'], ['KRW-BTC', 'BTC-CHZ', 'KRW-CHZ'], ['KRW-BTC', 'BTC-XTZ', 'KRW-XTZ'], ['KRW-BTC', 'BTC-HIVE', 'KRW-HIVE'], ['KRW-BTC', 'BTC-OBSR', 'KRW-OBSR'], ['KRW-BTC', 'BTC-DKA', 'KRW-DKA'], ['KRW-BTC', 'BTC-STMX', 'KRW-STMX'], ['KRW-BTC', 'BTC-AHT', 'KRW-AHT'], ['KRW-BTC', 'BTC-PCI', 'KRW-PCI'], ['KRW-BTC', 'BTC-LINK', 'KRW-LINK'], ['KRW-BTC', 'BTC-KAVA', 'KRW-KAVA'], ['KRW-BTC', 'BTC-JST', 'KRW-JST'], ['KRW-BTC', 'BTC-TON', 'KRW-TON'], ['KRW-BTC', 'BTC-DOT', 'KRW-DOT'], ['KRW-BTC', 'BTC-SXP', 'KRW-SXP'], ['KRW-BTC', 'BTC-HUNT', 'KRW-HUNT'], ['KRW-BTC', 'BTC-PLA', 'KRW-PLA'], ['KRW-BTC', 'BTC-MARO', 'KRW-MARO'], ['KRW-BTC', 'BTC-SAND', 'KRW-SAND'], ['KRW-BTC', 'BTC-SRM', 'KRW-SRM'], ['KRW-BTC', 'BTC-QTCON', 'KRW-QTCON'], ['KRW-BTC', 'BTC-MVL', 'KRW-MVL'], ['KRW-BTC', 'BTC-AQT', 'KRW-AQT'], ['KRW-BTC', 'BTC-STRAX', 'KRW-STRAX'], ['KRW-BTC', 'BTC-BCHA', 'KRW-BCHA'], ['KRW-BTC', 'BTC-GLM', 'KRW-GLM'], ['KRW-BTC', 'BTC-FCT2', 'KRW-FCT2'], ['KRW-BTC', 'BTC-SSX', 'KRW-SSX'], ['KRW-BTC', 'BTC-CBK', 'KRW-CBK'], ['KRW-BTC', 'BTC-HUM', 'KRW-HUM'], ['KRW-BTC', 'BTC-IQ', 'KRW-IQ']]\n"
     ]
    }
   ],
   "source": [
    "arbitrage_list = []\n",
    "for i in ticker_list:\n",
    "    a = i.split(\"-\")\n",
    "    if a[0] == 'KRW':\n",
    "#         print(\"i\",i)\n",
    "        for j in ticker_list:\n",
    "            b = j.split(\"-\")\n",
    "            if a[1] == b[0] and b[0] != \"KRW\":\n",
    "#                 print(\"j:\",j)\n",
    "                for k in ticker_list:\n",
    "                    c = k.split(\"-\")\n",
    "                    if b[1] == c[1] and c[0] == \"KRW\":\n",
    "#                         print(\"k:\", k)\n",
    "                        arbitrage_list.append([i,j,k])\n",
    "                \n",
    "# print(arbitrage_list)\n",
    "print(len(arbitrage_list))\n",
    "print(arbitrage_list)"
   ]
  },
  {
   "cell_type": "code",
   "execution_count": 2,
   "metadata": {},
   "outputs": [],
   "source": [
    "access = \"0g02ZSPdlROwD5ydXpND9OTblVe7mVJoE2cbGzv5\"\n",
    "secret = \"YYSSzfolyXX0NNEWUSTOdDm8rJhd6YoOuYVyphah\"  \n",
    "upbit = pyupbit.Upbit(access, secret)\n",
    "Symbol = {\"key1\":\"BTC\", \"key2\":\"BCH\"}\n",
    "fee = {\"KRW\":0.05, \"BTC\":0.25,\"USDT\":0.05}\n",
    "min_price = {\"KRW\":500, \"BTC\":0.0005, \"USDT\":0.0005}\n",
    "# 초당 8회, 분당 200회 : 주문\n",
    "# 초당 30회, 분당 900회 : 주문외\n",
    "bal= 10000"
   ]
  },
  {
   "cell_type": "code",
   "execution_count": 4,
   "metadata": {
    "scrolled": true
   },
   "outputs": [
    {
     "data": {
      "text/plain": [
       "[{'ask_price': 0.01306575,\n",
       "  'bid_price': 0.01266612,\n",
       "  'ask_size': 0.06453237,\n",
       "  'bid_size': 9.17896328},\n",
       " {'ask_price': 0.01467222,\n",
       "  'bid_price': 0.01266611,\n",
       "  'ask_size': 15.663391,\n",
       "  'bid_size': 9.38498259},\n",
       " {'ask_price': 0.01467223,\n",
       "  'bid_price': 0.01266605,\n",
       "  'ask_size': 7.87016597,\n",
       "  'bid_size': 3.93771631},\n",
       " {'ask_price': 0.01467224,\n",
       "  'bid_price': 0.01266594,\n",
       "  'ask_size': 0.6,\n",
       "  'bid_size': 0.87067339},\n",
       " {'ask_price': 0.01467227,\n",
       "  'bid_price': 0.01260005,\n",
       "  'ask_size': 1.0,\n",
       "  'bid_size': 0.4},\n",
       " {'ask_price': 0.01467236,\n",
       "  'bid_price': 0.01260001,\n",
       "  'ask_size': 0.15449579,\n",
       "  'bid_size': 1.0},\n",
       " {'ask_price': 0.01468412,\n",
       "  'bid_price': 0.0126,\n",
       "  'ask_size': 0.73965175,\n",
       "  'bid_size': 6.0},\n",
       " {'ask_price': 0.01470177,\n",
       "  'bid_price': 0.01257,\n",
       "  'ask_size': 0.07193683,\n",
       "  'bid_size': 3.0},\n",
       " {'ask_price': 0.0147019,\n",
       "  'bid_price': 0.01253159,\n",
       "  'ask_size': 1.95197644,\n",
       "  'bid_size': 1.14231174},\n",
       " {'ask_price': 0.01470192,\n",
       "  'bid_price': 0.01253158,\n",
       "  'ask_size': 1.2,\n",
       "  'bid_size': 3.54141705},\n",
       " {'ask_price': 0.01516355,\n",
       "  'bid_price': 0.0125,\n",
       "  'ask_size': 1.08408415,\n",
       "  'bid_size': 0.3},\n",
       " {'ask_price': 0.01516378,\n",
       "  'bid_price': 0.01244,\n",
       "  'ask_size': 0.93757401,\n",
       "  'bid_size': 4.0},\n",
       " {'ask_price': 0.01516387,\n",
       "  'bid_price': 0.01214039,\n",
       "  'ask_size': 8.47576033,\n",
       "  'bid_size': 0.49145652},\n",
       " {'ask_price': 0.01539998,\n",
       "  'bid_price': 0.01213087,\n",
       "  'ask_size': 1.80680691,\n",
       "  'bid_size': 82.43431839},\n",
       " {'ask_price': 0.01539999,\n",
       "  'bid_price': 0.01198794,\n",
       "  'ask_size': 0.3,\n",
       "  'bid_size': 6.84268069}]"
      ]
     },
     "execution_count": 4,
     "metadata": {},
     "output_type": "execute_result"
    }
   ],
   "source": [
    "pyupbit.get_orderbook(f\"{Symbol['key1']}-{Symbol['key2']}\")[0][\"orderbook_units\"]"
   ]
  },
  {
   "cell_type": "code",
   "execution_count": 12,
   "metadata": {},
   "outputs": [],
   "source": [
    "from selenium import webdriver\n",
    "from selenium.webdriver.common.keys import Keys\n",
    "path = \"C:/Users/BaeJaeyong/anaconda3/\" \\\n",
    "       \"envs/winter_project_env/Scripts/chromedriver\"\n",
    "driver = webdriver.Chrome(path)\n",
    "driver.get(\"https://upbit.com/exchange?code=CRIX.UPBIT.KRW-BTC\")"
   ]
  },
  {
   "cell_type": "code",
   "execution_count": 14,
   "metadata": {},
   "outputs": [
    {
     "name": "stdout",
     "output_type": "stream",
     "text": [
      "It failed JSONDecodeError\n",
      "TypeError\n",
      "It failed JSONDecodeError\n",
      "TypeError\n",
      "It failed JSONDecodeError\n",
      "TypeError\n",
      "It failed JSONDecodeError\n",
      "TypeError\n",
      "It failed JSONDecodeError\n",
      "TypeError\n",
      "It failed JSONDecodeError\n",
      "TypeError\n",
      "It failed JSONDecodeError\n",
      "TypeError\n",
      "It failed JSONDecodeError\n",
      "TypeError\n",
      "It failed JSONDecodeError\n",
      "TypeError\n",
      "It failed JSONDecodeError\n",
      "TypeError\n",
      "It failed JSONDecodeError\n",
      "TypeError\n",
      "It failed JSONDecodeError\n",
      "TypeError\n",
      "It failed JSONDecodeError\n",
      "TypeError\n"
     ]
    },
    {
     "ename": "KeyboardInterrupt",
     "evalue": "",
     "output_type": "error",
     "traceback": [
      "\u001b[1;31m---------------------------------------------------------------------------\u001b[0m",
      "\u001b[1;31mKeyboardInterrupt\u001b[0m                         Traceback (most recent call last)",
      "\u001b[1;32m<ipython-input-14-57eb74bb9276>\u001b[0m in \u001b[0;36m<module>\u001b[1;34m\u001b[0m\n\u001b[0;32m      1\u001b[0m \u001b[0mlist_btc\u001b[0m \u001b[1;33m=\u001b[0m \u001b[0mpyupbit\u001b[0m\u001b[1;33m.\u001b[0m\u001b[0mget_tickers\u001b[0m\u001b[1;33m(\u001b[0m\u001b[0mfiat\u001b[0m\u001b[1;33m=\u001b[0m\u001b[1;34m\"BTC\"\u001b[0m\u001b[1;33m)\u001b[0m\u001b[1;33m\u001b[0m\u001b[1;33m\u001b[0m\u001b[0m\n\u001b[0;32m      2\u001b[0m \u001b[1;32mfor\u001b[0m \u001b[0m_\u001b[0m \u001b[1;32min\u001b[0m \u001b[0mlist_btc\u001b[0m\u001b[1;33m:\u001b[0m\u001b[1;33m\u001b[0m\u001b[1;33m\u001b[0m\u001b[0m\n\u001b[1;32m----> 3\u001b[1;33m     \u001b[0mpd_data\u001b[0m \u001b[1;33m=\u001b[0m \u001b[0mpyupbit\u001b[0m\u001b[1;33m.\u001b[0m\u001b[0mget_ohlcv\u001b[0m\u001b[1;33m(\u001b[0m\u001b[1;34mf\"{_}\"\u001b[0m\u001b[1;33m,\u001b[0m \u001b[0minterval\u001b[0m\u001b[1;33m=\u001b[0m\u001b[1;34m\"miniute1\"\u001b[0m\u001b[1;33m,\u001b[0m \u001b[0mcount\u001b[0m\u001b[1;33m=\u001b[0m\u001b[1;36m60\u001b[0m \u001b[1;33m)\u001b[0m\u001b[1;33m\u001b[0m\u001b[1;33m\u001b[0m\u001b[0m\n\u001b[0m\u001b[0;32m      4\u001b[0m     \u001b[0mpd_data\u001b[0m\u001b[1;33m\u001b[0m\u001b[1;33m\u001b[0m\u001b[0m\n",
      "\u001b[1;32m~\\anaconda3\\envs\\winter_project_env\\lib\\site-packages\\pyupbit\\quotation_api.py\u001b[0m in \u001b[0;36mget_ohlcv\u001b[1;34m(ticker, interval, count)\u001b[0m\n\u001b[0;32m     72\u001b[0m     \u001b[1;32mtry\u001b[0m\u001b[1;33m:\u001b[0m\u001b[1;33m\u001b[0m\u001b[1;33m\u001b[0m\u001b[0m\n\u001b[0;32m     73\u001b[0m         \u001b[0murl\u001b[0m \u001b[1;33m=\u001b[0m \u001b[0m_get_url_ohlcv\u001b[0m\u001b[1;33m(\u001b[0m\u001b[0minterval\u001b[0m\u001b[1;33m=\u001b[0m\u001b[0minterval\u001b[0m\u001b[1;33m)\u001b[0m\u001b[1;33m\u001b[0m\u001b[1;33m\u001b[0m\u001b[0m\n\u001b[1;32m---> 74\u001b[1;33m         \u001b[0mcontents\u001b[0m \u001b[1;33m=\u001b[0m \u001b[0m_call_public_api\u001b[0m\u001b[1;33m(\u001b[0m\u001b[0murl\u001b[0m\u001b[1;33m,\u001b[0m \u001b[0mmarket\u001b[0m\u001b[1;33m=\u001b[0m\u001b[0mticker\u001b[0m\u001b[1;33m,\u001b[0m \u001b[0mcount\u001b[0m\u001b[1;33m=\u001b[0m\u001b[0mcount\u001b[0m\u001b[1;33m)\u001b[0m\u001b[1;33m[\u001b[0m\u001b[1;36m0\u001b[0m\u001b[1;33m]\u001b[0m\u001b[1;33m\u001b[0m\u001b[1;33m\u001b[0m\u001b[0m\n\u001b[0m\u001b[0;32m     75\u001b[0m         \u001b[0mdt_list\u001b[0m \u001b[1;33m=\u001b[0m \u001b[1;33m[\u001b[0m\u001b[0mdatetime\u001b[0m\u001b[1;33m.\u001b[0m\u001b[0mdatetime\u001b[0m\u001b[1;33m.\u001b[0m\u001b[0mstrptime\u001b[0m\u001b[1;33m(\u001b[0m\u001b[0mx\u001b[0m\u001b[1;33m[\u001b[0m\u001b[1;34m'candle_date_time_kst'\u001b[0m\u001b[1;33m]\u001b[0m\u001b[1;33m,\u001b[0m \u001b[1;34m\"%Y-%m-%dT%H:%M:%S\"\u001b[0m\u001b[1;33m)\u001b[0m \u001b[1;32mfor\u001b[0m \u001b[0mx\u001b[0m \u001b[1;32min\u001b[0m \u001b[0mcontents\u001b[0m\u001b[1;33m]\u001b[0m\u001b[1;33m\u001b[0m\u001b[1;33m\u001b[0m\u001b[0m\n\u001b[0;32m     76\u001b[0m         df = pd.DataFrame(contents, columns=['opening_price', 'high_price', 'low_price', 'trade_price',\n",
      "\u001b[1;32m~\\anaconda3\\envs\\winter_project_env\\lib\\site-packages\\pyupbit\\request_api.py\u001b[0m in \u001b[0;36m_call_public_api\u001b[1;34m(url, **kwargs)\u001b[0m\n\u001b[0;32m     52\u001b[0m     \"\"\"\n\u001b[0;32m     53\u001b[0m     \u001b[1;32mtry\u001b[0m\u001b[1;33m:\u001b[0m\u001b[1;33m\u001b[0m\u001b[1;33m\u001b[0m\u001b[0m\n\u001b[1;32m---> 54\u001b[1;33m         \u001b[0mresp\u001b[0m \u001b[1;33m=\u001b[0m \u001b[0mrequests_retry_session\u001b[0m\u001b[1;33m(\u001b[0m\u001b[1;33m)\u001b[0m\u001b[1;33m.\u001b[0m\u001b[0mget\u001b[0m\u001b[1;33m(\u001b[0m\u001b[0murl\u001b[0m\u001b[1;33m,\u001b[0m \u001b[0mparams\u001b[0m\u001b[1;33m=\u001b[0m\u001b[0mkwargs\u001b[0m\u001b[1;33m)\u001b[0m\u001b[1;33m\u001b[0m\u001b[1;33m\u001b[0m\u001b[0m\n\u001b[0m\u001b[0;32m     55\u001b[0m         \u001b[0mremaining_req_dict\u001b[0m \u001b[1;33m=\u001b[0m \u001b[1;33m{\u001b[0m\u001b[1;33m}\u001b[0m\u001b[1;33m\u001b[0m\u001b[1;33m\u001b[0m\u001b[0m\n\u001b[0;32m     56\u001b[0m         \u001b[0mremaining_req\u001b[0m \u001b[1;33m=\u001b[0m \u001b[0mresp\u001b[0m\u001b[1;33m.\u001b[0m\u001b[0mheaders\u001b[0m\u001b[1;33m.\u001b[0m\u001b[0mget\u001b[0m\u001b[1;33m(\u001b[0m\u001b[1;34m'Remaining-Req'\u001b[0m\u001b[1;33m)\u001b[0m\u001b[1;33m\u001b[0m\u001b[1;33m\u001b[0m\u001b[0m\n",
      "\u001b[1;32m~\\anaconda3\\envs\\winter_project_env\\lib\\site-packages\\requests\\sessions.py\u001b[0m in \u001b[0;36mget\u001b[1;34m(self, url, **kwargs)\u001b[0m\n\u001b[0;32m    553\u001b[0m \u001b[1;33m\u001b[0m\u001b[0m\n\u001b[0;32m    554\u001b[0m         \u001b[0mkwargs\u001b[0m\u001b[1;33m.\u001b[0m\u001b[0msetdefault\u001b[0m\u001b[1;33m(\u001b[0m\u001b[1;34m'allow_redirects'\u001b[0m\u001b[1;33m,\u001b[0m \u001b[1;32mTrue\u001b[0m\u001b[1;33m)\u001b[0m\u001b[1;33m\u001b[0m\u001b[1;33m\u001b[0m\u001b[0m\n\u001b[1;32m--> 555\u001b[1;33m         \u001b[1;32mreturn\u001b[0m \u001b[0mself\u001b[0m\u001b[1;33m.\u001b[0m\u001b[0mrequest\u001b[0m\u001b[1;33m(\u001b[0m\u001b[1;34m'GET'\u001b[0m\u001b[1;33m,\u001b[0m \u001b[0murl\u001b[0m\u001b[1;33m,\u001b[0m \u001b[1;33m**\u001b[0m\u001b[0mkwargs\u001b[0m\u001b[1;33m)\u001b[0m\u001b[1;33m\u001b[0m\u001b[1;33m\u001b[0m\u001b[0m\n\u001b[0m\u001b[0;32m    556\u001b[0m \u001b[1;33m\u001b[0m\u001b[0m\n\u001b[0;32m    557\u001b[0m     \u001b[1;32mdef\u001b[0m \u001b[0moptions\u001b[0m\u001b[1;33m(\u001b[0m\u001b[0mself\u001b[0m\u001b[1;33m,\u001b[0m \u001b[0murl\u001b[0m\u001b[1;33m,\u001b[0m \u001b[1;33m**\u001b[0m\u001b[0mkwargs\u001b[0m\u001b[1;33m)\u001b[0m\u001b[1;33m:\u001b[0m\u001b[1;33m\u001b[0m\u001b[1;33m\u001b[0m\u001b[0m\n",
      "\u001b[1;32m~\\anaconda3\\envs\\winter_project_env\\lib\\site-packages\\requests\\sessions.py\u001b[0m in \u001b[0;36mrequest\u001b[1;34m(self, method, url, params, data, headers, cookies, files, auth, timeout, allow_redirects, proxies, hooks, stream, verify, cert, json)\u001b[0m\n\u001b[0;32m    540\u001b[0m         }\n\u001b[0;32m    541\u001b[0m         \u001b[0msend_kwargs\u001b[0m\u001b[1;33m.\u001b[0m\u001b[0mupdate\u001b[0m\u001b[1;33m(\u001b[0m\u001b[0msettings\u001b[0m\u001b[1;33m)\u001b[0m\u001b[1;33m\u001b[0m\u001b[1;33m\u001b[0m\u001b[0m\n\u001b[1;32m--> 542\u001b[1;33m         \u001b[0mresp\u001b[0m \u001b[1;33m=\u001b[0m \u001b[0mself\u001b[0m\u001b[1;33m.\u001b[0m\u001b[0msend\u001b[0m\u001b[1;33m(\u001b[0m\u001b[0mprep\u001b[0m\u001b[1;33m,\u001b[0m \u001b[1;33m**\u001b[0m\u001b[0msend_kwargs\u001b[0m\u001b[1;33m)\u001b[0m\u001b[1;33m\u001b[0m\u001b[1;33m\u001b[0m\u001b[0m\n\u001b[0m\u001b[0;32m    543\u001b[0m \u001b[1;33m\u001b[0m\u001b[0m\n\u001b[0;32m    544\u001b[0m         \u001b[1;32mreturn\u001b[0m \u001b[0mresp\u001b[0m\u001b[1;33m\u001b[0m\u001b[1;33m\u001b[0m\u001b[0m\n",
      "\u001b[1;32m~\\anaconda3\\envs\\winter_project_env\\lib\\site-packages\\requests\\sessions.py\u001b[0m in \u001b[0;36msend\u001b[1;34m(self, request, **kwargs)\u001b[0m\n\u001b[0;32m    653\u001b[0m \u001b[1;33m\u001b[0m\u001b[0m\n\u001b[0;32m    654\u001b[0m         \u001b[1;31m# Send the request\u001b[0m\u001b[1;33m\u001b[0m\u001b[1;33m\u001b[0m\u001b[1;33m\u001b[0m\u001b[0m\n\u001b[1;32m--> 655\u001b[1;33m         \u001b[0mr\u001b[0m \u001b[1;33m=\u001b[0m \u001b[0madapter\u001b[0m\u001b[1;33m.\u001b[0m\u001b[0msend\u001b[0m\u001b[1;33m(\u001b[0m\u001b[0mrequest\u001b[0m\u001b[1;33m,\u001b[0m \u001b[1;33m**\u001b[0m\u001b[0mkwargs\u001b[0m\u001b[1;33m)\u001b[0m\u001b[1;33m\u001b[0m\u001b[1;33m\u001b[0m\u001b[0m\n\u001b[0m\u001b[0;32m    656\u001b[0m \u001b[1;33m\u001b[0m\u001b[0m\n\u001b[0;32m    657\u001b[0m         \u001b[1;31m# Total elapsed time of the request (approximately)\u001b[0m\u001b[1;33m\u001b[0m\u001b[1;33m\u001b[0m\u001b[1;33m\u001b[0m\u001b[0m\n",
      "\u001b[1;32m~\\anaconda3\\envs\\winter_project_env\\lib\\site-packages\\requests\\adapters.py\u001b[0m in \u001b[0;36msend\u001b[1;34m(self, request, stream, timeout, verify, cert, proxies)\u001b[0m\n\u001b[0;32m    437\u001b[0m         \u001b[1;32mtry\u001b[0m\u001b[1;33m:\u001b[0m\u001b[1;33m\u001b[0m\u001b[1;33m\u001b[0m\u001b[0m\n\u001b[0;32m    438\u001b[0m             \u001b[1;32mif\u001b[0m \u001b[1;32mnot\u001b[0m \u001b[0mchunked\u001b[0m\u001b[1;33m:\u001b[0m\u001b[1;33m\u001b[0m\u001b[1;33m\u001b[0m\u001b[0m\n\u001b[1;32m--> 439\u001b[1;33m                 resp = conn.urlopen(\n\u001b[0m\u001b[0;32m    440\u001b[0m                     \u001b[0mmethod\u001b[0m\u001b[1;33m=\u001b[0m\u001b[0mrequest\u001b[0m\u001b[1;33m.\u001b[0m\u001b[0mmethod\u001b[0m\u001b[1;33m,\u001b[0m\u001b[1;33m\u001b[0m\u001b[1;33m\u001b[0m\u001b[0m\n\u001b[0;32m    441\u001b[0m                     \u001b[0murl\u001b[0m\u001b[1;33m=\u001b[0m\u001b[0murl\u001b[0m\u001b[1;33m,\u001b[0m\u001b[1;33m\u001b[0m\u001b[1;33m\u001b[0m\u001b[0m\n",
      "\u001b[1;32m~\\anaconda3\\envs\\winter_project_env\\lib\\site-packages\\urllib3\\connectionpool.py\u001b[0m in \u001b[0;36murlopen\u001b[1;34m(self, method, url, body, headers, retries, redirect, assert_same_host, timeout, pool_timeout, release_conn, chunked, body_pos, **response_kw)\u001b[0m\n\u001b[0;32m    697\u001b[0m \u001b[1;33m\u001b[0m\u001b[0m\n\u001b[0;32m    698\u001b[0m             \u001b[1;31m# Make the request on the httplib connection object.\u001b[0m\u001b[1;33m\u001b[0m\u001b[1;33m\u001b[0m\u001b[1;33m\u001b[0m\u001b[0m\n\u001b[1;32m--> 699\u001b[1;33m             httplib_response = self._make_request(\n\u001b[0m\u001b[0;32m    700\u001b[0m                 \u001b[0mconn\u001b[0m\u001b[1;33m,\u001b[0m\u001b[1;33m\u001b[0m\u001b[1;33m\u001b[0m\u001b[0m\n\u001b[0;32m    701\u001b[0m                 \u001b[0mmethod\u001b[0m\u001b[1;33m,\u001b[0m\u001b[1;33m\u001b[0m\u001b[1;33m\u001b[0m\u001b[0m\n",
      "\u001b[1;32m~\\anaconda3\\envs\\winter_project_env\\lib\\site-packages\\urllib3\\connectionpool.py\u001b[0m in \u001b[0;36m_make_request\u001b[1;34m(self, conn, method, url, timeout, chunked, **httplib_request_kw)\u001b[0m\n\u001b[0;32m    380\u001b[0m         \u001b[1;31m# Trigger any extra validation we need to do.\u001b[0m\u001b[1;33m\u001b[0m\u001b[1;33m\u001b[0m\u001b[1;33m\u001b[0m\u001b[0m\n\u001b[0;32m    381\u001b[0m         \u001b[1;32mtry\u001b[0m\u001b[1;33m:\u001b[0m\u001b[1;33m\u001b[0m\u001b[1;33m\u001b[0m\u001b[0m\n\u001b[1;32m--> 382\u001b[1;33m             \u001b[0mself\u001b[0m\u001b[1;33m.\u001b[0m\u001b[0m_validate_conn\u001b[0m\u001b[1;33m(\u001b[0m\u001b[0mconn\u001b[0m\u001b[1;33m)\u001b[0m\u001b[1;33m\u001b[0m\u001b[1;33m\u001b[0m\u001b[0m\n\u001b[0m\u001b[0;32m    383\u001b[0m         \u001b[1;32mexcept\u001b[0m \u001b[1;33m(\u001b[0m\u001b[0mSocketTimeout\u001b[0m\u001b[1;33m,\u001b[0m \u001b[0mBaseSSLError\u001b[0m\u001b[1;33m)\u001b[0m \u001b[1;32mas\u001b[0m \u001b[0me\u001b[0m\u001b[1;33m:\u001b[0m\u001b[1;33m\u001b[0m\u001b[1;33m\u001b[0m\u001b[0m\n\u001b[0;32m    384\u001b[0m             \u001b[1;31m# Py2 raises this as a BaseSSLError, Py3 raises it as socket timeout.\u001b[0m\u001b[1;33m\u001b[0m\u001b[1;33m\u001b[0m\u001b[1;33m\u001b[0m\u001b[0m\n",
      "\u001b[1;32m~\\anaconda3\\envs\\winter_project_env\\lib\\site-packages\\urllib3\\connectionpool.py\u001b[0m in \u001b[0;36m_validate_conn\u001b[1;34m(self, conn)\u001b[0m\n\u001b[0;32m   1008\u001b[0m         \u001b[1;31m# Force connect early to allow us to validate the connection.\u001b[0m\u001b[1;33m\u001b[0m\u001b[1;33m\u001b[0m\u001b[1;33m\u001b[0m\u001b[0m\n\u001b[0;32m   1009\u001b[0m         \u001b[1;32mif\u001b[0m \u001b[1;32mnot\u001b[0m \u001b[0mgetattr\u001b[0m\u001b[1;33m(\u001b[0m\u001b[0mconn\u001b[0m\u001b[1;33m,\u001b[0m \u001b[1;34m\"sock\"\u001b[0m\u001b[1;33m,\u001b[0m \u001b[1;32mNone\u001b[0m\u001b[1;33m)\u001b[0m\u001b[1;33m:\u001b[0m  \u001b[1;31m# AppEngine might not have  `.sock`\u001b[0m\u001b[1;33m\u001b[0m\u001b[1;33m\u001b[0m\u001b[0m\n\u001b[1;32m-> 1010\u001b[1;33m             \u001b[0mconn\u001b[0m\u001b[1;33m.\u001b[0m\u001b[0mconnect\u001b[0m\u001b[1;33m(\u001b[0m\u001b[1;33m)\u001b[0m\u001b[1;33m\u001b[0m\u001b[1;33m\u001b[0m\u001b[0m\n\u001b[0m\u001b[0;32m   1011\u001b[0m \u001b[1;33m\u001b[0m\u001b[0m\n\u001b[0;32m   1012\u001b[0m         \u001b[1;32mif\u001b[0m \u001b[1;32mnot\u001b[0m \u001b[0mconn\u001b[0m\u001b[1;33m.\u001b[0m\u001b[0mis_verified\u001b[0m\u001b[1;33m:\u001b[0m\u001b[1;33m\u001b[0m\u001b[1;33m\u001b[0m\u001b[0m\n",
      "\u001b[1;32m~\\anaconda3\\envs\\winter_project_env\\lib\\site-packages\\urllib3\\connection.py\u001b[0m in \u001b[0;36mconnect\u001b[1;34m(self)\u001b[0m\n\u001b[0;32m    409\u001b[0m             \u001b[0mcontext\u001b[0m\u001b[1;33m.\u001b[0m\u001b[0mload_default_certs\u001b[0m\u001b[1;33m(\u001b[0m\u001b[1;33m)\u001b[0m\u001b[1;33m\u001b[0m\u001b[1;33m\u001b[0m\u001b[0m\n\u001b[0;32m    410\u001b[0m \u001b[1;33m\u001b[0m\u001b[0m\n\u001b[1;32m--> 411\u001b[1;33m         self.sock = ssl_wrap_socket(\n\u001b[0m\u001b[0;32m    412\u001b[0m             \u001b[0msock\u001b[0m\u001b[1;33m=\u001b[0m\u001b[0mconn\u001b[0m\u001b[1;33m,\u001b[0m\u001b[1;33m\u001b[0m\u001b[1;33m\u001b[0m\u001b[0m\n\u001b[0;32m    413\u001b[0m             \u001b[0mkeyfile\u001b[0m\u001b[1;33m=\u001b[0m\u001b[0mself\u001b[0m\u001b[1;33m.\u001b[0m\u001b[0mkey_file\u001b[0m\u001b[1;33m,\u001b[0m\u001b[1;33m\u001b[0m\u001b[1;33m\u001b[0m\u001b[0m\n",
      "\u001b[1;32m~\\anaconda3\\envs\\winter_project_env\\lib\\site-packages\\urllib3\\util\\ssl_.py\u001b[0m in \u001b[0;36mssl_wrap_socket\u001b[1;34m(sock, keyfile, certfile, cert_reqs, ca_certs, server_hostname, ssl_version, ciphers, ssl_context, ca_cert_dir, key_password, ca_cert_data, tls_in_tls)\u001b[0m\n\u001b[0;32m    426\u001b[0m \u001b[1;33m\u001b[0m\u001b[0m\n\u001b[0;32m    427\u001b[0m     \u001b[1;32mif\u001b[0m \u001b[0msend_sni\u001b[0m\u001b[1;33m:\u001b[0m\u001b[1;33m\u001b[0m\u001b[1;33m\u001b[0m\u001b[0m\n\u001b[1;32m--> 428\u001b[1;33m         ssl_sock = _ssl_wrap_socket_impl(\n\u001b[0m\u001b[0;32m    429\u001b[0m             \u001b[0msock\u001b[0m\u001b[1;33m,\u001b[0m \u001b[0mcontext\u001b[0m\u001b[1;33m,\u001b[0m \u001b[0mtls_in_tls\u001b[0m\u001b[1;33m,\u001b[0m \u001b[0mserver_hostname\u001b[0m\u001b[1;33m=\u001b[0m\u001b[0mserver_hostname\u001b[0m\u001b[1;33m\u001b[0m\u001b[1;33m\u001b[0m\u001b[0m\n\u001b[0;32m    430\u001b[0m         )\n",
      "\u001b[1;32m~\\anaconda3\\envs\\winter_project_env\\lib\\site-packages\\urllib3\\util\\ssl_.py\u001b[0m in \u001b[0;36m_ssl_wrap_socket_impl\u001b[1;34m(sock, ssl_context, tls_in_tls, server_hostname)\u001b[0m\n\u001b[0;32m    470\u001b[0m \u001b[1;33m\u001b[0m\u001b[0m\n\u001b[0;32m    471\u001b[0m     \u001b[1;32mif\u001b[0m \u001b[0mserver_hostname\u001b[0m\u001b[1;33m:\u001b[0m\u001b[1;33m\u001b[0m\u001b[1;33m\u001b[0m\u001b[0m\n\u001b[1;32m--> 472\u001b[1;33m         \u001b[1;32mreturn\u001b[0m \u001b[0mssl_context\u001b[0m\u001b[1;33m.\u001b[0m\u001b[0mwrap_socket\u001b[0m\u001b[1;33m(\u001b[0m\u001b[0msock\u001b[0m\u001b[1;33m,\u001b[0m \u001b[0mserver_hostname\u001b[0m\u001b[1;33m=\u001b[0m\u001b[0mserver_hostname\u001b[0m\u001b[1;33m)\u001b[0m\u001b[1;33m\u001b[0m\u001b[1;33m\u001b[0m\u001b[0m\n\u001b[0m\u001b[0;32m    473\u001b[0m     \u001b[1;32melse\u001b[0m\u001b[1;33m:\u001b[0m\u001b[1;33m\u001b[0m\u001b[1;33m\u001b[0m\u001b[0m\n\u001b[0;32m    474\u001b[0m         \u001b[1;32mreturn\u001b[0m \u001b[0mssl_context\u001b[0m\u001b[1;33m.\u001b[0m\u001b[0mwrap_socket\u001b[0m\u001b[1;33m(\u001b[0m\u001b[0msock\u001b[0m\u001b[1;33m)\u001b[0m\u001b[1;33m\u001b[0m\u001b[1;33m\u001b[0m\u001b[0m\n",
      "\u001b[1;32m~\\anaconda3\\envs\\winter_project_env\\lib\\ssl.py\u001b[0m in \u001b[0;36mwrap_socket\u001b[1;34m(self, sock, server_side, do_handshake_on_connect, suppress_ragged_eofs, server_hostname, session)\u001b[0m\n\u001b[0;32m    498\u001b[0m         \u001b[1;31m# SSLSocket class handles server_hostname encoding before it calls\u001b[0m\u001b[1;33m\u001b[0m\u001b[1;33m\u001b[0m\u001b[1;33m\u001b[0m\u001b[0m\n\u001b[0;32m    499\u001b[0m         \u001b[1;31m# ctx._wrap_socket()\u001b[0m\u001b[1;33m\u001b[0m\u001b[1;33m\u001b[0m\u001b[1;33m\u001b[0m\u001b[0m\n\u001b[1;32m--> 500\u001b[1;33m         return self.sslsocket_class._create(\n\u001b[0m\u001b[0;32m    501\u001b[0m             \u001b[0msock\u001b[0m\u001b[1;33m=\u001b[0m\u001b[0msock\u001b[0m\u001b[1;33m,\u001b[0m\u001b[1;33m\u001b[0m\u001b[1;33m\u001b[0m\u001b[0m\n\u001b[0;32m    502\u001b[0m             \u001b[0mserver_side\u001b[0m\u001b[1;33m=\u001b[0m\u001b[0mserver_side\u001b[0m\u001b[1;33m,\u001b[0m\u001b[1;33m\u001b[0m\u001b[1;33m\u001b[0m\u001b[0m\n",
      "\u001b[1;32m~\\anaconda3\\envs\\winter_project_env\\lib\\ssl.py\u001b[0m in \u001b[0;36m_create\u001b[1;34m(cls, sock, server_side, do_handshake_on_connect, suppress_ragged_eofs, server_hostname, context, session)\u001b[0m\n\u001b[0;32m   1038\u001b[0m                         \u001b[1;31m# non-blocking\u001b[0m\u001b[1;33m\u001b[0m\u001b[1;33m\u001b[0m\u001b[1;33m\u001b[0m\u001b[0m\n\u001b[0;32m   1039\u001b[0m                         \u001b[1;32mraise\u001b[0m \u001b[0mValueError\u001b[0m\u001b[1;33m(\u001b[0m\u001b[1;34m\"do_handshake_on_connect should not be specified for non-blocking sockets\"\u001b[0m\u001b[1;33m)\u001b[0m\u001b[1;33m\u001b[0m\u001b[1;33m\u001b[0m\u001b[0m\n\u001b[1;32m-> 1040\u001b[1;33m                     \u001b[0mself\u001b[0m\u001b[1;33m.\u001b[0m\u001b[0mdo_handshake\u001b[0m\u001b[1;33m(\u001b[0m\u001b[1;33m)\u001b[0m\u001b[1;33m\u001b[0m\u001b[1;33m\u001b[0m\u001b[0m\n\u001b[0m\u001b[0;32m   1041\u001b[0m             \u001b[1;32mexcept\u001b[0m \u001b[1;33m(\u001b[0m\u001b[0mOSError\u001b[0m\u001b[1;33m,\u001b[0m \u001b[0mValueError\u001b[0m\u001b[1;33m)\u001b[0m\u001b[1;33m:\u001b[0m\u001b[1;33m\u001b[0m\u001b[1;33m\u001b[0m\u001b[0m\n\u001b[0;32m   1042\u001b[0m                 \u001b[0mself\u001b[0m\u001b[1;33m.\u001b[0m\u001b[0mclose\u001b[0m\u001b[1;33m(\u001b[0m\u001b[1;33m)\u001b[0m\u001b[1;33m\u001b[0m\u001b[1;33m\u001b[0m\u001b[0m\n",
      "\u001b[1;32m~\\anaconda3\\envs\\winter_project_env\\lib\\ssl.py\u001b[0m in \u001b[0;36mdo_handshake\u001b[1;34m(self, block)\u001b[0m\n\u001b[0;32m   1307\u001b[0m             \u001b[1;32mif\u001b[0m \u001b[0mtimeout\u001b[0m \u001b[1;33m==\u001b[0m \u001b[1;36m0.0\u001b[0m \u001b[1;32mand\u001b[0m \u001b[0mblock\u001b[0m\u001b[1;33m:\u001b[0m\u001b[1;33m\u001b[0m\u001b[1;33m\u001b[0m\u001b[0m\n\u001b[0;32m   1308\u001b[0m                 \u001b[0mself\u001b[0m\u001b[1;33m.\u001b[0m\u001b[0msettimeout\u001b[0m\u001b[1;33m(\u001b[0m\u001b[1;32mNone\u001b[0m\u001b[1;33m)\u001b[0m\u001b[1;33m\u001b[0m\u001b[1;33m\u001b[0m\u001b[0m\n\u001b[1;32m-> 1309\u001b[1;33m             \u001b[0mself\u001b[0m\u001b[1;33m.\u001b[0m\u001b[0m_sslobj\u001b[0m\u001b[1;33m.\u001b[0m\u001b[0mdo_handshake\u001b[0m\u001b[1;33m(\u001b[0m\u001b[1;33m)\u001b[0m\u001b[1;33m\u001b[0m\u001b[1;33m\u001b[0m\u001b[0m\n\u001b[0m\u001b[0;32m   1310\u001b[0m         \u001b[1;32mfinally\u001b[0m\u001b[1;33m:\u001b[0m\u001b[1;33m\u001b[0m\u001b[1;33m\u001b[0m\u001b[0m\n\u001b[0;32m   1311\u001b[0m             \u001b[0mself\u001b[0m\u001b[1;33m.\u001b[0m\u001b[0msettimeout\u001b[0m\u001b[1;33m(\u001b[0m\u001b[0mtimeout\u001b[0m\u001b[1;33m)\u001b[0m\u001b[1;33m\u001b[0m\u001b[1;33m\u001b[0m\u001b[0m\n",
      "\u001b[1;31mKeyboardInterrupt\u001b[0m: "
     ]
    }
   ],
   "source": [
    "list_btc = pyupbit.get_tickers(fiat=\"BTC\")\n",
    "for _ in list_btc:\n",
    "    pd_data = pyupbit.get_ohlcv(f\"{_}\", interval=\"miniute1\", count=60 )\n",
    "    pd_data"
   ]
  },
  {
   "cell_type": "code",
   "execution_count": 3,
   "metadata": {},
   "outputs": [
    {
     "data": {
      "text/plain": [
       "39769000.0"
      ]
     },
     "execution_count": 3,
     "metadata": {},
     "output_type": "execute_result"
    }
   ],
   "source": [
    "pyupbit.get_current_price(\"KRW-BTC\")"
   ]
  },
  {
   "cell_type": "code",
   "execution_count": 38,
   "metadata": {},
   "outputs": [
    {
     "data": {
      "text/plain": [
       "44902440.0"
      ]
     },
     "execution_count": 38,
     "metadata": {},
     "output_type": "execute_result"
    }
   ],
   "source": [
    "pyupbit.get_current_price(f\"KRW-{Symbol['key1']}\")*(1+0.05/100)"
   ]
  },
  {
   "cell_type": "code",
   "execution_count": 29,
   "metadata": {},
   "outputs": [
    {
     "data": {
      "text/plain": [
       "0.03293767"
      ]
     },
     "execution_count": 29,
     "metadata": {},
     "output_type": "execute_result"
    }
   ],
   "source": [
    "pyupbit.get_current_price(f\"{Symbol['key2']}-{Symbol['key1']}\")"
   ]
  },
  {
   "cell_type": "code",
   "execution_count": 37,
   "metadata": {},
   "outputs": [
    {
     "data": {
      "text/plain": [
       "0.01527832845"
      ]
     },
     "execution_count": 37,
     "metadata": {},
     "output_type": "execute_result"
    }
   ],
   "source": [
    "pyupbit.get_current_price(f\"{Symbol['key1']}-{Symbol['key2']}\")*(1-0.25/100) * pyupbit.get_current_price(f\"KRW-{Symbol['key1']}\")*(1-0.05/100)"
   ]
  },
  {
   "cell_type": "code",
   "execution_count": 26,
   "metadata": {},
   "outputs": [
    {
     "data": {
      "text/plain": [
       "30.284662953207228"
      ]
     },
     "execution_count": 26,
     "metadata": {},
     "output_type": "execute_result"
    }
   ],
   "source": [
    "(1/(1+0.25/100))/pyupbit.get_current_price(f\"{Symbol['key2']}-{Symbol['key1']}\")"
   ]
  },
  {
   "cell_type": "code",
   "execution_count": 27,
   "metadata": {},
   "outputs": [
    {
     "data": {
      "text/plain": [
       "45085446.0"
      ]
     },
     "execution_count": 27,
     "metadata": {},
     "output_type": "execute_result"
    }
   ],
   "source": [
    "pyupbit.get_current_price(f\"KRW-{Symbol['key2']}\")*(1-0.05/100)"
   ]
  },
  {
   "cell_type": "code",
   "execution_count": 39,
   "metadata": {},
   "outputs": [],
   "source": [
    "reverse_diff = pyupbit.get_current_price(f\"KRW-{Symbol['key2']}\")*(1+0.05/100) - pyupbit.get_current_price(f\"{Symbol['key1']}-{Symbol['key2']}\")*(1-0.25/100) * pyupbit.get_current_price(f\"KRW-{Symbol['key1']}\")*(1-0.05/100)"
   ]
  },
  {
   "cell_type": "code",
   "execution_count": 12,
   "metadata": {},
   "outputs": [],
   "source": [
    "import datetime\n",
    "from time import sleep"
   ]
  },
  {
   "cell_type": "code",
   "execution_count": 40,
   "metadata": {
    "scrolled": false
   },
   "outputs": [
    {
     "name": "stdout",
     "output_type": "stream",
     "text": [
      "704232.4052857533\n",
      "-5301.319652720937\n",
      "650651.0445405543\n",
      "-6001.669652720913\n",
      "644648.0445405543\n",
      "-6093.29378843552\n",
      "625120.0909588262\n",
      "-4801.069652720937\n",
      "616115.5909588262\n",
      "-4633.092070577433\n",
      "636644.0445405543\n",
      "-4979.054138434702\n",
      "636644.0445405543\n",
      "-4694.174827720504\n",
      "It failed JSONDecodeError\n",
      "TypeError\n"
     ]
    },
    {
     "ename": "TypeError",
     "evalue": "unsupported operand type(s) for *: 'NoneType' and 'float'",
     "output_type": "error",
     "traceback": [
      "\u001b[1;31m---------------------------------------------------------------------------\u001b[0m",
      "\u001b[1;31mTypeError\u001b[0m                                 Traceback (most recent call last)",
      "\u001b[1;32m<ipython-input-40-efa0f717de72>\u001b[0m in \u001b[0;36m<module>\u001b[1;34m\u001b[0m\n\u001b[0;32m      5\u001b[0m     \u001b[1;31m# diff -of balance + take one : -diff means net worth\u001b[0m\u001b[1;33m\u001b[0m\u001b[1;33m\u001b[0m\u001b[1;33m\u001b[0m\u001b[0m\n\u001b[0;32m      6\u001b[0m     \u001b[0mdiff\u001b[0m \u001b[1;33m=\u001b[0m \u001b[0mpyupbit\u001b[0m\u001b[1;33m.\u001b[0m\u001b[0mget_current_price\u001b[0m\u001b[1;33m(\u001b[0m\u001b[1;34mf\"KRW-{Symbol['key1']}\"\u001b[0m\u001b[1;33m)\u001b[0m\u001b[1;33m*\u001b[0m\u001b[1;33m(\u001b[0m\u001b[1;36m1\u001b[0m\u001b[1;33m+\u001b[0m\u001b[1;36m0.05\u001b[0m\u001b[1;33m/\u001b[0m\u001b[1;36m100\u001b[0m\u001b[1;33m)\u001b[0m \u001b[1;33m-\u001b[0m \u001b[1;33m(\u001b[0m\u001b[1;36m1\u001b[0m\u001b[1;33m/\u001b[0m\u001b[1;33m(\u001b[0m\u001b[1;36m1\u001b[0m\u001b[1;33m+\u001b[0m\u001b[1;36m0.25\u001b[0m\u001b[1;33m/\u001b[0m\u001b[1;36m100\u001b[0m\u001b[1;33m)\u001b[0m\u001b[1;33m)\u001b[0m\u001b[1;33m/\u001b[0m\u001b[0mpyupbit\u001b[0m\u001b[1;33m.\u001b[0m\u001b[0mget_current_price\u001b[0m\u001b[1;33m(\u001b[0m\u001b[1;34mf\"{Symbol['key1']}-{Symbol['key2']}\"\u001b[0m\u001b[1;33m)\u001b[0m\u001b[1;33m*\u001b[0m\u001b[0mpyupbit\u001b[0m\u001b[1;33m.\u001b[0m\u001b[0mget_current_price\u001b[0m\u001b[1;33m(\u001b[0m\u001b[1;34mf\"KRW-{Symbol['key2']}\"\u001b[0m\u001b[1;33m)\u001b[0m\u001b[1;33m*\u001b[0m\u001b[1;33m(\u001b[0m\u001b[1;36m1\u001b[0m\u001b[1;33m-\u001b[0m\u001b[1;36m0.05\u001b[0m\u001b[1;33m/\u001b[0m\u001b[1;36m100\u001b[0m\u001b[1;33m)\u001b[0m\u001b[1;33m\u001b[0m\u001b[1;33m\u001b[0m\u001b[0m\n\u001b[1;32m----> 7\u001b[1;33m     \u001b[0mreverse_diff\u001b[0m \u001b[1;33m=\u001b[0m \u001b[0mpyupbit\u001b[0m\u001b[1;33m.\u001b[0m\u001b[0mget_current_price\u001b[0m\u001b[1;33m(\u001b[0m\u001b[1;34mf\"KRW-{Symbol['key2']}\"\u001b[0m\u001b[1;33m)\u001b[0m\u001b[1;33m*\u001b[0m\u001b[1;33m(\u001b[0m\u001b[1;36m1\u001b[0m\u001b[1;33m+\u001b[0m\u001b[1;36m0.05\u001b[0m\u001b[1;33m/\u001b[0m\u001b[1;36m100\u001b[0m\u001b[1;33m)\u001b[0m \u001b[1;33m-\u001b[0m \u001b[0mpyupbit\u001b[0m\u001b[1;33m.\u001b[0m\u001b[0mget_current_price\u001b[0m\u001b[1;33m(\u001b[0m\u001b[1;34mf\"{Symbol['key1']}-{Symbol['key2']}\"\u001b[0m\u001b[1;33m)\u001b[0m\u001b[1;33m*\u001b[0m\u001b[1;33m(\u001b[0m\u001b[1;36m1\u001b[0m\u001b[1;33m-\u001b[0m\u001b[1;36m0.25\u001b[0m\u001b[1;33m/\u001b[0m\u001b[1;36m100\u001b[0m\u001b[1;33m)\u001b[0m \u001b[1;33m*\u001b[0m \u001b[0mpyupbit\u001b[0m\u001b[1;33m.\u001b[0m\u001b[0mget_current_price\u001b[0m\u001b[1;33m(\u001b[0m\u001b[1;34mf\"KRW-{Symbol['key1']}\"\u001b[0m\u001b[1;33m)\u001b[0m\u001b[1;33m*\u001b[0m\u001b[1;33m(\u001b[0m\u001b[1;36m1\u001b[0m\u001b[1;33m-\u001b[0m\u001b[1;36m0.05\u001b[0m\u001b[1;33m/\u001b[0m\u001b[1;36m100\u001b[0m\u001b[1;33m)\u001b[0m\u001b[1;33m\u001b[0m\u001b[1;33m\u001b[0m\u001b[0m\n\u001b[0m\u001b[0;32m      8\u001b[0m     \u001b[0mprint\u001b[0m\u001b[1;33m(\u001b[0m\u001b[0mdiff\u001b[0m\u001b[1;33m)\u001b[0m\u001b[1;33m\u001b[0m\u001b[1;33m\u001b[0m\u001b[0m\n\u001b[0;32m      9\u001b[0m     \u001b[0mprint\u001b[0m\u001b[1;33m(\u001b[0m\u001b[0mreverse_diff\u001b[0m\u001b[1;33m)\u001b[0m\u001b[1;33m\u001b[0m\u001b[1;33m\u001b[0m\u001b[0m\n",
      "\u001b[1;31mTypeError\u001b[0m: unsupported operand type(s) for *: 'NoneType' and 'float'"
     ]
    }
   ],
   "source": [
    "req_iterate = 0\n",
    "while True:\n",
    "    sleep(0.2)\n",
    "    minutes = int(datetime.datetime.now().strftime('%M'))\n",
    "    # diff -of balance + take one : -diff means net worth \n",
    "    diff = pyupbit.get_current_price(f\"KRW-{Symbol['key1']}\")*(1+0.05/100) - (1/(1+0.25/100))/pyupbit.get_current_price(f\"{Symbol['key1']}-{Symbol['key2']}\")*pyupbit.get_current_price(f\"KRW-{Symbol['key2']}\")*(1-0.05/100)\n",
    "    reverse_diff = pyupbit.get_current_price(f\"KRW-{Symbol['key2']}\")*(1+0.05/100) - pyupbit.get_current_price(f\"{Symbol['key1']}-{Symbol['key2']}\")*(1-0.25/100) * pyupbit.get_current_price(f\"KRW-{Symbol['key1']}\")*(1-0.05/100)\n",
    "    print(diff)\n",
    "    print(reverse_diff)\n",
    "    #     if diff<0:\n",
    "#         upbit.buy_market_order(f\"KRW-{Symbol['key1']}\", upbit.get_balance(ticker=\"KRW\"))\n",
    "        \n",
    "#         while True:\n",
    "#             if upbit.get_balance(ticker=f\"{Symbol['key1']}\") is not None:\n",
    "#                 upbit.buy_market_order(f\"{Symbol['key1']}-{Symbol['key2']}\", upbit.get_balance(ticker=f\"{Symbol['key1']}\"))\n",
    "                \n",
    "#                 while True:\n",
    "#                     if upbit.get_balance(ticker=f\"{Symbol['key2']}\") is not None:\n",
    "#                         upbit.sell_market_order(f\"KRW-{Symbol['key2']}\", upbit.get_balance(ticker=f\"{Symbol['key2']}\"))\n",
    "                        \n",
    "#                         if minutes == int(datetime.datetime.now().strftime('%M')):\n",
    "#                             req_iterate += 1\n",
    "                            \n",
    "#                             if req_iterate >= 66:\n",
    "#                                 req_iterate = 0\n",
    "#                                 sleep(60 - int(datetime.datetime.now().strftime('%S'))\n",
    "#                             else: pass\n",
    "        \n",
    "#                         else:\n",
    "\n",
    "#                             req_iterate = 0\n",
    "                            \n",
    "                                \n",
    "#                         break\n",
    "#                     else:\n",
    "#                         pass\n",
    "                    \n",
    "#                 break\n",
    "#             else:\n",
    "#                 pass\n",
    "            \n",
    "      \n",
    "#     else:\n",
    "#         continue\n",
    "    "
   ]
  },
  {
   "cell_type": "code",
   "execution_count": null,
   "metadata": {},
   "outputs": [],
   "source": [
    "1/pyupbit.get_current_price(f\"{Symbol['key1']}-{Symbol['key2']}\")*(1-0.25/100)*pyupbit.get_current_price(f\"KRW-{Symbol['key2']}\")*(1-0.05/100)-pyupbit.get_current_price(f\"KRW-{Symbol['key1']}\")*(1+0.05/100)"
   ]
  },
  {
   "cell_type": "code",
   "execution_count": 44,
   "metadata": {},
   "outputs": [
    {
     "name": "stdout",
     "output_type": "stream",
     "text": [
      "51265.362\n",
      "185735.32263646275\n",
      "4201.300986265531\n",
      "51265.362\n",
      "185735.32263646275\n",
      "3701.050986265531\n",
      "51265.362\n",
      "185735.32263646275\n",
      "4127.956662372686\n",
      "51265.362\n",
      "200870.08294732124\n",
      "3701.050986265531\n",
      "51265.362\n",
      "187863.58294732124\n",
      "3733.8898844274227\n",
      "51265.362\n",
      "245273.86387991905\n",
      "2233.1398844274227\n",
      "51265.362\n",
      "233267.86387991905\n",
      "2233.1398844274227\n",
      "51265.362\n",
      "245273.86387991905\n",
      "2200.300986265531\n",
      "51265.362\n",
      "233267.86387991905\n",
      "2200.300986265531\n",
      "51265.362\n",
      "200870.08294732124\n",
      "2627.206662372686\n",
      "51265.362\n",
      "352217.6860559806\n",
      "2594.3677642105613\n",
      "51265.362\n",
      "234268.36387991905\n",
      "2627.206662372686\n",
      "51265.362\n",
      "203998.84325819463\n",
      "3890.4178476692177\n",
      "51265.362\n",
      "194994.34325819463\n",
      "3890.4178476692177\n",
      "51265.362\n",
      "210129.10356906056\n",
      "3890.4178476692177\n",
      "51265.362\n",
      "316072.4257451147\n",
      "-111.58215233078226\n",
      "-111.58215233078226\n",
      "51265.362\n",
      "225263.86387991905\n",
      "2889.9178476692177\n",
      "51265.362\n",
      "225263.86387991905\n",
      "3054.1123384796083\n",
      "51265.362\n",
      "221261.86387991905\n",
      "3678.0514035592787\n",
      "51265.362\n",
      "308195.6860559806\n",
      "-447.6376615203917\n",
      "-447.6376615203917\n",
      "51265.362\n",
      "232521.88450165838\n",
      "176.3014035592787\n",
      "51265.362\n",
      "307195.1860559806\n",
      "176.3014035592787\n",
      "51265.362\n",
      "215386.124190785\n",
      "176.3014035592787\n",
      "51265.362\n",
      "208382.624190785\n",
      "3177.8014035592787\n",
      "51265.362\n",
      "210383.624190785\n",
      "3440.5125888560433\n",
      "51265.362\n",
      "208382.624190785\n",
      "3440.5125888560433\n",
      "51265.362\n",
      "208382.624190785\n",
      "3440.5125888560433\n",
      "51265.362\n",
      "199378.124190785\n",
      "636.0459778287914\n",
      "51265.362\n",
      "202379.624190785\n",
      "800.2404686391819\n",
      "51265.362\n",
      "212511.88450165838\n",
      "1300.490468639182\n",
      "51265.362\n",
      "197377.124190785\n",
      "1300.490468639182\n",
      "51265.362\n",
      "267047.9257451147\n",
      "4195.80724658398\n",
      "51265.362\n",
      "261044.92574511468\n",
      "3834.579366801074\n",
      "51265.362\n",
      "185371.124190785\n",
      "4195.80724658398\n",
      "51265.362\n",
      "196376.624190785\n",
      "3834.579366801074\n",
      "51265.362\n",
      "261044.92574511468\n",
      "-4169.420633198926\n",
      "-4169.420633198926\n",
      "51265.362\n",
      "261044.92574511468\n",
      "1694.5572465839796\n",
      "51265.362\n",
      "261044.92574511468\n",
      "1694.5572465839796\n",
      "51265.362\n",
      "287185.1860559806\n",
      "1990.1073300428689\n",
      "51265.362\n",
      "276179.6860559806\n",
      "694.0572465839796\n",
      "51265.362\n",
      "291314.44636684656\n",
      "2194.8072465839796\n",
      "51265.362\n",
      "230775.4051233828\n",
      "694.0572465839796\n",
      "51265.362\n",
      "230775.4051233828\n",
      "2523.1962282049935\n",
      "51265.362\n",
      "179495.38450165838\n",
      "3351.8352098257747\n",
      "51265.362\n",
      "220770.4051233828\n",
      "3023.4462282049935\n",
      "51265.362\n",
      "266301.94636684656\n",
      "3023.4462282049935\n",
      "51265.362\n",
      "220770.4051233828\n",
      "1383.6741079878993\n",
      "51265.362\n",
      "219769.9051233828\n",
      "3351.8352098257747\n",
      "51265.362\n",
      "219769.9051233828\n",
      "3778.7408859331626\n"
     ]
    },
    {
     "ename": "KeyboardInterrupt",
     "evalue": "",
     "output_type": "error",
     "traceback": [
      "\u001b[1;31m---------------------------------------------------------------------------\u001b[0m",
      "\u001b[1;31mKeyboardInterrupt\u001b[0m                         Traceback (most recent call last)",
      "\u001b[1;32m<ipython-input-44-a96c64ae8e5f>\u001b[0m in \u001b[0;36m<module>\u001b[1;34m\u001b[0m\n\u001b[0;32m     15\u001b[0m \u001b[0mreq_iterate\u001b[0m \u001b[1;33m=\u001b[0m \u001b[1;36m0\u001b[0m\u001b[1;33m\u001b[0m\u001b[1;33m\u001b[0m\u001b[0m\n\u001b[0;32m     16\u001b[0m \u001b[1;32mwhile\u001b[0m \u001b[1;32mTrue\u001b[0m\u001b[1;33m:\u001b[0m\u001b[1;33m\u001b[0m\u001b[1;33m\u001b[0m\u001b[0m\n\u001b[1;32m---> 17\u001b[1;33m     \u001b[0msleep\u001b[0m\u001b[1;33m(\u001b[0m\u001b[1;36m0.2\u001b[0m\u001b[1;33m)\u001b[0m\u001b[1;33m\u001b[0m\u001b[1;33m\u001b[0m\u001b[0m\n\u001b[0m\u001b[0;32m     18\u001b[0m     \u001b[0mprint\u001b[0m\u001b[1;33m(\u001b[0m\u001b[0mupbit\u001b[0m\u001b[1;33m.\u001b[0m\u001b[0mget_balance\u001b[0m\u001b[1;33m(\u001b[0m\u001b[1;34m\"KRW\"\u001b[0m\u001b[1;33m)\u001b[0m\u001b[1;33m)\u001b[0m\u001b[1;33m\u001b[0m\u001b[1;33m\u001b[0m\u001b[0m\n\u001b[0;32m     19\u001b[0m \u001b[1;33m\u001b[0m\u001b[0m\n",
      "\u001b[1;31mKeyboardInterrupt\u001b[0m: "
     ]
    }
   ],
   "source": [
    "from pyupbit import Upbit, get_current_price\n",
    "import datetime\n",
    "from time import sleep\n",
    "\n",
    "access = \"0g02ZSPdlROwD5ydXpND9OTblVe7mVJoE2cbGzv5\"\n",
    "secret = 'YYSSzfolyXX0NNEWUSTOdDm8rJhd6YoOuYVyphah'\n",
    "upbit = Upbit(access, secret)\n",
    "Symbol = {\"key1\": \"BTC\", \"key2\": \"ETH\"}\n",
    "fee = {\"KRW\": 0.05, \"BTC\": 0.25, \"USDT\": 0.05}\n",
    "min_price = {\"KRW\": 500, \"BTC\": 0.0005, \"USDT\": 0.0005}\n",
    "# 초당 8회, 분당 200회 : 주문\n",
    "# 초당 30회, 분당 900회 : 주문외\n",
    "bal = 10000\n",
    "\n",
    "req_iterate = 0\n",
    "while True:\n",
    "    sleep(0.2)\n",
    "    print(upbit.get_balance(\"KRW\"))\n",
    "\n",
    "    minutes = int(datetime.datetime.now().strftime('%M'))\n",
    "    # diff -of balance + take one : -diff means net worth\n",
    "    try:\n",
    "        diff = get_current_price(f\"KRW-{Symbol['key1']}\") * (1 + 0.05 / 100) - \\\n",
    "            ((1 / (1 + 0.25 / 100)) / get_current_price(f\"{Symbol['key1']}-{Symbol['key2']}\")) * \\\n",
    "            get_current_price(f\"KRW-{Symbol['key2']}\") * (1 - 0.05 / 100)\n",
    "\n",
    "        reverse_diff = get_current_price(f\"KRW-{Symbol['key2']}\") * (1 + 0.05 / 100) -  \\\n",
    "            get_current_price(f\"{Symbol['key1']}-{Symbol['key2']}\") * (1 - 0.25 / 100) * \\\n",
    "            get_current_price(f\"KRW-{Symbol['key1']}\") * (1 - 0.05 / 100)\n",
    "        \n",
    "    except TypeError:\n",
    "        diff = 0\n",
    "        reverse_diff = 0\n",
    "    \n",
    "    print(diff)\n",
    "    print(reverse_diff)\n",
    "    if diff < 0:\n",
    "        upbit.buy_market_order(f\"KRW-{Symbol['key1']}\", upbit.get_balance(ticker=\"KRW\"))\n",
    "\n",
    "        print(diff)\n",
    "\n",
    "    elif reverse_diff < 0:\n",
    "        upbit.buy_market_order(f\"KRW-{Symbol['key2']}\", upbit.get_balance(ticker=\"KRW\"))\n",
    "\n",
    "        print(reverse_diff)\n",
    "\n",
    "    else:\n",
    "        pass\n"
   ]
  },
  {
   "cell_type": "code",
   "execution_count": null,
   "metadata": {},
   "outputs": [],
   "source": [
    "sleep(0.2)"
   ]
  },
  {
   "cell_type": "code",
   "execution_count": 49,
   "metadata": {},
   "outputs": [
    {
     "name": "stdout",
     "output_type": "stream",
     "text": [
      "44691000.0\n",
      "44700000.0\n",
      "44700000.0\n",
      "44700000.0\n",
      "([{'currency': 'KRW', 'balance': '51265.362', 'locked': '0.0', 'avg_buy_price': '0', 'avg_buy_price_modified': True, 'unit_currency': 'KRW'}], {'group': 'default', 'min': 805, 'sec': 29})\n",
      "44700000.0\n",
      "44691000.0\n",
      "44700000.0\n",
      "44691000.0\n",
      "([{'currency': 'KRW', 'balance': '51265.362', 'locked': '0.0', 'avg_buy_price': '0', 'avg_buy_price_modified': True, 'unit_currency': 'KRW'}], {'group': 'default', 'min': 804, 'sec': 29})\n",
      "44691000.0\n",
      "44691000.0\n",
      "44691000.0\n",
      "44700000.0\n",
      "([{'currency': 'KRW', 'balance': '51265.362', 'locked': '0.0', 'avg_buy_price': '0', 'avg_buy_price_modified': True, 'unit_currency': 'KRW'}], {'group': 'default', 'min': 803, 'sec': 28})\n",
      "44700000.0\n",
      "44691000.0\n",
      "44700000.0\n",
      "44700000.0\n",
      "([{'currency': 'KRW', 'balance': '51265.362', 'locked': '0.0', 'avg_buy_price': '0', 'avg_buy_price_modified': True, 'unit_currency': 'KRW'}], {'group': 'default', 'min': 802, 'sec': 27})\n",
      "44700000.0\n",
      "44700000.0\n",
      "44692000.0\n",
      "44691000.0\n",
      "([{'currency': 'KRW', 'balance': '51265.362', 'locked': '0.0', 'avg_buy_price': '0', 'avg_buy_price_modified': True, 'unit_currency': 'KRW'}], {'group': 'default', 'min': 801, 'sec': 29})\n",
      "44692000.0\n",
      "44692000.0\n",
      "44691000.0\n",
      "44692000.0\n",
      "([{'currency': 'KRW', 'balance': '51265.362', 'locked': '0.0', 'avg_buy_price': '0', 'avg_buy_price_modified': True, 'unit_currency': 'KRW'}], {'group': 'default', 'min': 800, 'sec': 28})\n",
      "44692000.0\n",
      "44692000.0\n",
      "44692000.0\n",
      "44692000.0\n",
      "([{'currency': 'KRW', 'balance': '51265.362', 'locked': '0.0', 'avg_buy_price': '0', 'avg_buy_price_modified': True, 'unit_currency': 'KRW'}], {'group': 'default', 'min': 799, 'sec': 29})\n",
      "44692000.0\n",
      "44692000.0\n",
      "44692000.0\n",
      "44692000.0\n",
      "([{'currency': 'KRW', 'balance': '51265.362', 'locked': '0.0', 'avg_buy_price': '0', 'avg_buy_price_modified': True, 'unit_currency': 'KRW'}], {'group': 'default', 'min': 798, 'sec': 28})\n",
      "44692000.0\n",
      "44692000.0\n",
      "44692000.0\n",
      "44692000.0\n",
      "([{'currency': 'KRW', 'balance': '51265.362', 'locked': '0.0', 'avg_buy_price': '0', 'avg_buy_price_modified': True, 'unit_currency': 'KRW'}], {'group': 'default', 'min': 797, 'sec': 29})\n",
      "44692000.0\n",
      "44692000.0\n",
      "44692000.0\n",
      "44692000.0\n",
      "([{'currency': 'KRW', 'balance': '51265.362', 'locked': '0.0', 'avg_buy_price': '0', 'avg_buy_price_modified': True, 'unit_currency': 'KRW'}], {'group': 'default', 'min': 796, 'sec': 28})\n",
      "44692000.0\n",
      "44692000.0\n",
      "44692000.0\n",
      "44692000.0\n",
      "([{'currency': 'KRW', 'balance': '51265.362', 'locked': '0.0', 'avg_buy_price': '0', 'avg_buy_price_modified': True, 'unit_currency': 'KRW'}], {'group': 'default', 'min': 795, 'sec': 27})\n",
      "44692000.0\n",
      "44692000.0\n",
      "44692000.0\n",
      "44692000.0\n",
      "([{'currency': 'KRW', 'balance': '51265.362', 'locked': '0.0', 'avg_buy_price': '0', 'avg_buy_price_modified': True, 'unit_currency': 'KRW'}], {'group': 'default', 'min': 794, 'sec': 29})\n",
      "44692000.0\n",
      "44692000.0\n",
      "44700000.0\n",
      "44700000.0\n",
      "([{'currency': 'KRW', 'balance': '51265.362', 'locked': '0.0', 'avg_buy_price': '0', 'avg_buy_price_modified': True, 'unit_currency': 'KRW'}], {'group': 'default', 'min': 793, 'sec': 28})\n",
      "44692000.0\n",
      "44692000.0\n",
      "44700000.0\n",
      "44700000.0\n",
      "([{'currency': 'KRW', 'balance': '51265.362', 'locked': '0.0', 'avg_buy_price': '0', 'avg_buy_price_modified': True, 'unit_currency': 'KRW'}], {'group': 'default', 'min': 792, 'sec': 29})\n",
      "44692000.0\n",
      "44692000.0\n",
      "44700000.0\n",
      "44700000.0\n",
      "([{'currency': 'KRW', 'balance': '51265.362', 'locked': '0.0', 'avg_buy_price': '0', 'avg_buy_price_modified': True, 'unit_currency': 'KRW'}], {'group': 'default', 'min': 791, 'sec': 28})\n",
      "44700000.0\n",
      "44692000.0\n",
      "44700000.0\n",
      "44700000.0\n",
      "([{'currency': 'KRW', 'balance': '51265.362', 'locked': '0.0', 'avg_buy_price': '0', 'avg_buy_price_modified': True, 'unit_currency': 'KRW'}], {'group': 'default', 'min': 790, 'sec': 27})\n",
      "44700000.0\n",
      "44700000.0\n",
      "44692000.0\n",
      "44692000.0\n",
      "([{'currency': 'KRW', 'balance': '51265.362', 'locked': '0.0', 'avg_buy_price': '0', 'avg_buy_price_modified': True, 'unit_currency': 'KRW'}], {'group': 'default', 'min': 789, 'sec': 29})\n",
      "44692000.0\n",
      "44700000.0\n",
      "44692000.0\n",
      "44692000.0\n",
      "([{'currency': 'KRW', 'balance': '51265.362', 'locked': '0.0', 'avg_buy_price': '0', 'avg_buy_price_modified': True, 'unit_currency': 'KRW'}], {'group': 'default', 'min': 788, 'sec': 28})\n",
      "44700000.0\n",
      "44692000.0\n",
      "44700000.0\n",
      "44692000.0\n",
      "([{'currency': 'KRW', 'balance': '51265.362', 'locked': '0.0', 'avg_buy_price': '0', 'avg_buy_price_modified': True, 'unit_currency': 'KRW'}], {'group': 'default', 'min': 787, 'sec': 29})\n",
      "44700000.0\n",
      "44692000.0\n",
      "44692000.0\n",
      "44692000.0\n",
      "([{'currency': 'KRW', 'balance': '51265.362', 'locked': '0.0', 'avg_buy_price': '0', 'avg_buy_price_modified': True, 'unit_currency': 'KRW'}], {'group': 'default', 'min': 786, 'sec': 28})\n",
      "44692000.0\n",
      "44700000.0\n",
      "44691000.0\n",
      "44692000.0\n",
      "([{'currency': 'KRW', 'balance': '51265.362', 'locked': '0.0', 'avg_buy_price': '0', 'avg_buy_price_modified': True, 'unit_currency': 'KRW'}], {'group': 'default', 'min': 785, 'sec': 27})\n",
      "44692000.0\n",
      "44692000.0\n",
      "44700000.0\n",
      "44700000.0\n",
      "([{'currency': 'KRW', 'balance': '51265.362', 'locked': '0.0', 'avg_buy_price': '0', 'avg_buy_price_modified': True, 'unit_currency': 'KRW'}], {'group': 'default', 'min': 784, 'sec': 29})\n",
      "44700000.0\n",
      "44700000.0\n",
      "44700000.0\n",
      "44700000.0\n",
      "([{'currency': 'KRW', 'balance': '51265.362', 'locked': '0.0', 'avg_buy_price': '0', 'avg_buy_price_modified': True, 'unit_currency': 'KRW'}], {'group': 'default', 'min': 783, 'sec': 28})\n",
      "44691000.0\n",
      "44700000.0\n",
      "44692000.0\n",
      "44700000.0\n",
      "([{'currency': 'KRW', 'balance': '51265.362', 'locked': '0.0', 'avg_buy_price': '0', 'avg_buy_price_modified': True, 'unit_currency': 'KRW'}], {'group': 'default', 'min': 782, 'sec': 29})\n",
      "44700000.0\n",
      "44700000.0\n",
      "44653000.0\n",
      "44700000.0\n",
      "([{'currency': 'KRW', 'balance': '51265.362', 'locked': '0.0', 'avg_buy_price': '0', 'avg_buy_price_modified': True, 'unit_currency': 'KRW'}], {'group': 'default', 'min': 781, 'sec': 28})\n",
      "44653000.0\n",
      "44653000.0\n",
      "44653000.0\n",
      "44653000.0\n",
      "([{'currency': 'KRW', 'balance': '51265.362', 'locked': '0.0', 'avg_buy_price': '0', 'avg_buy_price_modified': True, 'unit_currency': 'KRW'}], {'group': 'default', 'min': 780, 'sec': 27})\n",
      "44653000.0\n",
      "44692000.0\n",
      "44653000.0\n",
      "44653000.0\n",
      "([{'currency': 'KRW', 'balance': '51265.362', 'locked': '0.0', 'avg_buy_price': '0', 'avg_buy_price_modified': True, 'unit_currency': 'KRW'}], {'group': 'default', 'min': 779, 'sec': 29})\n",
      "44653000.0\n",
      "44653000.0\n",
      "44653000.0\n",
      "44653000.0\n",
      "([{'currency': 'KRW', 'balance': '51265.362', 'locked': '0.0', 'avg_buy_price': '0', 'avg_buy_price_modified': True, 'unit_currency': 'KRW'}], {'group': 'default', 'min': 778, 'sec': 28})\n",
      "44653000.0\n",
      "44653000.0\n",
      "44653000.0\n",
      "44653000.0\n",
      "([{'currency': 'KRW', 'balance': '51265.362', 'locked': '0.0', 'avg_buy_price': '0', 'avg_buy_price_modified': True, 'unit_currency': 'KRW'}], {'group': 'default', 'min': 777, 'sec': 29})\n",
      "44653000.0\n",
      "44653000.0\n",
      "44653000.0\n",
      "44653000.0\n",
      "([{'currency': 'KRW', 'balance': '51265.362', 'locked': '0.0', 'avg_buy_price': '0', 'avg_buy_price_modified': True, 'unit_currency': 'KRW'}], {'group': 'default', 'min': 776, 'sec': 28})\n",
      "44670000.0\n",
      "44670000.0\n",
      "44670000.0\n",
      "It failed JSONDecodeError\n",
      "TypeError\n",
      "None\n",
      "([{'currency': 'KRW', 'balance': '51265.362', 'locked': '0.0', 'avg_buy_price': '0', 'avg_buy_price_modified': True, 'unit_currency': 'KRW'}], {'group': 'default', 'min': 775, 'sec': 29})\n",
      "44653000.0\n",
      "44670000.0\n",
      "44670000.0\n",
      "44670000.0\n",
      "([{'currency': 'KRW', 'balance': '51265.362', 'locked': '0.0', 'avg_buy_price': '0', 'avg_buy_price_modified': True, 'unit_currency': 'KRW'}], {'group': 'default', 'min': 774, 'sec': 28})\n",
      "44670000.0\n",
      "44655000.0\n",
      "44655000.0\n",
      "44670000.0\n",
      "([{'currency': 'KRW', 'balance': '51265.362', 'locked': '0.0', 'avg_buy_price': '0', 'avg_buy_price_modified': True, 'unit_currency': 'KRW'}], {'group': 'default', 'min': 773, 'sec': 27})\n",
      "44670000.0\n",
      "44670000.0\n",
      "44670000.0\n",
      "44670000.0\n",
      "([{'currency': 'KRW', 'balance': '51265.362', 'locked': '0.0', 'avg_buy_price': '0', 'avg_buy_price_modified': True, 'unit_currency': 'KRW'}], {'group': 'default', 'min': 772, 'sec': 29})\n",
      "44670000.0\n",
      "44670000.0\n",
      "44670000.0\n",
      "44670000.0\n",
      "([{'currency': 'KRW', 'balance': '51265.362', 'locked': '0.0', 'avg_buy_price': '0', 'avg_buy_price_modified': True, 'unit_currency': 'KRW'}], {'group': 'default', 'min': 771, 'sec': 28})\n",
      "44670000.0\n",
      "44670000.0\n",
      "44670000.0\n",
      "44670000.0\n",
      "([{'currency': 'KRW', 'balance': '51265.362', 'locked': '0.0', 'avg_buy_price': '0', 'avg_buy_price_modified': True, 'unit_currency': 'KRW'}], {'group': 'default', 'min': 770, 'sec': 29})\n"
     ]
    },
    {
     "name": "stdout",
     "output_type": "stream",
     "text": [
      "44670000.0\n",
      "44670000.0\n",
      "44670000.0\n",
      "44670000.0\n",
      "([{'currency': 'KRW', 'balance': '51265.362', 'locked': '0.0', 'avg_buy_price': '0', 'avg_buy_price_modified': True, 'unit_currency': 'KRW'}], {'group': 'default', 'min': 769, 'sec': 28})\n",
      "44670000.0\n",
      "44670000.0\n",
      "It failed JSONDecodeError\n",
      "TypeError\n",
      "None\n",
      "44670000.0\n",
      "([{'currency': 'KRW', 'balance': '51265.362', 'locked': '0.0', 'avg_buy_price': '0', 'avg_buy_price_modified': True, 'unit_currency': 'KRW'}], {'group': 'default', 'min': 768, 'sec': 29})\n",
      "44670000.0\n",
      "44670000.0\n",
      "44670000.0\n",
      "44670000.0\n",
      "([{'currency': 'KRW', 'balance': '51265.362', 'locked': '0.0', 'avg_buy_price': '0', 'avg_buy_price_modified': True, 'unit_currency': 'KRW'}], {'group': 'default', 'min': 767, 'sec': 28})\n",
      "44670000.0\n",
      "44670000.0\n",
      "44670000.0\n",
      "44670000.0\n",
      "([{'currency': 'KRW', 'balance': '51265.362', 'locked': '0.0', 'avg_buy_price': '0', 'avg_buy_price_modified': True, 'unit_currency': 'KRW'}], {'group': 'default', 'min': 766, 'sec': 27})\n",
      "44670000.0\n",
      "44670000.0\n",
      "44670000.0\n",
      "44670000.0\n",
      "([{'currency': 'KRW', 'balance': '51265.362', 'locked': '0.0', 'avg_buy_price': '0', 'avg_buy_price_modified': True, 'unit_currency': 'KRW'}], {'group': 'default', 'min': 765, 'sec': 29})\n",
      "44670000.0\n",
      "44670000.0\n",
      "44670000.0\n",
      "44670000.0\n",
      "([{'currency': 'KRW', 'balance': '51265.362', 'locked': '0.0', 'avg_buy_price': '0', 'avg_buy_price_modified': True, 'unit_currency': 'KRW'}], {'group': 'default', 'min': 764, 'sec': 28})\n",
      "44670000.0\n",
      "44670000.0\n",
      "44691000.0\n",
      "44670000.0\n",
      "([{'currency': 'KRW', 'balance': '51265.362', 'locked': '0.0', 'avg_buy_price': '0', 'avg_buy_price_modified': True, 'unit_currency': 'KRW'}], {'group': 'default', 'min': 766, 'sec': 29})\n",
      "44670000.0\n",
      "44692000.0\n",
      "44692000.0\n",
      "44670000.0\n",
      "([{'currency': 'KRW', 'balance': '51265.362', 'locked': '0.0', 'avg_buy_price': '0', 'avg_buy_price_modified': True, 'unit_currency': 'KRW'}], {'group': 'default', 'min': 765, 'sec': 28})\n",
      "44670000.0\n",
      "44670000.0\n",
      "44692000.0\n",
      "44692000.0\n",
      "([{'currency': 'KRW', 'balance': '51265.362', 'locked': '0.0', 'avg_buy_price': '0', 'avg_buy_price_modified': True, 'unit_currency': 'KRW'}], {'group': 'default', 'min': 768, 'sec': 29})\n",
      "44691000.0\n",
      "44692000.0\n",
      "44691000.0\n",
      "44692000.0\n",
      "([{'currency': 'KRW', 'balance': '51265.362', 'locked': '0.0', 'avg_buy_price': '0', 'avg_buy_price_modified': True, 'unit_currency': 'KRW'}], {'group': 'default', 'min': 767, 'sec': 28})\n",
      "44692000.0\n",
      "44693000.0\n",
      "44691000.0\n",
      "44691000.0\n",
      "([{'currency': 'KRW', 'balance': '51265.362', 'locked': '0.0', 'avg_buy_price': '0', 'avg_buy_price_modified': True, 'unit_currency': 'KRW'}], {'group': 'default', 'min': 766, 'sec': 27})\n",
      "44691000.0\n",
      "44691000.0\n",
      "44691000.0\n",
      "44693000.0\n",
      "([{'currency': 'KRW', 'balance': '51265.362', 'locked': '0.0', 'avg_buy_price': '0', 'avg_buy_price_modified': True, 'unit_currency': 'KRW'}], {'group': 'default', 'min': 768, 'sec': 29})\n",
      "44695000.0\n",
      "44691000.0\n",
      "44695000.0\n",
      "44695000.0\n",
      "([{'currency': 'KRW', 'balance': '51265.362', 'locked': '0.0', 'avg_buy_price': '0', 'avg_buy_price_modified': True, 'unit_currency': 'KRW'}], {'group': 'default', 'min': 767, 'sec': 28})\n",
      "44691000.0\n",
      "44651000.0\n",
      "44651000.0\n",
      "44691000.0\n",
      "([{'currency': 'KRW', 'balance': '51265.362', 'locked': '0.0', 'avg_buy_price': '0', 'avg_buy_price_modified': True, 'unit_currency': 'KRW'}], {'group': 'default', 'min': 770, 'sec': 29})\n",
      "44651000.0\n",
      "44691000.0\n",
      "44691000.0\n",
      "44695000.0\n",
      "([{'currency': 'KRW', 'balance': '51265.362', 'locked': '0.0', 'avg_buy_price': '0', 'avg_buy_price_modified': True, 'unit_currency': 'KRW'}], {'group': 'default', 'min': 769, 'sec': 28})\n",
      "44695000.0\n",
      "44695000.0\n",
      "44695000.0\n",
      "44651000.0\n",
      "([{'currency': 'KRW', 'balance': '51265.362', 'locked': '0.0', 'avg_buy_price': '0', 'avg_buy_price_modified': True, 'unit_currency': 'KRW'}], {'group': 'default', 'min': 768, 'sec': 27})\n",
      "44651000.0\n",
      "44695000.0\n",
      "44651000.0\n",
      "44651000.0\n",
      "([{'currency': 'KRW', 'balance': '51265.362', 'locked': '0.0', 'avg_buy_price': '0', 'avg_buy_price_modified': True, 'unit_currency': 'KRW'}], {'group': 'default', 'min': 770, 'sec': 29})\n",
      "44651000.0\n",
      "44651000.0\n",
      "44671000.0\n",
      "44671000.0\n",
      "([{'currency': 'KRW', 'balance': '51265.362', 'locked': '0.0', 'avg_buy_price': '0', 'avg_buy_price_modified': True, 'unit_currency': 'KRW'}], {'group': 'default', 'min': 769, 'sec': 28})\n",
      "44691000.0\n",
      "44671000.0\n",
      "It failed JSONDecodeError\n",
      "TypeError\n",
      "None\n",
      "44651000.0\n",
      "([{'currency': 'KRW', 'balance': '51265.362', 'locked': '0.0', 'avg_buy_price': '0', 'avg_buy_price_modified': True, 'unit_currency': 'KRW'}], {'group': 'default', 'min': 771, 'sec': 29})\n",
      "44651000.0\n",
      "44651000.0\n",
      "44651000.0\n",
      "44651000.0\n",
      "([{'currency': 'KRW', 'balance': '51265.362', 'locked': '0.0', 'avg_buy_price': '0', 'avg_buy_price_modified': True, 'unit_currency': 'KRW'}], {'group': 'default', 'min': 770, 'sec': 28})\n",
      "44671000.0\n",
      "44696000.0\n",
      "44696000.0\n",
      "44696000.0\n",
      "([{'currency': 'KRW', 'balance': '51265.362', 'locked': '0.0', 'avg_buy_price': '0', 'avg_buy_price_modified': True, 'unit_currency': 'KRW'}], {'group': 'default', 'min': 773, 'sec': 29})\n",
      "44696000.0\n",
      "44696000.0\n",
      "44696000.0\n",
      "44671000.0\n",
      "([{'currency': 'KRW', 'balance': '51265.362', 'locked': '0.0', 'avg_buy_price': '0', 'avg_buy_price_modified': True, 'unit_currency': 'KRW'}], {'group': 'default', 'min': 772, 'sec': 28})\n",
      "44691000.0\n",
      "44651000.0\n",
      "44671000.0\n",
      "44691000.0\n",
      "([{'currency': 'KRW', 'balance': '51265.362', 'locked': '0.0', 'avg_buy_price': '0', 'avg_buy_price_modified': True, 'unit_currency': 'KRW'}], {'group': 'default', 'min': 771, 'sec': 27})\n",
      "44691000.0\n",
      "44691000.0\n",
      "44696000.0\n",
      "44651000.0\n",
      "([{'currency': 'KRW', 'balance': '51265.362', 'locked': '0.0', 'avg_buy_price': '0', 'avg_buy_price_modified': True, 'unit_currency': 'KRW'}], {'group': 'default', 'min': 773, 'sec': 29})\n",
      "44696000.0\n",
      "44691000.0\n",
      "44697000.0\n",
      "44697000.0\n",
      "([{'currency': 'KRW', 'balance': '51265.362', 'locked': '0.0', 'avg_buy_price': '0', 'avg_buy_price_modified': True, 'unit_currency': 'KRW'}], {'group': 'default', 'min': 772, 'sec': 28})\n",
      "44697000.0\n",
      "44651000.0\n",
      "44697000.0\n",
      "It failed JSONDecodeError\n",
      "TypeError\n",
      "None\n",
      "([{'currency': 'KRW', 'balance': '51265.362', 'locked': '0.0', 'avg_buy_price': '0', 'avg_buy_price_modified': True, 'unit_currency': 'KRW'}], {'group': 'default', 'min': 775, 'sec': 29})\n",
      "44651000.0\n",
      "44697000.0\n",
      "44691000.0\n",
      "44697000.0\n",
      "([{'currency': 'KRW', 'balance': '51265.362', 'locked': '0.0', 'avg_buy_price': '0', 'avg_buy_price_modified': True, 'unit_currency': 'KRW'}], {'group': 'default', 'min': 774, 'sec': 28})\n",
      "44691000.0\n",
      "44691000.0\n",
      "44691000.0\n",
      "44691000.0\n",
      "([{'currency': 'KRW', 'balance': '51265.362', 'locked': '0.0', 'avg_buy_price': '0', 'avg_buy_price_modified': True, 'unit_currency': 'KRW'}], {'group': 'default', 'min': 773, 'sec': 27})\n",
      "44691000.0\n",
      "44691000.0\n",
      "44698000.0\n",
      "44691000.0\n",
      "([{'currency': 'KRW', 'balance': '51265.362', 'locked': '0.0', 'avg_buy_price': '0', 'avg_buy_price_modified': True, 'unit_currency': 'KRW'}], {'group': 'default', 'min': 776, 'sec': 29})\n",
      "44698000.0\n",
      "44697000.0\n",
      "44691000.0\n",
      "44691000.0\n",
      "([{'currency': 'KRW', 'balance': '51265.362', 'locked': '0.0', 'avg_buy_price': '0', 'avg_buy_price_modified': True, 'unit_currency': 'KRW'}], {'group': 'default', 'min': 775, 'sec': 28})\n",
      "44691000.0\n",
      "44691000.0\n",
      "44651000.0\n",
      "44691000.0\n",
      "([{'currency': 'KRW', 'balance': '51265.362', 'locked': '0.0', 'avg_buy_price': '0', 'avg_buy_price_modified': True, 'unit_currency': 'KRW'}], {'group': 'default', 'min': 777, 'sec': 29})\n",
      "44691000.0\n",
      "44691000.0\n",
      "44691000.0\n",
      "44691000.0\n",
      "([{'currency': 'KRW', 'balance': '51265.362', 'locked': '0.0', 'avg_buy_price': '0', 'avg_buy_price_modified': True, 'unit_currency': 'KRW'}], {'group': 'default', 'min': 776, 'sec': 28})\n",
      "44691000.0\n",
      "44691000.0\n",
      "44691000.0\n",
      "44691000.0\n",
      "([{'currency': 'KRW', 'balance': '51265.362', 'locked': '0.0', 'avg_buy_price': '0', 'avg_buy_price_modified': True, 'unit_currency': 'KRW'}], {'group': 'default', 'min': 775, 'sec': 27})\n",
      "44691000.0\n",
      "44691000.0\n",
      "44691000.0\n",
      "44691000.0\n",
      "([{'currency': 'KRW', 'balance': '51265.362', 'locked': '0.0', 'avg_buy_price': '0', 'avg_buy_price_modified': True, 'unit_currency': 'KRW'}], {'group': 'default', 'min': 778, 'sec': 29})\n",
      "44691000.0\n",
      "44691000.0\n",
      "44692000.0\n",
      "44691000.0\n",
      "([{'currency': 'KRW', 'balance': '51265.362', 'locked': '0.0', 'avg_buy_price': '0', 'avg_buy_price_modified': True, 'unit_currency': 'KRW'}], {'group': 'default', 'min': 777, 'sec': 28})\n",
      "44695000.0\n"
     ]
    },
    {
     "name": "stdout",
     "output_type": "stream",
     "text": [
      "44691000.0\n",
      "It failed JSONDecodeError\n",
      "TypeError\n",
      "None\n",
      "It failed JSONDecodeError\n",
      "TypeError\n",
      "None\n",
      "([{'currency': 'KRW', 'balance': '51265.362', 'locked': '0.0', 'avg_buy_price': '0', 'avg_buy_price_modified': True, 'unit_currency': 'KRW'}], {'group': 'default', 'min': 779, 'sec': 29})\n",
      "44691000.0\n",
      "44695000.0\n",
      "44691000.0\n",
      "44691000.0\n",
      "([{'currency': 'KRW', 'balance': '51265.362', 'locked': '0.0', 'avg_buy_price': '0', 'avg_buy_price_modified': True, 'unit_currency': 'KRW'}], {'group': 'default', 'min': 778, 'sec': 28})\n",
      "44695000.0\n",
      "44691000.0\n",
      "44691000.0\n",
      "44691000.0\n",
      "([{'currency': 'KRW', 'balance': '51265.362', 'locked': '0.0', 'avg_buy_price': '0', 'avg_buy_price_modified': True, 'unit_currency': 'KRW'}], {'group': 'default', 'min': 777, 'sec': 27})\n",
      "44691000.0\n",
      "44691000.0\n",
      "44691000.0\n",
      "44691000.0\n",
      "([{'currency': 'KRW', 'balance': '51265.362', 'locked': '0.0', 'avg_buy_price': '0', 'avg_buy_price_modified': True, 'unit_currency': 'KRW'}], {'group': 'default', 'min': 780, 'sec': 29})\n",
      "44691000.0\n",
      "44691000.0\n",
      "44691000.0\n",
      "44691000.0\n",
      "([{'currency': 'KRW', 'balance': '51265.362', 'locked': '0.0', 'avg_buy_price': '0', 'avg_buy_price_modified': True, 'unit_currency': 'KRW'}], {'group': 'default', 'min': 779, 'sec': 28})\n",
      "44691000.0\n",
      "44691000.0\n",
      "It failed JSONDecodeError\n",
      "TypeError\n",
      "None\n",
      "44691000.0\n",
      "([{'currency': 'KRW', 'balance': '51265.362', 'locked': '0.0', 'avg_buy_price': '0', 'avg_buy_price_modified': True, 'unit_currency': 'KRW'}], {'group': 'default', 'min': 781, 'sec': 29})\n",
      "44691000.0\n",
      "44691000.0\n",
      "44691000.0\n",
      "44691000.0\n",
      "([{'currency': 'KRW', 'balance': '51265.362', 'locked': '0.0', 'avg_buy_price': '0', 'avg_buy_price_modified': True, 'unit_currency': 'KRW'}], {'group': 'default', 'min': 780, 'sec': 28})\n",
      "44691000.0\n",
      "44691000.0\n",
      "44691000.0\n",
      "44691000.0\n",
      "([{'currency': 'KRW', 'balance': '51265.362', 'locked': '0.0', 'avg_buy_price': '0', 'avg_buy_price_modified': True, 'unit_currency': 'KRW'}], {'group': 'default', 'min': 779, 'sec': 27})\n",
      "44691000.0\n",
      "44691000.0\n",
      "44691000.0\n",
      "44691000.0\n",
      "([{'currency': 'KRW', 'balance': '51265.362', 'locked': '0.0', 'avg_buy_price': '0', 'avg_buy_price_modified': True, 'unit_currency': 'KRW'}], {'group': 'default', 'min': 781, 'sec': 29})\n",
      "44691000.0\n",
      "44691000.0\n",
      "44694000.0\n",
      "44691000.0\n",
      "([{'currency': 'KRW', 'balance': '51265.362', 'locked': '0.0', 'avg_buy_price': '0', 'avg_buy_price_modified': True, 'unit_currency': 'KRW'}], {'group': 'default', 'min': 780, 'sec': 28})\n",
      "44694000.0\n",
      "44695000.0\n",
      "44694000.0\n",
      "44693000.0\n",
      "([{'currency': 'KRW', 'balance': '51265.362', 'locked': '0.0', 'avg_buy_price': '0', 'avg_buy_price_modified': True, 'unit_currency': 'KRW'}], {'group': 'default', 'min': 780, 'sec': 29})\n",
      "44695000.0\n",
      "44695000.0\n",
      "44695000.0\n",
      "44693000.0\n",
      "([{'currency': 'KRW', 'balance': '51265.362', 'locked': '0.0', 'avg_buy_price': '0', 'avg_buy_price_modified': True, 'unit_currency': 'KRW'}], {'group': 'default', 'min': 779, 'sec': 28})\n",
      "44695000.0\n",
      "44695000.0\n",
      "44695000.0\n",
      "44695000.0\n",
      "([{'currency': 'KRW', 'balance': '51265.362', 'locked': '0.0', 'avg_buy_price': '0', 'avg_buy_price_modified': True, 'unit_currency': 'KRW'}], {'group': 'default', 'min': 778, 'sec': 27})\n",
      "44695000.0\n",
      "44695000.0\n",
      "44695000.0\n",
      "44695000.0\n",
      "([{'currency': 'KRW', 'balance': '51265.362', 'locked': '0.0', 'avg_buy_price': '0', 'avg_buy_price_modified': True, 'unit_currency': 'KRW'}], {'group': 'default', 'min': 777, 'sec': 29})\n",
      "44695000.0\n",
      "44694000.0\n",
      "44695000.0\n",
      "44695000.0\n",
      "([{'currency': 'KRW', 'balance': '51265.362', 'locked': '0.0', 'avg_buy_price': '0', 'avg_buy_price_modified': True, 'unit_currency': 'KRW'}], {'group': 'default', 'min': 776, 'sec': 28})\n",
      "44695000.0\n",
      "44695000.0\n",
      "It failed JSONDecodeError\n",
      "TypeError\n",
      "None\n",
      "44695000.0\n",
      "([{'currency': 'KRW', 'balance': '51265.362', 'locked': '0.0', 'avg_buy_price': '0', 'avg_buy_price_modified': True, 'unit_currency': 'KRW'}], {'group': 'default', 'min': 775, 'sec': 29})\n",
      "44695000.0\n",
      "44695000.0\n",
      "44695000.0\n",
      "44695000.0\n",
      "([{'currency': 'KRW', 'balance': '51265.362', 'locked': '0.0', 'avg_buy_price': '0', 'avg_buy_price_modified': True, 'unit_currency': 'KRW'}], {'group': 'default', 'min': 774, 'sec': 28})\n",
      "44695000.0\n",
      "44695000.0\n",
      "44694000.0\n",
      "44695000.0\n",
      "([{'currency': 'KRW', 'balance': '51265.362', 'locked': '0.0', 'avg_buy_price': '0', 'avg_buy_price_modified': True, 'unit_currency': 'KRW'}], {'group': 'default', 'min': 773, 'sec': 29})\n",
      "44695000.0\n",
      "44695000.0\n",
      "44694000.0\n",
      "44694000.0\n",
      "([{'currency': 'KRW', 'balance': '51265.362', 'locked': '0.0', 'avg_buy_price': '0', 'avg_buy_price_modified': True, 'unit_currency': 'KRW'}], {'group': 'default', 'min': 772, 'sec': 28})\n",
      "44694000.0\n",
      "44694000.0\n",
      "44694000.0\n",
      "44695000.0\n",
      "([{'currency': 'KRW', 'balance': '51265.362', 'locked': '0.0', 'avg_buy_price': '0', 'avg_buy_price_modified': True, 'unit_currency': 'KRW'}], {'group': 'default', 'min': 771, 'sec': 27})\n",
      "44694000.0\n",
      "44694000.0\n",
      "44694000.0\n",
      "44694000.0\n",
      "([{'currency': 'KRW', 'balance': '51265.362', 'locked': '0.0', 'avg_buy_price': '0', 'avg_buy_price_modified': True, 'unit_currency': 'KRW'}], {'group': 'default', 'min': 772, 'sec': 29})\n",
      "44694000.0\n",
      "44694000.0\n",
      "44694000.0\n",
      "44693000.0\n",
      "([{'currency': 'KRW', 'balance': '51265.362', 'locked': '0.0', 'avg_buy_price': '0', 'avg_buy_price_modified': True, 'unit_currency': 'KRW'}], {'group': 'default', 'min': 771, 'sec': 28})\n",
      "44694000.0\n",
      "44694000.0\n",
      "44694000.0\n",
      "It failed JSONDecodeError\n",
      "TypeError\n",
      "None\n",
      "([{'currency': 'KRW', 'balance': '51265.362', 'locked': '0.0', 'avg_buy_price': '0', 'avg_buy_price_modified': True, 'unit_currency': 'KRW'}], {'group': 'default', 'min': 772, 'sec': 29})\n",
      "44694000.0\n",
      "44694000.0\n",
      "44693000.0\n",
      "44694000.0\n",
      "([{'currency': 'KRW', 'balance': '51265.362', 'locked': '0.0', 'avg_buy_price': '0', 'avg_buy_price_modified': True, 'unit_currency': 'KRW'}], {'group': 'default', 'min': 771, 'sec': 28})\n",
      "44694000.0\n",
      "44694000.0\n",
      "44694000.0\n",
      "44694000.0\n",
      "([{'currency': 'KRW', 'balance': '51265.362', 'locked': '0.0', 'avg_buy_price': '0', 'avg_buy_price_modified': True, 'unit_currency': 'KRW'}], {'group': 'default', 'min': 770, 'sec': 27})\n",
      "44693000.0\n",
      "44694000.0\n",
      "44694000.0\n",
      "44694000.0\n",
      "([{'currency': 'KRW', 'balance': '51265.362', 'locked': '0.0', 'avg_buy_price': '0', 'avg_buy_price_modified': True, 'unit_currency': 'KRW'}], {'group': 'default', 'min': 771, 'sec': 29})\n",
      "44693000.0\n",
      "44693000.0\n",
      "44693000.0\n",
      "44694000.0\n",
      "([{'currency': 'KRW', 'balance': '51265.362', 'locked': '0.0', 'avg_buy_price': '0', 'avg_buy_price_modified': True, 'unit_currency': 'KRW'}], {'group': 'default', 'min': 770, 'sec': 28})\n",
      "44694000.0\n",
      "44693000.0\n",
      "It failed JSONDecodeError\n",
      "TypeError\n",
      "None\n",
      "44693000.0\n",
      "([{'currency': 'KRW', 'balance': '51265.362', 'locked': '0.0', 'avg_buy_price': '0', 'avg_buy_price_modified': True, 'unit_currency': 'KRW'}], {'group': 'default', 'min': 771, 'sec': 29})\n",
      "44694000.0\n",
      "44694000.0\n",
      "44694000.0\n",
      "44694000.0\n",
      "([{'currency': 'KRW', 'balance': '51265.362', 'locked': '0.0', 'avg_buy_price': '0', 'avg_buy_price_modified': True, 'unit_currency': 'KRW'}], {'group': 'default', 'min': 770, 'sec': 28})\n",
      "44694000.0\n",
      "44693000.0\n",
      "44694000.0\n",
      "44694000.0\n",
      "([{'currency': 'KRW', 'balance': '51265.362', 'locked': '0.0', 'avg_buy_price': '0', 'avg_buy_price_modified': True, 'unit_currency': 'KRW'}], {'group': 'default', 'min': 769, 'sec': 27})\n",
      "44694000.0\n",
      "44693000.0\n",
      "44694000.0\n",
      "44694000.0\n",
      "([{'currency': 'KRW', 'balance': '51265.362', 'locked': '0.0', 'avg_buy_price': '0', 'avg_buy_price_modified': True, 'unit_currency': 'KRW'}], {'group': 'default', 'min': 770, 'sec': 29})\n",
      "44693000.0\n",
      "44694000.0\n",
      "44694000.0\n",
      "44694000.0\n",
      "([{'currency': 'KRW', 'balance': '51265.362', 'locked': '0.0', 'avg_buy_price': '0', 'avg_buy_price_modified': True, 'unit_currency': 'KRW'}], {'group': 'default', 'min': 769, 'sec': 28})\n",
      "44694000.0\n",
      "44694000.0\n",
      "44694000.0\n",
      "44694000.0\n",
      "([{'currency': 'KRW', 'balance': '51265.362', 'locked': '0.0', 'avg_buy_price': '0', 'avg_buy_price_modified': True, 'unit_currency': 'KRW'}], {'group': 'default', 'min': 770, 'sec': 29})\n",
      "44694000.0\n",
      "44694000.0\n",
      "44694000.0\n",
      "44694000.0\n",
      "([{'currency': 'KRW', 'balance': '51265.362', 'locked': '0.0', 'avg_buy_price': '0', 'avg_buy_price_modified': True, 'unit_currency': 'KRW'}], {'group': 'default', 'min': 769, 'sec': 28})\n",
      "44694000.0\n",
      "44694000.0\n",
      "44694000.0\n",
      "44694000.0\n",
      "([{'currency': 'KRW', 'balance': '51265.362', 'locked': '0.0', 'avg_buy_price': '0', 'avg_buy_price_modified': True, 'unit_currency': 'KRW'}], {'group': 'default', 'min': 768, 'sec': 27})\n",
      "44694000.0\n",
      "44694000.0\n"
     ]
    },
    {
     "name": "stdout",
     "output_type": "stream",
     "text": [
      "44694000.0\n",
      "44694000.0\n",
      "([{'currency': 'KRW', 'balance': '51265.362', 'locked': '0.0', 'avg_buy_price': '0', 'avg_buy_price_modified': True, 'unit_currency': 'KRW'}], {'group': 'default', 'min': 769, 'sec': 29})\n",
      "44694000.0\n",
      "44694000.0\n",
      "44694000.0\n",
      "44694000.0\n",
      "([{'currency': 'KRW', 'balance': '51265.362', 'locked': '0.0', 'avg_buy_price': '0', 'avg_buy_price_modified': True, 'unit_currency': 'KRW'}], {'group': 'default', 'min': 768, 'sec': 28})\n",
      "44694000.0\n",
      "44694000.0\n",
      "44694000.0\n",
      "44694000.0\n",
      "([{'currency': 'KRW', 'balance': '51265.362', 'locked': '0.0', 'avg_buy_price': '0', 'avg_buy_price_modified': True, 'unit_currency': 'KRW'}], {'group': 'default', 'min': 769, 'sec': 29})\n",
      "44694000.0\n",
      "44694000.0\n",
      "44694000.0\n",
      "44694000.0\n",
      "([{'currency': 'KRW', 'balance': '51265.362', 'locked': '0.0', 'avg_buy_price': '0', 'avg_buy_price_modified': True, 'unit_currency': 'KRW'}], {'group': 'default', 'min': 768, 'sec': 28})\n",
      "44694000.0\n",
      "44694000.0\n",
      "44694000.0\n",
      "It failed JSONDecodeError\n",
      "TypeError\n",
      "None\n",
      "([{'currency': 'KRW', 'balance': '51265.362', 'locked': '0.0', 'avg_buy_price': '0', 'avg_buy_price_modified': True, 'unit_currency': 'KRW'}], {'group': 'default', 'min': 767, 'sec': 27})\n",
      "44694000.0\n",
      "44693000.0\n",
      "44694000.0\n",
      "44694000.0\n",
      "([{'currency': 'KRW', 'balance': '51265.362', 'locked': '0.0', 'avg_buy_price': '0', 'avg_buy_price_modified': True, 'unit_currency': 'KRW'}], {'group': 'default', 'min': 768, 'sec': 29})\n",
      "44694000.0\n",
      "44694000.0\n",
      "44693000.0\n",
      "44693000.0\n",
      "([{'currency': 'KRW', 'balance': '51265.362', 'locked': '0.0', 'avg_buy_price': '0', 'avg_buy_price_modified': True, 'unit_currency': 'KRW'}], {'group': 'default', 'min': 767, 'sec': 28})\n",
      "44694000.0\n",
      "44694000.0\n",
      "44693000.0\n",
      "44693000.0\n",
      "([{'currency': 'KRW', 'balance': '51265.362', 'locked': '0.0', 'avg_buy_price': '0', 'avg_buy_price_modified': True, 'unit_currency': 'KRW'}], {'group': 'default', 'min': 768, 'sec': 29})\n",
      "44693000.0\n",
      "44693000.0\n",
      "44693000.0\n",
      "44693000.0\n",
      "([{'currency': 'KRW', 'balance': '51265.362', 'locked': '0.0', 'avg_buy_price': '0', 'avg_buy_price_modified': True, 'unit_currency': 'KRW'}], {'group': 'default', 'min': 767, 'sec': 28})\n",
      "44693000.0\n",
      "44693000.0\n",
      "44693000.0\n",
      "44694000.0\n",
      "([{'currency': 'KRW', 'balance': '51265.362', 'locked': '0.0', 'avg_buy_price': '0', 'avg_buy_price_modified': True, 'unit_currency': 'KRW'}], {'group': 'default', 'min': 768, 'sec': 29})\n",
      "44694000.0\n",
      "44694000.0\n",
      "44693000.0\n",
      "44694000.0\n",
      "([{'currency': 'KRW', 'balance': '51265.362', 'locked': '0.0', 'avg_buy_price': '0', 'avg_buy_price_modified': True, 'unit_currency': 'KRW'}], {'group': 'default', 'min': 767, 'sec': 28})\n",
      "44693000.0\n",
      "44694000.0\n",
      "44693000.0\n",
      "44694000.0\n",
      "([{'currency': 'KRW', 'balance': '51265.362', 'locked': '0.0', 'avg_buy_price': '0', 'avg_buy_price_modified': True, 'unit_currency': 'KRW'}], {'group': 'default', 'min': 766, 'sec': 27})\n",
      "44694000.0\n",
      "44694000.0\n",
      "44694000.0\n",
      "44694000.0\n",
      "([{'currency': 'KRW', 'balance': '51265.362', 'locked': '0.0', 'avg_buy_price': '0', 'avg_buy_price_modified': True, 'unit_currency': 'KRW'}], {'group': 'default', 'min': 767, 'sec': 29})\n",
      "44694000.0\n",
      "44694000.0\n",
      "44694000.0\n",
      "44694000.0\n",
      "([{'currency': 'KRW', 'balance': '51265.362', 'locked': '0.0', 'avg_buy_price': '0', 'avg_buy_price_modified': True, 'unit_currency': 'KRW'}], {'group': 'default', 'min': 766, 'sec': 28})\n",
      "44694000.0\n",
      "44694000.0\n",
      "44694000.0\n",
      "44694000.0\n",
      "([{'currency': 'KRW', 'balance': '51265.362', 'locked': '0.0', 'avg_buy_price': '0', 'avg_buy_price_modified': True, 'unit_currency': 'KRW'}], {'group': 'default', 'min': 767, 'sec': 29})\n",
      "44694000.0\n",
      "44694000.0\n",
      "44694000.0\n",
      "44694000.0\n",
      "([{'currency': 'KRW', 'balance': '51265.362', 'locked': '0.0', 'avg_buy_price': '0', 'avg_buy_price_modified': True, 'unit_currency': 'KRW'}], {'group': 'default', 'min': 766, 'sec': 28})\n",
      "44693000.0\n",
      "44693000.0\n",
      "44694000.0\n",
      "44694000.0\n",
      "([{'currency': 'KRW', 'balance': '51265.362', 'locked': '0.0', 'avg_buy_price': '0', 'avg_buy_price_modified': True, 'unit_currency': 'KRW'}], {'group': 'default', 'min': 765, 'sec': 27})\n",
      "44693000.0\n",
      "44694000.0\n",
      "44693000.0\n",
      "44693000.0\n",
      "([{'currency': 'KRW', 'balance': '51265.362', 'locked': '0.0', 'avg_buy_price': '0', 'avg_buy_price_modified': True, 'unit_currency': 'KRW'}], {'group': 'default', 'min': 766, 'sec': 29})\n",
      "44693000.0\n",
      "44693000.0\n",
      "44693000.0\n",
      "44679000.0\n",
      "([{'currency': 'KRW', 'balance': '51265.362', 'locked': '0.0', 'avg_buy_price': '0', 'avg_buy_price_modified': True, 'unit_currency': 'KRW'}], {'group': 'default', 'min': 765, 'sec': 28})\n",
      "44694000.0\n",
      "44693000.0\n",
      "44693000.0\n",
      "44693000.0\n",
      "([{'currency': 'KRW', 'balance': '51265.362', 'locked': '0.0', 'avg_buy_price': '0', 'avg_buy_price_modified': True, 'unit_currency': 'KRW'}], {'group': 'default', 'min': 764, 'sec': 27})\n",
      "44693000.0\n",
      "44679000.0\n",
      "44693000.0\n",
      "44693000.0\n",
      "([{'currency': 'KRW', 'balance': '51265.362', 'locked': '0.0', 'avg_buy_price': '0', 'avg_buy_price_modified': True, 'unit_currency': 'KRW'}], {'group': 'default', 'min': 765, 'sec': 29})\n",
      "44693000.0\n",
      "44679000.0\n",
      "44693000.0\n",
      "44693000.0\n",
      "([{'currency': 'KRW', 'balance': '51265.362', 'locked': '0.0', 'avg_buy_price': '0', 'avg_buy_price_modified': True, 'unit_currency': 'KRW'}], {'group': 'default', 'min': 764, 'sec': 28})\n",
      "44694000.0\n",
      "44693000.0\n",
      "44679000.0\n",
      "44679000.0\n",
      "([{'currency': 'KRW', 'balance': '51265.362', 'locked': '0.0', 'avg_buy_price': '0', 'avg_buy_price_modified': True, 'unit_currency': 'KRW'}], {'group': 'default', 'min': 765, 'sec': 29})\n",
      "44694000.0\n",
      "44679000.0\n",
      "44679000.0\n",
      "44679000.0\n",
      "([{'currency': 'KRW', 'balance': '51265.362', 'locked': '0.0', 'avg_buy_price': '0', 'avg_buy_price_modified': True, 'unit_currency': 'KRW'}], {'group': 'default', 'min': 764, 'sec': 28})\n",
      "44692000.0\n",
      "44669000.0\n",
      "44669000.0\n",
      "44692000.0\n",
      "([{'currency': 'KRW', 'balance': '51265.362', 'locked': '0.0', 'avg_buy_price': '0', 'avg_buy_price_modified': True, 'unit_currency': 'KRW'}], {'group': 'default', 'min': 765, 'sec': 29})\n",
      "44669000.0\n",
      "44679000.0\n",
      "44694000.0\n",
      "44679000.0\n",
      "([{'currency': 'KRW', 'balance': '51265.362', 'locked': '0.0', 'avg_buy_price': '0', 'avg_buy_price_modified': True, 'unit_currency': 'KRW'}], {'group': 'default', 'min': 764, 'sec': 28})\n",
      "44669000.0\n",
      "44679000.0\n",
      "44679000.0\n",
      "44669000.0\n",
      "([{'currency': 'KRW', 'balance': '51265.362', 'locked': '0.0', 'avg_buy_price': '0', 'avg_buy_price_modified': True, 'unit_currency': 'KRW'}], {'group': 'default', 'min': 763, 'sec': 27})\n",
      "44669000.0\n",
      "44669000.0\n",
      "44669000.0\n",
      "44652000.0\n",
      "([{'currency': 'KRW', 'balance': '51265.362', 'locked': '0.0', 'avg_buy_price': '0', 'avg_buy_price_modified': True, 'unit_currency': 'KRW'}], {'group': 'default', 'min': 764, 'sec': 29})\n",
      "44679000.0\n",
      "44650000.0\n",
      "44650000.0\n",
      "44650000.0\n",
      "([{'currency': 'KRW', 'balance': '51265.362', 'locked': '0.0', 'avg_buy_price': '0', 'avg_buy_price_modified': True, 'unit_currency': 'KRW'}], {'group': 'default', 'min': 763, 'sec': 28})\n",
      "44669000.0\n",
      "44650000.0\n",
      "44652000.0\n",
      "It failed JSONDecodeError\n",
      "TypeError\n",
      "None\n",
      "([{'currency': 'KRW', 'balance': '51265.362', 'locked': '0.0', 'avg_buy_price': '0', 'avg_buy_price_modified': True, 'unit_currency': 'KRW'}], {'group': 'default', 'min': 764, 'sec': 29})\n",
      "44650000.0\n",
      "44650000.0\n",
      "44650000.0\n",
      "44649000.0\n",
      "([{'currency': 'KRW', 'balance': '51265.362', 'locked': '0.0', 'avg_buy_price': '0', 'avg_buy_price_modified': True, 'unit_currency': 'KRW'}], {'group': 'default', 'min': 763, 'sec': 28})\n",
      "44652000.0\n",
      "44650000.0\n",
      "44650000.0\n",
      "44650000.0\n",
      "([{'currency': 'KRW', 'balance': '51265.362', 'locked': '0.0', 'avg_buy_price': '0', 'avg_buy_price_modified': True, 'unit_currency': 'KRW'}], {'group': 'default', 'min': 762, 'sec': 27})\n",
      "44650000.0\n",
      "44649000.0\n",
      "44650000.0\n",
      "44649000.0\n",
      "([{'currency': 'KRW', 'balance': '51265.362', 'locked': '0.0', 'avg_buy_price': '0', 'avg_buy_price_modified': True, 'unit_currency': 'KRW'}], {'group': 'default', 'min': 761, 'sec': 29})\n",
      "44649000.0\n",
      "44650000.0\n",
      "44649000.0\n",
      "44647000.0\n",
      "([{'currency': 'KRW', 'balance': '51265.362', 'locked': '0.0', 'avg_buy_price': '0', 'avg_buy_price_modified': True, 'unit_currency': 'KRW'}], {'group': 'default', 'min': 760, 'sec': 28})\n",
      "44649000.0\n",
      "44650000.0\n",
      "44649000.0\n",
      "44649000.0\n",
      "([{'currency': 'KRW', 'balance': '51265.362', 'locked': '0.0', 'avg_buy_price': '0', 'avg_buy_price_modified': True, 'unit_currency': 'KRW'}], {'group': 'default', 'min': 759, 'sec': 29})\n",
      "44646000.0\n",
      "44646000.0\n",
      "44649000.0\n",
      "44646000.0\n",
      "([{'currency': 'KRW', 'balance': '51265.362', 'locked': '0.0', 'avg_buy_price': '0', 'avg_buy_price_modified': True, 'unit_currency': 'KRW'}], {'group': 'default', 'min': 758, 'sec': 28})\n",
      "44646000.0\n"
     ]
    },
    {
     "name": "stdout",
     "output_type": "stream",
     "text": [
      "44649000.0\n",
      "44646000.0\n",
      "It failed JSONDecodeError\n",
      "TypeError\n",
      "None\n",
      "([{'currency': 'KRW', 'balance': '51265.362', 'locked': '0.0', 'avg_buy_price': '0', 'avg_buy_price_modified': True, 'unit_currency': 'KRW'}], {'group': 'default', 'min': 757, 'sec': 29})\n",
      "44646000.0\n",
      "44646000.0\n",
      "44646000.0\n",
      "44646000.0\n",
      "([{'currency': 'KRW', 'balance': '51265.362', 'locked': '0.0', 'avg_buy_price': '0', 'avg_buy_price_modified': True, 'unit_currency': 'KRW'}], {'group': 'default', 'min': 756, 'sec': 28})\n",
      "44646000.0\n",
      "44646000.0\n"
     ]
    },
    {
     "ename": "KeyboardInterrupt",
     "evalue": "",
     "output_type": "error",
     "traceback": [
      "\u001b[1;31m---------------------------------------------------------------------------\u001b[0m",
      "\u001b[1;31mKeyboardInterrupt\u001b[0m                         Traceback (most recent call last)",
      "\u001b[1;32m<ipython-input-49-47facd61350d>\u001b[0m in \u001b[0;36m<module>\u001b[1;34m\u001b[0m\n\u001b[0;32m      3\u001b[0m     \u001b[0mprint\u001b[0m\u001b[1;33m(\u001b[0m\u001b[0mget_current_price\u001b[0m\u001b[1;33m(\u001b[0m\u001b[1;34mf\"KRW-{Symbol['key1']}\"\u001b[0m\u001b[1;33m)\u001b[0m\u001b[1;33m)\u001b[0m\u001b[1;33m\u001b[0m\u001b[1;33m\u001b[0m\u001b[0m\n\u001b[0;32m      4\u001b[0m     \u001b[0mprint\u001b[0m\u001b[1;33m(\u001b[0m\u001b[0mget_current_price\u001b[0m\u001b[1;33m(\u001b[0m\u001b[1;34mf\"KRW-{Symbol['key1']}\"\u001b[0m\u001b[1;33m)\u001b[0m\u001b[1;33m)\u001b[0m\u001b[1;33m\u001b[0m\u001b[1;33m\u001b[0m\u001b[0m\n\u001b[1;32m----> 5\u001b[1;33m     \u001b[0mprint\u001b[0m\u001b[1;33m(\u001b[0m\u001b[0mget_current_price\u001b[0m\u001b[1;33m(\u001b[0m\u001b[1;34mf\"KRW-{Symbol['key1']}\"\u001b[0m\u001b[1;33m)\u001b[0m\u001b[1;33m)\u001b[0m\u001b[1;33m\u001b[0m\u001b[1;33m\u001b[0m\u001b[0m\n\u001b[0m\u001b[0;32m      6\u001b[0m     \u001b[0mprint\u001b[0m\u001b[1;33m(\u001b[0m\u001b[0mget_current_price\u001b[0m\u001b[1;33m(\u001b[0m\u001b[1;34mf\"KRW-{Symbol['key1']}\"\u001b[0m\u001b[1;33m)\u001b[0m\u001b[1;33m)\u001b[0m\u001b[1;33m\u001b[0m\u001b[1;33m\u001b[0m\u001b[0m\n\u001b[0;32m      7\u001b[0m     \u001b[0mprint\u001b[0m\u001b[1;33m(\u001b[0m\u001b[0mupbit\u001b[0m\u001b[1;33m.\u001b[0m\u001b[0mget_balances\u001b[0m\u001b[1;33m(\u001b[0m\u001b[0mcontain_req\u001b[0m \u001b[1;33m=\u001b[0m \u001b[1;32mTrue\u001b[0m\u001b[1;33m)\u001b[0m\u001b[1;33m)\u001b[0m\u001b[1;33m\u001b[0m\u001b[1;33m\u001b[0m\u001b[0m\n",
      "\u001b[1;32mC:\\Users\\BaeJaeyong\\anaconda3\\envs\\winter_project_env\\lib\\site-packages\\pyupbit\\quotation_api.py\u001b[0m in \u001b[0;36mget_current_price\u001b[1;34m(ticker)\u001b[0m\n\u001b[0;32m    111\u001b[0m     \u001b[1;32mtry\u001b[0m\u001b[1;33m:\u001b[0m\u001b[1;33m\u001b[0m\u001b[1;33m\u001b[0m\u001b[0m\n\u001b[0;32m    112\u001b[0m         \u001b[0murl\u001b[0m \u001b[1;33m=\u001b[0m \u001b[1;34m\"https://api.upbit.com/v1/ticker\"\u001b[0m\u001b[1;33m\u001b[0m\u001b[1;33m\u001b[0m\u001b[0m\n\u001b[1;32m--> 113\u001b[1;33m         \u001b[0mcontents\u001b[0m \u001b[1;33m=\u001b[0m \u001b[0m_call_public_api\u001b[0m\u001b[1;33m(\u001b[0m\u001b[0murl\u001b[0m\u001b[1;33m,\u001b[0m \u001b[0mmarkets\u001b[0m\u001b[1;33m=\u001b[0m\u001b[0mticker\u001b[0m\u001b[1;33m)\u001b[0m\u001b[1;33m[\u001b[0m\u001b[1;36m0\u001b[0m\u001b[1;33m]\u001b[0m\u001b[1;33m\u001b[0m\u001b[1;33m\u001b[0m\u001b[0m\n\u001b[0m\u001b[0;32m    114\u001b[0m         \u001b[1;32mif\u001b[0m \u001b[1;32mnot\u001b[0m \u001b[0mcontents\u001b[0m\u001b[1;33m:\u001b[0m\u001b[1;33m\u001b[0m\u001b[1;33m\u001b[0m\u001b[0m\n\u001b[0;32m    115\u001b[0m             \u001b[1;32mreturn\u001b[0m \u001b[1;32mNone\u001b[0m\u001b[1;33m\u001b[0m\u001b[1;33m\u001b[0m\u001b[0m\n",
      "\u001b[1;32mC:\\Users\\BaeJaeyong\\anaconda3\\envs\\winter_project_env\\lib\\site-packages\\pyupbit\\request_api.py\u001b[0m in \u001b[0;36m_call_public_api\u001b[1;34m(url, **kwargs)\u001b[0m\n\u001b[0;32m     52\u001b[0m     \"\"\"\n\u001b[0;32m     53\u001b[0m     \u001b[1;32mtry\u001b[0m\u001b[1;33m:\u001b[0m\u001b[1;33m\u001b[0m\u001b[1;33m\u001b[0m\u001b[0m\n\u001b[1;32m---> 54\u001b[1;33m         \u001b[0mresp\u001b[0m \u001b[1;33m=\u001b[0m \u001b[0mrequests_retry_session\u001b[0m\u001b[1;33m(\u001b[0m\u001b[1;33m)\u001b[0m\u001b[1;33m.\u001b[0m\u001b[0mget\u001b[0m\u001b[1;33m(\u001b[0m\u001b[0murl\u001b[0m\u001b[1;33m,\u001b[0m \u001b[0mparams\u001b[0m\u001b[1;33m=\u001b[0m\u001b[0mkwargs\u001b[0m\u001b[1;33m)\u001b[0m\u001b[1;33m\u001b[0m\u001b[1;33m\u001b[0m\u001b[0m\n\u001b[0m\u001b[0;32m     55\u001b[0m         \u001b[0mremaining_req_dict\u001b[0m \u001b[1;33m=\u001b[0m \u001b[1;33m{\u001b[0m\u001b[1;33m}\u001b[0m\u001b[1;33m\u001b[0m\u001b[1;33m\u001b[0m\u001b[0m\n\u001b[0;32m     56\u001b[0m         \u001b[0mremaining_req\u001b[0m \u001b[1;33m=\u001b[0m \u001b[0mresp\u001b[0m\u001b[1;33m.\u001b[0m\u001b[0mheaders\u001b[0m\u001b[1;33m.\u001b[0m\u001b[0mget\u001b[0m\u001b[1;33m(\u001b[0m\u001b[1;34m'Remaining-Req'\u001b[0m\u001b[1;33m)\u001b[0m\u001b[1;33m\u001b[0m\u001b[1;33m\u001b[0m\u001b[0m\n",
      "\u001b[1;32mC:\\Users\\BaeJaeyong\\anaconda3\\envs\\winter_project_env\\lib\\site-packages\\requests\\sessions.py\u001b[0m in \u001b[0;36mget\u001b[1;34m(self, url, **kwargs)\u001b[0m\n\u001b[0;32m    553\u001b[0m \u001b[1;33m\u001b[0m\u001b[0m\n\u001b[0;32m    554\u001b[0m         \u001b[0mkwargs\u001b[0m\u001b[1;33m.\u001b[0m\u001b[0msetdefault\u001b[0m\u001b[1;33m(\u001b[0m\u001b[1;34m'allow_redirects'\u001b[0m\u001b[1;33m,\u001b[0m \u001b[1;32mTrue\u001b[0m\u001b[1;33m)\u001b[0m\u001b[1;33m\u001b[0m\u001b[1;33m\u001b[0m\u001b[0m\n\u001b[1;32m--> 555\u001b[1;33m         \u001b[1;32mreturn\u001b[0m \u001b[0mself\u001b[0m\u001b[1;33m.\u001b[0m\u001b[0mrequest\u001b[0m\u001b[1;33m(\u001b[0m\u001b[1;34m'GET'\u001b[0m\u001b[1;33m,\u001b[0m \u001b[0murl\u001b[0m\u001b[1;33m,\u001b[0m \u001b[1;33m**\u001b[0m\u001b[0mkwargs\u001b[0m\u001b[1;33m)\u001b[0m\u001b[1;33m\u001b[0m\u001b[1;33m\u001b[0m\u001b[0m\n\u001b[0m\u001b[0;32m    556\u001b[0m \u001b[1;33m\u001b[0m\u001b[0m\n\u001b[0;32m    557\u001b[0m     \u001b[1;32mdef\u001b[0m \u001b[0moptions\u001b[0m\u001b[1;33m(\u001b[0m\u001b[0mself\u001b[0m\u001b[1;33m,\u001b[0m \u001b[0murl\u001b[0m\u001b[1;33m,\u001b[0m \u001b[1;33m**\u001b[0m\u001b[0mkwargs\u001b[0m\u001b[1;33m)\u001b[0m\u001b[1;33m:\u001b[0m\u001b[1;33m\u001b[0m\u001b[1;33m\u001b[0m\u001b[0m\n",
      "\u001b[1;32mC:\\Users\\BaeJaeyong\\anaconda3\\envs\\winter_project_env\\lib\\site-packages\\requests\\sessions.py\u001b[0m in \u001b[0;36mrequest\u001b[1;34m(self, method, url, params, data, headers, cookies, files, auth, timeout, allow_redirects, proxies, hooks, stream, verify, cert, json)\u001b[0m\n\u001b[0;32m    540\u001b[0m         }\n\u001b[0;32m    541\u001b[0m         \u001b[0msend_kwargs\u001b[0m\u001b[1;33m.\u001b[0m\u001b[0mupdate\u001b[0m\u001b[1;33m(\u001b[0m\u001b[0msettings\u001b[0m\u001b[1;33m)\u001b[0m\u001b[1;33m\u001b[0m\u001b[1;33m\u001b[0m\u001b[0m\n\u001b[1;32m--> 542\u001b[1;33m         \u001b[0mresp\u001b[0m \u001b[1;33m=\u001b[0m \u001b[0mself\u001b[0m\u001b[1;33m.\u001b[0m\u001b[0msend\u001b[0m\u001b[1;33m(\u001b[0m\u001b[0mprep\u001b[0m\u001b[1;33m,\u001b[0m \u001b[1;33m**\u001b[0m\u001b[0msend_kwargs\u001b[0m\u001b[1;33m)\u001b[0m\u001b[1;33m\u001b[0m\u001b[1;33m\u001b[0m\u001b[0m\n\u001b[0m\u001b[0;32m    543\u001b[0m \u001b[1;33m\u001b[0m\u001b[0m\n\u001b[0;32m    544\u001b[0m         \u001b[1;32mreturn\u001b[0m \u001b[0mresp\u001b[0m\u001b[1;33m\u001b[0m\u001b[1;33m\u001b[0m\u001b[0m\n",
      "\u001b[1;32mC:\\Users\\BaeJaeyong\\anaconda3\\envs\\winter_project_env\\lib\\site-packages\\requests\\sessions.py\u001b[0m in \u001b[0;36msend\u001b[1;34m(self, request, **kwargs)\u001b[0m\n\u001b[0;32m    653\u001b[0m \u001b[1;33m\u001b[0m\u001b[0m\n\u001b[0;32m    654\u001b[0m         \u001b[1;31m# Send the request\u001b[0m\u001b[1;33m\u001b[0m\u001b[1;33m\u001b[0m\u001b[1;33m\u001b[0m\u001b[0m\n\u001b[1;32m--> 655\u001b[1;33m         \u001b[0mr\u001b[0m \u001b[1;33m=\u001b[0m \u001b[0madapter\u001b[0m\u001b[1;33m.\u001b[0m\u001b[0msend\u001b[0m\u001b[1;33m(\u001b[0m\u001b[0mrequest\u001b[0m\u001b[1;33m,\u001b[0m \u001b[1;33m**\u001b[0m\u001b[0mkwargs\u001b[0m\u001b[1;33m)\u001b[0m\u001b[1;33m\u001b[0m\u001b[1;33m\u001b[0m\u001b[0m\n\u001b[0m\u001b[0;32m    656\u001b[0m \u001b[1;33m\u001b[0m\u001b[0m\n\u001b[0;32m    657\u001b[0m         \u001b[1;31m# Total elapsed time of the request (approximately)\u001b[0m\u001b[1;33m\u001b[0m\u001b[1;33m\u001b[0m\u001b[1;33m\u001b[0m\u001b[0m\n",
      "\u001b[1;32mC:\\Users\\BaeJaeyong\\anaconda3\\envs\\winter_project_env\\lib\\site-packages\\requests\\adapters.py\u001b[0m in \u001b[0;36msend\u001b[1;34m(self, request, stream, timeout, verify, cert, proxies)\u001b[0m\n\u001b[0;32m    447\u001b[0m                     \u001b[0mdecode_content\u001b[0m\u001b[1;33m=\u001b[0m\u001b[1;32mFalse\u001b[0m\u001b[1;33m,\u001b[0m\u001b[1;33m\u001b[0m\u001b[1;33m\u001b[0m\u001b[0m\n\u001b[0;32m    448\u001b[0m                     \u001b[0mretries\u001b[0m\u001b[1;33m=\u001b[0m\u001b[0mself\u001b[0m\u001b[1;33m.\u001b[0m\u001b[0mmax_retries\u001b[0m\u001b[1;33m,\u001b[0m\u001b[1;33m\u001b[0m\u001b[1;33m\u001b[0m\u001b[0m\n\u001b[1;32m--> 449\u001b[1;33m                     \u001b[0mtimeout\u001b[0m\u001b[1;33m=\u001b[0m\u001b[0mtimeout\u001b[0m\u001b[1;33m\u001b[0m\u001b[1;33m\u001b[0m\u001b[0m\n\u001b[0m\u001b[0;32m    450\u001b[0m                 )\n\u001b[0;32m    451\u001b[0m \u001b[1;33m\u001b[0m\u001b[0m\n",
      "\u001b[1;32mC:\\Users\\BaeJaeyong\\anaconda3\\envs\\winter_project_env\\lib\\site-packages\\urllib3\\connectionpool.py\u001b[0m in \u001b[0;36murlopen\u001b[1;34m(self, method, url, body, headers, retries, redirect, assert_same_host, timeout, pool_timeout, release_conn, chunked, body_pos, **response_kw)\u001b[0m\n\u001b[0;32m    704\u001b[0m                 \u001b[0mbody\u001b[0m\u001b[1;33m=\u001b[0m\u001b[0mbody\u001b[0m\u001b[1;33m,\u001b[0m\u001b[1;33m\u001b[0m\u001b[1;33m\u001b[0m\u001b[0m\n\u001b[0;32m    705\u001b[0m                 \u001b[0mheaders\u001b[0m\u001b[1;33m=\u001b[0m\u001b[0mheaders\u001b[0m\u001b[1;33m,\u001b[0m\u001b[1;33m\u001b[0m\u001b[1;33m\u001b[0m\u001b[0m\n\u001b[1;32m--> 706\u001b[1;33m                 \u001b[0mchunked\u001b[0m\u001b[1;33m=\u001b[0m\u001b[0mchunked\u001b[0m\u001b[1;33m,\u001b[0m\u001b[1;33m\u001b[0m\u001b[1;33m\u001b[0m\u001b[0m\n\u001b[0m\u001b[0;32m    707\u001b[0m             )\n\u001b[0;32m    708\u001b[0m \u001b[1;33m\u001b[0m\u001b[0m\n",
      "\u001b[1;32mC:\\Users\\BaeJaeyong\\anaconda3\\envs\\winter_project_env\\lib\\site-packages\\urllib3\\connectionpool.py\u001b[0m in \u001b[0;36m_make_request\u001b[1;34m(self, conn, method, url, timeout, chunked, **httplib_request_kw)\u001b[0m\n\u001b[0;32m    380\u001b[0m         \u001b[1;31m# Trigger any extra validation we need to do.\u001b[0m\u001b[1;33m\u001b[0m\u001b[1;33m\u001b[0m\u001b[1;33m\u001b[0m\u001b[0m\n\u001b[0;32m    381\u001b[0m         \u001b[1;32mtry\u001b[0m\u001b[1;33m:\u001b[0m\u001b[1;33m\u001b[0m\u001b[1;33m\u001b[0m\u001b[0m\n\u001b[1;32m--> 382\u001b[1;33m             \u001b[0mself\u001b[0m\u001b[1;33m.\u001b[0m\u001b[0m_validate_conn\u001b[0m\u001b[1;33m(\u001b[0m\u001b[0mconn\u001b[0m\u001b[1;33m)\u001b[0m\u001b[1;33m\u001b[0m\u001b[1;33m\u001b[0m\u001b[0m\n\u001b[0m\u001b[0;32m    383\u001b[0m         \u001b[1;32mexcept\u001b[0m \u001b[1;33m(\u001b[0m\u001b[0mSocketTimeout\u001b[0m\u001b[1;33m,\u001b[0m \u001b[0mBaseSSLError\u001b[0m\u001b[1;33m)\u001b[0m \u001b[1;32mas\u001b[0m \u001b[0me\u001b[0m\u001b[1;33m:\u001b[0m\u001b[1;33m\u001b[0m\u001b[1;33m\u001b[0m\u001b[0m\n\u001b[0;32m    384\u001b[0m             \u001b[1;31m# Py2 raises this as a BaseSSLError, Py3 raises it as socket timeout.\u001b[0m\u001b[1;33m\u001b[0m\u001b[1;33m\u001b[0m\u001b[1;33m\u001b[0m\u001b[0m\n",
      "\u001b[1;32mC:\\Users\\BaeJaeyong\\anaconda3\\envs\\winter_project_env\\lib\\site-packages\\urllib3\\connectionpool.py\u001b[0m in \u001b[0;36m_validate_conn\u001b[1;34m(self, conn)\u001b[0m\n\u001b[0;32m   1008\u001b[0m         \u001b[1;31m# Force connect early to allow us to validate the connection.\u001b[0m\u001b[1;33m\u001b[0m\u001b[1;33m\u001b[0m\u001b[1;33m\u001b[0m\u001b[0m\n\u001b[0;32m   1009\u001b[0m         \u001b[1;32mif\u001b[0m \u001b[1;32mnot\u001b[0m \u001b[0mgetattr\u001b[0m\u001b[1;33m(\u001b[0m\u001b[0mconn\u001b[0m\u001b[1;33m,\u001b[0m \u001b[1;34m\"sock\"\u001b[0m\u001b[1;33m,\u001b[0m \u001b[1;32mNone\u001b[0m\u001b[1;33m)\u001b[0m\u001b[1;33m:\u001b[0m  \u001b[1;31m# AppEngine might not have  `.sock`\u001b[0m\u001b[1;33m\u001b[0m\u001b[1;33m\u001b[0m\u001b[0m\n\u001b[1;32m-> 1010\u001b[1;33m             \u001b[0mconn\u001b[0m\u001b[1;33m.\u001b[0m\u001b[0mconnect\u001b[0m\u001b[1;33m(\u001b[0m\u001b[1;33m)\u001b[0m\u001b[1;33m\u001b[0m\u001b[1;33m\u001b[0m\u001b[0m\n\u001b[0m\u001b[0;32m   1011\u001b[0m \u001b[1;33m\u001b[0m\u001b[0m\n\u001b[0;32m   1012\u001b[0m         \u001b[1;32mif\u001b[0m \u001b[1;32mnot\u001b[0m \u001b[0mconn\u001b[0m\u001b[1;33m.\u001b[0m\u001b[0mis_verified\u001b[0m\u001b[1;33m:\u001b[0m\u001b[1;33m\u001b[0m\u001b[1;33m\u001b[0m\u001b[0m\n",
      "\u001b[1;32mC:\\Users\\BaeJaeyong\\anaconda3\\envs\\winter_project_env\\lib\\site-packages\\urllib3\\connection.py\u001b[0m in \u001b[0;36mconnect\u001b[1;34m(self)\u001b[0m\n\u001b[0;32m    419\u001b[0m             \u001b[0mserver_hostname\u001b[0m\u001b[1;33m=\u001b[0m\u001b[0mserver_hostname\u001b[0m\u001b[1;33m,\u001b[0m\u001b[1;33m\u001b[0m\u001b[1;33m\u001b[0m\u001b[0m\n\u001b[0;32m    420\u001b[0m             \u001b[0mssl_context\u001b[0m\u001b[1;33m=\u001b[0m\u001b[0mcontext\u001b[0m\u001b[1;33m,\u001b[0m\u001b[1;33m\u001b[0m\u001b[1;33m\u001b[0m\u001b[0m\n\u001b[1;32m--> 421\u001b[1;33m             \u001b[0mtls_in_tls\u001b[0m\u001b[1;33m=\u001b[0m\u001b[0mtls_in_tls\u001b[0m\u001b[1;33m,\u001b[0m\u001b[1;33m\u001b[0m\u001b[1;33m\u001b[0m\u001b[0m\n\u001b[0m\u001b[0;32m    422\u001b[0m         )\n\u001b[0;32m    423\u001b[0m \u001b[1;33m\u001b[0m\u001b[0m\n",
      "\u001b[1;32mC:\\Users\\BaeJaeyong\\anaconda3\\envs\\winter_project_env\\lib\\site-packages\\urllib3\\util\\ssl_.py\u001b[0m in \u001b[0;36mssl_wrap_socket\u001b[1;34m(sock, keyfile, certfile, cert_reqs, ca_certs, server_hostname, ssl_version, ciphers, ssl_context, ca_cert_dir, key_password, ca_cert_data, tls_in_tls)\u001b[0m\n\u001b[0;32m    379\u001b[0m     \u001b[1;32mif\u001b[0m \u001b[0mca_certs\u001b[0m \u001b[1;32mor\u001b[0m \u001b[0mca_cert_dir\u001b[0m \u001b[1;32mor\u001b[0m \u001b[0mca_cert_data\u001b[0m\u001b[1;33m:\u001b[0m\u001b[1;33m\u001b[0m\u001b[1;33m\u001b[0m\u001b[0m\n\u001b[0;32m    380\u001b[0m         \u001b[1;32mtry\u001b[0m\u001b[1;33m:\u001b[0m\u001b[1;33m\u001b[0m\u001b[1;33m\u001b[0m\u001b[0m\n\u001b[1;32m--> 381\u001b[1;33m             \u001b[0mcontext\u001b[0m\u001b[1;33m.\u001b[0m\u001b[0mload_verify_locations\u001b[0m\u001b[1;33m(\u001b[0m\u001b[0mca_certs\u001b[0m\u001b[1;33m,\u001b[0m \u001b[0mca_cert_dir\u001b[0m\u001b[1;33m,\u001b[0m \u001b[0mca_cert_data\u001b[0m\u001b[1;33m)\u001b[0m\u001b[1;33m\u001b[0m\u001b[1;33m\u001b[0m\u001b[0m\n\u001b[0m\u001b[0;32m    382\u001b[0m         \u001b[1;32mexcept\u001b[0m \u001b[1;33m(\u001b[0m\u001b[0mIOError\u001b[0m\u001b[1;33m,\u001b[0m \u001b[0mOSError\u001b[0m\u001b[1;33m)\u001b[0m \u001b[1;32mas\u001b[0m \u001b[0me\u001b[0m\u001b[1;33m:\u001b[0m\u001b[1;33m\u001b[0m\u001b[1;33m\u001b[0m\u001b[0m\n\u001b[0;32m    383\u001b[0m             \u001b[1;32mraise\u001b[0m \u001b[0mSSLError\u001b[0m\u001b[1;33m(\u001b[0m\u001b[0me\u001b[0m\u001b[1;33m)\u001b[0m\u001b[1;33m\u001b[0m\u001b[1;33m\u001b[0m\u001b[0m\n",
      "\u001b[1;31mKeyboardInterrupt\u001b[0m: "
     ]
    }
   ],
   "source": [
    "while 1:\n",
    "\n",
    "    print(get_current_price(f\"KRW-{Symbol['key1']}\"))\n",
    "    print(get_current_price(f\"KRW-{Symbol['key1']}\"))\n",
    "    print(get_current_price(f\"KRW-{Symbol['key1']}\"))\n",
    "    print(get_current_price(f\"KRW-{Symbol['key1']}\"))\n",
    "    print(upbit.get_balances(contain_req = True))"
   ]
  },
  {
   "cell_type": "code",
   "execution_count": 55,
   "metadata": {},
   "outputs": [
    {
     "data": {
      "text/plain": [
       "0.03568175"
      ]
     },
     "execution_count": 55,
     "metadata": {},
     "output_type": "execute_result"
    }
   ],
   "source": [
    "upbit.get_balance(ticker=f\"{Symbol['key2']}\")"
   ]
  },
  {
   "cell_type": "code",
   "execution_count": 58,
   "metadata": {},
   "outputs": [
    {
     "name": "stdout",
     "output_type": "stream",
     "text": [
      "{'uuid': '3dfac45a-1a3b-4e70-ba5b-668585f3b7f3', 'side': 'ask', 'ord_type': 'market', 'price': None, 'state': 'wait', 'market': 'BTC-ETH', 'created_at': '2021-01-11T00:08:01+09:00', 'volume': '0.03568175', 'remaining_volume': '0.03568175', 'reserved_fee': '0.0', 'remaining_fee': '0.0', 'paid_fee': '0.0', 'locked': '0.03568175', 'executed_volume': '0.0', 'trades_count': 0}\n"
     ]
    }
   ],
   "source": [
    "order = upbit.sell_market_order(f\"{Symbol['key1']}-{Symbol['key2']}\", upbit.get_balance(ticker=f\"{Symbol['key2']}\"))\n",
    "print(order)\n"
   ]
  },
  {
   "cell_type": "code",
   "execution_count": 59,
   "metadata": {},
   "outputs": [
    {
     "data": {
      "text/plain": [
       "True"
      ]
     },
     "execution_count": 59,
     "metadata": {},
     "output_type": "execute_result"
    }
   ],
   "source": [
    "upbit.get_balance(ticker=f\"{Symbol['key1']}\") is not None\n",
    "            "
   ]
  },
  {
   "cell_type": "code",
   "execution_count": 60,
   "metadata": {
    "scrolled": true
   },
   "outputs": [
    {
     "name": "stdout",
     "output_type": "stream",
     "text": [
      "{'uuid': 'ff2ee3c5-e6a7-4480-86c7-5d6c5b651555', 'side': 'ask', 'ord_type': 'market', 'price': None, 'state': 'wait', 'market': 'KRW-BTC', 'created_at': '2021-01-11T00:09:22+09:00', 'volume': '0.0011651', 'remaining_volume': '0.0011651', 'reserved_fee': '0.0', 'remaining_fee': '0.0', 'paid_fee': '0.0', 'locked': '0.0011651', 'executed_volume': '0.0', 'trades_count': 0}\n"
     ]
    }
   ],
   "source": [
    "order = upbit.sell_market_order(f\"KRW-{Symbol['key1']}\",upbit.get_balance(ticker=f\"{Symbol['key1']}\"))\n",
    "print(order)"
   ]
  },
  {
   "cell_type": "code",
   "execution_count": 66,
   "metadata": {
    "scrolled": true
   },
   "outputs": [
    {
     "name": "stdout",
     "output_type": "stream",
     "text": [
      "{'uuid': 'd7ceafb7-0692-4161-9be6-1b509a75439b', 'side': 'bid', 'ord_type': 'price', 'price': '0.00115306', 'state': 'wait', 'market': 'BTC-ETH', 'created_at': '2021-01-11T00:15:21+09:00', 'volume': None, 'remaining_volume': None, 'reserved_fee': '0.00000288265', 'remaining_fee': '0.00000288265', 'paid_fee': '0.0', 'locked': '0.00115594265', 'executed_volume': '0.0', 'trades_count': 0}\n"
     ]
    }
   ],
   "source": [
    "order = upbit.buy_market_order(f\"{Symbol['key1']}-{Symbol['key2']}\",\n",
    "                                               upbit.get_balance(ticker=f\"{Symbol['key1']}\")/1.0025)\n",
    "print(order)\n"
   ]
  },
  {
   "cell_type": "code",
   "execution_count": 67,
   "metadata": {},
   "outputs": [
    {
     "name": "stdout",
     "output_type": "stream",
     "text": [
      "{'uuid': 'b4787269-3472-4e3f-a7d1-ab596c61a0c7', 'side': 'ask', 'ord_type': 'market', 'price': None, 'state': 'wait', 'market': 'KRW-ETH', 'created_at': '2021-01-11T00:15:23+09:00', 'volume': '0.03500735', 'remaining_volume': '0.03500735', 'reserved_fee': '0.0', 'remaining_fee': '0.0', 'paid_fee': '0.0', 'locked': '0.03500735', 'executed_volume': '0.0', 'trades_count': 0}\n"
     ]
    }
   ],
   "source": [
    "order = upbit.sell_market_order(f\"KRW-{Symbol['key2']}\",\n",
    "                                                        upbit.get_balance(ticker=f\"{Symbol['key2']}\"))\n",
    "print(order)\n"
   ]
  },
  {
   "cell_type": "code",
   "execution_count": 78,
   "metadata": {},
   "outputs": [
    {
     "name": "stdout",
     "output_type": "stream",
     "text": [
      "{'error': {'message': '주문수량 단위를 잘못 입력하셨습니다. 확인 후 시도해주세요.', 'name': 'invalid_volume_ask'}}\n"
     ]
    }
   ],
   "source": [
    "order = upbit.sell_market_order(f\"KRW-{Symbol['key1']}\",\n",
    "                                                        0.000000001)\n",
    "print(order)"
   ]
  },
  {
   "cell_type": "code",
   "execution_count": 120,
   "metadata": {},
   "outputs": [
    {
     "data": {
      "text/plain": [
       "44137000.0"
      ]
     },
     "execution_count": 120,
     "metadata": {},
     "output_type": "execute_result"
    }
   ],
   "source": [
    "pyupbit.get_orderbook(tickers=\"KRW-BTC\")[0][\"orderbook_units\"][0][\"ask_price\"] #매도 호가\n",
    "pyupbit.get_orderbook(tickers=\"KRW-BTC\")[0][\"orderbook_units\"][0][\"bid_price\"] #매수 호가"
   ]
  },
  {
   "cell_type": "code",
   "execution_count": 134,
   "metadata": {},
   "outputs": [
    {
     "data": {
      "text/plain": [
       "True"
      ]
     },
     "execution_count": 134,
     "metadata": {},
     "output_type": "execute_result"
    }
   ],
   "source": [
    "get_current_price(f\"KRW-{Symbol['key1']}\")==pyupbit.get_orderbook(tickers=\"KRW-BTC\")[0][\"orderbook_units\"][0][\"bid_price\"] #매수 호가"
   ]
  },
  {
   "cell_type": "code",
   "execution_count": 135,
   "metadata": {},
   "outputs": [
    {
     "data": {
      "text/plain": [
       "0"
      ]
     },
     "execution_count": 135,
     "metadata": {},
     "output_type": "execute_result"
    }
   ],
   "source": [
    "upbit.get_balance(f\"{Symbol['key2']}\")"
   ]
  },
  {
   "cell_type": "code",
   "execution_count": 72,
   "metadata": {},
   "outputs": [],
   "source": [
    "order = {'uuid': 'f9386bff-c5d4-48da-b4c2-cfbd95b95063', 'side': 'ask', 'ord_type': 'market', 'price': None, 'state': 'wait', 'market': 'KRW-BTC', 'created_at': '2021-01-11T00:16:21+09:00', 'volume': '0.00114079', 'remaining_volume': '0.00114079', 'reserved_fee': '0.0', 'remaining_fee': '0.0', 'paid_fee': '0.0', 'locked': '0.00114079', 'executed_volume': '0.0', 'trades_count': 0}"
   ]
  },
  {
   "cell_type": "code",
   "execution_count": 75,
   "metadata": {
    "scrolled": true
   },
   "outputs": [
    {
     "ename": "KeyError",
     "evalue": "'message'",
     "output_type": "error",
     "traceback": [
      "\u001b[1;31m---------------------------------------------------------------------------\u001b[0m",
      "\u001b[1;31mKeyError\u001b[0m                                  Traceback (most recent call last)",
      "\u001b[1;32m<ipython-input-75-4e895e3768c5>\u001b[0m in \u001b[0;36m<module>\u001b[1;34m\u001b[0m\n\u001b[1;32m----> 1\u001b[1;33m \u001b[0morder\u001b[0m\u001b[1;33m[\u001b[0m\u001b[1;34m\"message\"\u001b[0m\u001b[1;33m]\u001b[0m\u001b[1;33m\u001b[0m\u001b[1;33m\u001b[0m\u001b[0m\n\u001b[0m",
      "\u001b[1;31mKeyError\u001b[0m: 'message'"
     ]
    }
   ],
   "source": [
    "order[\"message\"]"
   ]
  },
  {
   "cell_type": "code",
   "execution_count": 136,
   "metadata": {},
   "outputs": [],
   "source": [
    "%config Completer.use_jedi = False"
   ]
  },
  {
   "cell_type": "code",
   "execution_count": 3,
   "metadata": {},
   "outputs": [
    {
     "name": "stdout",
     "output_type": "stream",
     "text": [
      "AttributeError\n",
      "TypeError\n"
     ]
    }
   ],
   "source": [
    "upbit.get_balance()"
   ]
  },
  {
   "cell_type": "code",
   "execution_count": null,
   "metadata": {},
   "outputs": [],
   "source": []
  }
 ],
 "metadata": {
  "kernelspec": {
   "display_name": "[winter_proj]",
   "language": "python",
   "name": "winter_project_env"
  },
  "language_info": {
   "codemirror_mode": {
    "name": "ipython",
    "version": 3
   },
   "file_extension": ".py",
   "mimetype": "text/x-python",
   "name": "python",
   "nbconvert_exporter": "python",
   "pygments_lexer": "ipython3",
   "version": "3.8.0"
  }
 },
 "nbformat": 4,
 "nbformat_minor": 4
}
